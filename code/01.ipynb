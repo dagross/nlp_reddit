{
 "cells": [
  {
   "cell_type": "code",
   "execution_count": 1418,
   "metadata": {},
   "outputs": [],
   "source": [
    "#imports\n",
    "import pandas as pd\n",
    "import numpy as np\n",
    "import matplotlib.pyplot as plt\n",
    "import seaborn as sns\n",
    "\n",
    "from sklearn.model_selection import GridSearchCV, train_test_split\n",
    "from sklearn.pipeline import Pipeline\n",
    "from sklearn.linear_model import LogisticRegression\n",
    "from sklearn.metrics import confusion_matrix, plot_confusion_matrix\n",
    "from sklearn.neighbors import KNeighborsClassifier\n",
    "from sklearn.feature_extraction.text import TfidfTransformer,CountVectorizer\n",
    "from nltk.corpus import stopwords\n",
    "import regex as re\n",
    "import requests\n",
    "from logging import raiseExceptions\n",
    "from nltk.sentiment.vader import SentimentIntensityAnalyzer\n",
    "import contractions\n",
    "import nltk\n",
    "\n",
    "\n",
    "\n",
    "import time\n",
    "import spacy\n",
    "import spacy.cli\n",
    "\n",
    "pd.set_option('max_colwidth', 400)\n",
    "\n",
    "\n",
    "\n",
    "\n"
   ]
  },
  {
   "cell_type": "markdown",
   "metadata": {},
   "source": [
    "##### Get Submissions method"
   ]
  },
  {
   "cell_type": "code",
   "execution_count": 877,
   "metadata": {},
   "outputs": [],
   "source": [
    "def get_submission(theme, requests_amount):\n",
    "    list_submission=[]\n",
    "    counter=0\n",
    "    sum=0\n",
    "    for x in range(1,requests_amount+1):\n",
    "        url_topic_1=f\"https://api.pushshift.io/reddit/search/submission/?subreddit={theme}&fields=selftext,removed_by_category&size=100&before={counter}d\"\n",
    "        req_1=requests.get(url_topic_1)\n",
    "        #to avoid overrequesting API, code is waiting for a second after request\n",
    "        time.sleep(1)\n",
    "\n",
    "        if req_1.status_code==200:\n",
    "            counter+=1\n",
    "            sq=req_1.json()            \n",
    "            for x in sq[\"data\"]:\n",
    "                ##I am checking \"removed by category\" field, to exclude spam and inappropriate posts, deleted by bot.\n",
    "                if \"removed_by_category\" not in x:\n",
    "                    list_submission.append(x[\"selftext\"])\n",
    "                    sum+=1                \n",
    "        else:\n",
    "            print(f\"There was a mistake {req_1.status_code}\")\n",
    "            return list_submission\n",
    "    print(f\"{sum} submissions downloaded\")       \n",
    "    return list_submission"
   ]
  },
  {
   "cell_type": "markdown",
   "metadata": {},
   "source": [
    "##### Get commentaries method"
   ]
  },
  {
   "cell_type": "code",
   "execution_count": 1086,
   "metadata": {},
   "outputs": [],
   "source": [
    "#processing url and getting list of comments\n",
    "\n",
    "def get_comment(theme,quant):\n",
    "    list_comments=[]\n",
    "    counter=0\n",
    "    for x in range(1,36,2):\n",
    "        url_topic_1=f\"https://api.pushshift.io/reddit/search/comment/?size={quant}&subreddit={theme}&before={x}d\"\n",
    "        req_1=requests.get(url_topic_1)\n",
    "        if counter%2==0:\n",
    "            #Waiting for a second each 2nd request\n",
    "            time.sleep(1)\n",
    "        if req_1.status_code==200:\n",
    "            counter+=1\n",
    "            sq=req_1.json()            \n",
    "            for x in sq[\"data\"]:\n",
    "                list_comments.append(x['body'])                \n",
    "        else:\n",
    "            return f\"Code was {req_1.status_code}\"\n",
    "    return list_comments"
   ]
  },
  {
   "cell_type": "markdown",
   "metadata": {},
   "source": [
    "##### Cleaning with RegExp"
   ]
  },
  {
   "cell_type": "code",
   "execution_count": 1537,
   "metadata": {},
   "outputs": [],
   "source": [
    "#using regexp to clean recieved comments\n",
    "def clean(sq):\n",
    "    sq=[x.lower() for x in sq if x.find(\"Your submission has been\")==-1] #drops posts of antispam bot\n",
    "    sq=[x.lower() for x in sq if x.find(\"delete\")==-1] # drops posts with \"delete\" in them\n",
    "    sq=[x.lower() for x in sq if x.find(\"title\")==-1] \n",
    "    sq=[re.sub(\"(https?:\\/\\/)?([\\da-z\\.-]+)\\.([a-z\\.]{2,6})([\\/\\w \\.-]*)\",\" \", x.lower()) for x in sq] #drops all links\n",
    "    sq=[re.sub(\"(.)\\1{2}\",\" \", x.lower()) for x in sq] # drops all words where 3 same letters are put together like \"aaaaand\", \"soooooo\"\n",
    "    sq=[re.sub(\"\\W+\",\" \", x.lower()) for x in sq] #drops all whitespace symbols like \\n \\t etc.\n",
    "    sq=[re.sub(\"\\w*\\d\\w*\",\" \", x.lower()) for x in sq] #drops all words with numbers in them \n",
    "    sq=[re.sub(\"\\s[a-z]{1,2}\\s\",\" \", x.lower()) for x in sq] #drops all two letter words, because almost all of them are Stop-words\n",
    "    sq=[re.sub(\"\\s[a-z]{1,1}\\s\",\" \", x.lower()) for x in sq] #drops all one letter words,for some reason previous regex left some of those\n",
    "    sq=[x.lower() for x in sq if x.find(\"removed\")==-1] #drops \"removed\" comments, sent by api \n",
    "    sq=set(sq) #Leaving only unique values\n",
    "\n",
    "    \n",
    "    return sq\n"
   ]
  },
  {
   "cell_type": "markdown",
   "metadata": {},
   "source": [
    "### Downloading and cleaning comments"
   ]
  },
  {
   "cell_type": "code",
   "execution_count": 1088,
   "metadata": {},
   "outputs": [
    {
     "data": {
      "text/plain": [
       "2183"
      ]
     },
     "execution_count": 1088,
     "metadata": {},
     "output_type": "execute_result"
    }
   ],
   "source": [
    "AskMan_comment=get_comment(\"AskMen\",130)\n",
    "len(set(AskMan_comment))"
   ]
  },
  {
   "cell_type": "code",
   "execution_count": 1089,
   "metadata": {},
   "outputs": [
    {
     "data": {
      "text/plain": [
       "2096"
      ]
     },
     "execution_count": 1089,
     "metadata": {},
     "output_type": "execute_result"
    }
   ],
   "source": [
    "AskWoman_comment=get_comment(\"AskWomen\",130)\n",
    "len(set(AskWoman_comment))"
   ]
  },
  {
   "cell_type": "markdown",
   "metadata": {},
   "source": [
    "Adding columns for classification and saving dataset"
   ]
  },
  {
   "cell_type": "code",
   "execution_count": 1104,
   "metadata": {},
   "outputs": [],
   "source": [
    "AskMan_comment=clean(set(AskMan_comment))\n",
    "AskMan_comment_df=pd.DataFrame(AskMan_comment)\n",
    "AskMan_comment_df['sex']=1\n",
    "AskMan_comment_df.columns=[\"comment\",'sex']\n",
    "\n",
    "AskWoman_comment=clean(set(AskWoman_comment))\n",
    "AskWoman_comment_df=pd.DataFrame(AskWoman_comment)\n",
    "AskWoman_comment_df['sex']=0\n",
    "AskWoman_comment_df.columns=[\"comment\",'sex']\n",
    "\n",
    "AskMan_comment_df.shape, AskWoman_comment_df.shape"
   ]
  },
  {
   "cell_type": "code",
   "execution_count": null,
   "metadata": {},
   "outputs": [],
   "source": [
    "final_comment_df=pd.concat([AskMan_comment_df,AskWoman_comment_df])\n",
    "final_comment_df.reset_index(inplace=True,drop=True)\n",
    "final_comment_df\n",
    "\n",
    "final_comment_df.to_csv('../data/df_comments.csv',index=False)"
   ]
  },
  {
   "cell_type": "markdown",
   "metadata": {},
   "source": [
    "----"
   ]
  },
  {
   "cell_type": "markdown",
   "metadata": {},
   "source": [
    "### Downloading Submissions"
   ]
  },
  {
   "cell_type": "code",
   "execution_count": 839,
   "metadata": {},
   "outputs": [
    {
     "name": "stdout",
     "output_type": "stream",
     "text": [
      "5335 submissions downloaded\n"
     ]
    }
   ],
   "source": [
    "AskMan=get_submission(\"AskMen\",130)\n"
   ]
  },
  {
   "cell_type": "code",
   "execution_count": 840,
   "metadata": {},
   "outputs": [
    {
     "data": {
      "text/plain": [
       "2682"
      ]
     },
     "execution_count": 840,
     "metadata": {},
     "output_type": "execute_result"
    }
   ],
   "source": [
    "len(set(AskMan))"
   ]
  },
  {
   "cell_type": "code",
   "execution_count": 842,
   "metadata": {},
   "outputs": [
    {
     "name": "stdout",
     "output_type": "stream",
     "text": [
      "5665 submissions downloaded\n"
     ]
    },
    {
     "data": {
      "text/plain": [
       "2080"
      ]
     },
     "execution_count": 842,
     "metadata": {},
     "output_type": "execute_result"
    }
   ],
   "source": [
    "AskWoman=get_submission(\"AskWomen\",130)\n",
    "len(set(AskWoman))\n"
   ]
  },
  {
   "cell_type": "code",
   "execution_count": 1538,
   "metadata": {},
   "outputs": [
    {
     "name": "stdout",
     "output_type": "stream",
     "text": [
      "Unique AskMan comments:  2594\n",
      "Unique AskWoman comments: 2017\n"
     ]
    }
   ],
   "source": [
    "c_ask_man=clean(AskMan)\n",
    "c_ask_woman=clean(AskWoman)\n",
    "print(f\"Unique AskMan comments:  {len(c_ask_man)}\")\n",
    "print(f\"Unique AskWoman comments: {len(c_ask_woman)}\")"
   ]
  },
  {
   "cell_type": "markdown",
   "metadata": {},
   "source": [
    "Adding target column for future classification"
   ]
  },
  {
   "cell_type": "code",
   "execution_count": 1539,
   "metadata": {},
   "outputs": [
    {
     "data": {
      "text/html": [
       "<div>\n",
       "<style scoped>\n",
       "    .dataframe tbody tr th:only-of-type {\n",
       "        vertical-align: middle;\n",
       "    }\n",
       "\n",
       "    .dataframe tbody tr th {\n",
       "        vertical-align: top;\n",
       "    }\n",
       "\n",
       "    .dataframe thead th {\n",
       "        text-align: right;\n",
       "    }\n",
       "</style>\n",
       "<table border=\"1\" class=\"dataframe\">\n",
       "  <thead>\n",
       "    <tr style=\"text-align: right;\">\n",
       "      <th></th>\n",
       "      <th>comment</th>\n",
       "      <th>sex</th>\n",
       "    </tr>\n",
       "  </thead>\n",
       "  <tbody>\n",
       "    <tr>\n",
       "      <th>1</th>\n",
       "      <td>it happened today for and was told friend that talking me like therapy feel like that the best thing anyone has ever said me got thinking what are your all experiences</td>\n",
       "      <td>1</td>\n",
       "    </tr>\n",
       "    <tr>\n",
       "      <th>2</th>\n",
       "      <td>is turn off woman makes the first move   wanna hook with man going date with   couple days he doesn make the first move want is unsettling woman wants hook the first date what kind impression you get from them don sleep around often don wanna give him that impression just type</td>\n",
       "      <td>1</td>\n",
       "    </tr>\n",
       "    <tr>\n",
       "      <th>3</th>\n",
       "      <td>my parents and family over the holidays put on the spot during dinner and asked about dating life told them that dating but nothing serious going pretty busy with career and just hanging with friends been out relationship for while has anyone dealt with this made feel pretty shitty seeing their reactions also being that weird age where everyone getting married are serious relationships gives f...</td>\n",
       "      <td>1</td>\n",
       "    </tr>\n",
       "    <tr>\n",
       "      <th>4</th>\n",
       "      <td>context about     ask about what do the first few exchanges despite being my profile now curious why there are those who dont read the profile and write ups</td>\n",
       "      <td>1</td>\n",
       "    </tr>\n",
       "    <tr>\n",
       "      <th>5</th>\n",
       "      <td>with the intention send to other people besides your</td>\n",
       "      <td>1</td>\n",
       "    </tr>\n",
       "    <tr>\n",
       "      <th>...</th>\n",
       "      <td>...</td>\n",
       "      <td>...</td>\n",
       "    </tr>\n",
       "    <tr>\n",
       "      <th>2589</th>\n",
       "      <td>i want remove pubic hair but honestly don know what the best method do want do safe and efficient don know depilatory cream safe use that part my body laser not option for right now</td>\n",
       "      <td>1</td>\n",
       "    </tr>\n",
       "    <tr>\n",
       "      <th>2590</th>\n",
       "      <td>i have this friend whom am having some fun with asked where want him finish</td>\n",
       "      <td>1</td>\n",
       "    </tr>\n",
       "    <tr>\n",
       "      <th>2591</th>\n",
       "      <td>with soft normal grip and normal stroking ponr point no return basically know most people edge which causes them last long but wondering about the initial ponr curious worry might reaching too fast</td>\n",
       "      <td>1</td>\n",
       "    </tr>\n",
       "    <tr>\n",
       "      <th>2592</th>\n",
       "      <td>if you were going through stresses life would you upset your girlfriend still wanted attention least phone calls</td>\n",
       "      <td>1</td>\n",
       "    </tr>\n",
       "    <tr>\n",
       "      <th>2593</th>\n",
       "      <td>somehow always lose that battle commitment</td>\n",
       "      <td>1</td>\n",
       "    </tr>\n",
       "  </tbody>\n",
       "</table>\n",
       "<p>2593 rows × 2 columns</p>\n",
       "</div>"
      ],
      "text/plain": [
       "                                                                                                                                                                                                                                                                                                                                                                                                              comment  \\\n",
       "1                                                                                                                                                                                                                                            it happened today for and was told friend that talking me like therapy feel like that the best thing anyone has ever said me got thinking what are your all experiences    \n",
       "2                                                                                                                              is turn off woman makes the first move   wanna hook with man going date with   couple days he doesn make the first move want is unsettling woman wants hook the first date what kind impression you get from them don sleep around often don wanna give him that impression just type    \n",
       "3     my parents and family over the holidays put on the spot during dinner and asked about dating life told them that dating but nothing serious going pretty busy with career and just hanging with friends been out relationship for while has anyone dealt with this made feel pretty shitty seeing their reactions also being that weird age where everyone getting married are serious relationships gives f...   \n",
       "4                                                                                                                                                                                                                                                       context about     ask about what do the first few exchanges despite being my profile now curious why there are those who dont read the profile and write ups    \n",
       "5                                                                                                                                                                                                                                                                                                                                                               with the intention send to other people besides your    \n",
       "...                                                                                                                                                                                                                                                                                                                                                                                                               ...   \n",
       "2589                                                                                                                                                                                                                           i want remove pubic hair but honestly don know what the best method do want do safe and efficient don know depilatory cream safe use that part my body laser not option for right now    \n",
       "2590                                                                                                                                                                                                                                                                                                                                      i have this friend whom am having some fun with asked where want him finish   \n",
       "2591                                                                                                                                                                                                           with soft normal grip and normal stroking ponr point no return basically know most people edge which causes them last long but wondering about the initial ponr curious worry might reaching too fast    \n",
       "2592                                                                                                                                                                                                                                                                                                if you were going through stresses life would you upset your girlfriend still wanted attention least phone calls    \n",
       "2593                                                                                                                                                                                                                                                                                                                                                                       somehow always lose that battle commitment   \n",
       "\n",
       "      sex  \n",
       "1       1  \n",
       "2       1  \n",
       "3       1  \n",
       "4       1  \n",
       "5       1  \n",
       "...   ...  \n",
       "2589    1  \n",
       "2590    1  \n",
       "2591    1  \n",
       "2592    1  \n",
       "2593    1  \n",
       "\n",
       "[2593 rows x 2 columns]"
      ]
     },
     "execution_count": 1539,
     "metadata": {},
     "output_type": "execute_result"
    }
   ],
   "source": [
    "df_cleaned_man=pd.DataFrame(data=c_ask_man)\n",
    "df_cleaned_man[\"sex\"]=1\n",
    "df_cleaned_man.columns = [\"comment\",\"sex\"]\n",
    "df_cleaned_man=df_cleaned_man[df_cleaned_man[\"comment\"]!=\"\"]\n",
    "df_cleaned_man\n"
   ]
  },
  {
   "cell_type": "code",
   "execution_count": 1540,
   "metadata": {},
   "outputs": [
    {
     "data": {
      "text/html": [
       "<div>\n",
       "<style scoped>\n",
       "    .dataframe tbody tr th:only-of-type {\n",
       "        vertical-align: middle;\n",
       "    }\n",
       "\n",
       "    .dataframe tbody tr th {\n",
       "        vertical-align: top;\n",
       "    }\n",
       "\n",
       "    .dataframe thead th {\n",
       "        text-align: right;\n",
       "    }\n",
       "</style>\n",
       "<table border=\"1\" class=\"dataframe\">\n",
       "  <thead>\n",
       "    <tr style=\"text-align: right;\">\n",
       "      <th></th>\n",
       "      <th>comment</th>\n",
       "      <th>sex</th>\n",
       "    </tr>\n",
       "  </thead>\n",
       "  <tbody>\n",
       "    <tr>\n",
       "      <th>1</th>\n",
       "      <td>i find that have trouble missing ex the weekends and wondering women experience that too</td>\n",
       "      <td>0</td>\n",
       "    </tr>\n",
       "    <tr>\n",
       "      <th>2</th>\n",
       "      <td>hello new here and would like make new friends and just have conversations ️ ️</td>\n",
       "      <td>0</td>\n",
       "    </tr>\n",
       "    <tr>\n",
       "      <th>3</th>\n",
       "      <td>would you raise your baby gender neutral</td>\n",
       "      <td>0</td>\n",
       "    </tr>\n",
       "    <tr>\n",
       "      <th>4</th>\n",
       "      <td>i just second baby   weeks ago have been looking old pictures myself and really obsessing over the fact that will never look that good again the saggy boobs stomach stretch marks and separation are here stay any tips for accepting yourself for who you are and for lack better term being less vain</td>\n",
       "      <td>0</td>\n",
       "    </tr>\n",
       "    <tr>\n",
       "      <th>5</th>\n",
       "      <td>my wife and can settle which would have more advantages for spouse</td>\n",
       "      <td>0</td>\n",
       "    </tr>\n",
       "    <tr>\n",
       "      <th>...</th>\n",
       "      <td>...</td>\n",
       "      <td>...</td>\n",
       "    </tr>\n",
       "    <tr>\n",
       "      <th>2012</th>\n",
       "      <td>did you tell the truth any way did threaten sue you what did you</td>\n",
       "      <td>0</td>\n",
       "    </tr>\n",
       "    <tr>\n",
       "      <th>2013</th>\n",
       "      <td>women   where are you the most receptive being approached someone who interested</td>\n",
       "      <td>0</td>\n",
       "    </tr>\n",
       "    <tr>\n",
       "      <th>2014</th>\n",
       "      <td>i have noticed many women feeling shame around certain topics sex incontinence child rearing parenting etc and am wondering what the topic most you wish people would more open and honest about</td>\n",
       "      <td>0</td>\n",
       "    </tr>\n",
       "    <tr>\n",
       "      <th>2015</th>\n",
       "      <td>i like wear them because don really need bra but when the top comes off do not want him seeing it like seeing someone without eyebrows suggestions</td>\n",
       "      <td>0</td>\n",
       "    </tr>\n",
       "    <tr>\n",
       "      <th>2016</th>\n",
       "      <td>what the story your first girl girl experience</td>\n",
       "      <td>0</td>\n",
       "    </tr>\n",
       "  </tbody>\n",
       "</table>\n",
       "<p>2016 rows × 2 columns</p>\n",
       "</div>"
      ],
      "text/plain": [
       "                                                                                                                                                                                                                                                                                                        comment  \\\n",
       "1                                                                                                                                                                                                                     i find that have trouble missing ex the weekends and wondering women experience that too    \n",
       "2                                                                                                                                                                                                                                hello new here and would like make new friends and just have conversations ️ ️   \n",
       "3                                                                                                                                                                                                                                                                     would you raise your baby gender neutral    \n",
       "4     i just second baby   weeks ago have been looking old pictures myself and really obsessing over the fact that will never look that good again the saggy boobs stomach stretch marks and separation are here stay any tips for accepting yourself for who you are and for lack better term being less vain    \n",
       "5                                                                                                                                                                                                                                            my wife and can settle which would have more advantages for spouse   \n",
       "...                                                                                                                                                                                                                                                                                                         ...   \n",
       "2012                                                                                                                                                                                                                                          did you tell the truth any way did threaten sue you what did you    \n",
       "2013                                                                                                                                                                                                                          women   where are you the most receptive being approached someone who interested    \n",
       "2014                                                                                                          i have noticed many women feeling shame around certain topics sex incontinence child rearing parenting etc and am wondering what the topic most you wish people would more open and honest about    \n",
       "2015                                                                                                                                                        i like wear them because don really need bra but when the top comes off do not want him seeing it like seeing someone without eyebrows suggestions    \n",
       "2016                                                                                                                                                                                                                                                            what the story your first girl girl experience    \n",
       "\n",
       "     sex  \n",
       "1      0  \n",
       "2      0  \n",
       "3      0  \n",
       "4      0  \n",
       "5      0  \n",
       "...   ..  \n",
       "2012   0  \n",
       "2013   0  \n",
       "2014   0  \n",
       "2015   0  \n",
       "2016   0  \n",
       "\n",
       "[2016 rows x 2 columns]"
      ]
     },
     "execution_count": 1540,
     "metadata": {},
     "output_type": "execute_result"
    }
   ],
   "source": [
    "df_cleaned_woman=pd.DataFrame(data=c_ask_woman)\n",
    "df_cleaned_woman[\"sex\"]=\"0\"\n",
    "df_cleaned_woman.columns = [\"comment\",\"sex\"]\n",
    "df_cleaned_woman=df_cleaned_woman[df_cleaned_woman[\"comment\"]!=\"\"]\n",
    "df_cleaned_woman"
   ]
  },
  {
   "cell_type": "markdown",
   "metadata": {},
   "source": [
    "Concatenating final united dataframe"
   ]
  },
  {
   "cell_type": "code",
   "execution_count": 1541,
   "metadata": {},
   "outputs": [],
   "source": [
    "final_df=pd.concat([df_cleaned_man[:2056],df_cleaned_woman[:]],ignore_index=True)"
   ]
  },
  {
   "cell_type": "code",
   "execution_count": 1542,
   "metadata": {},
   "outputs": [
    {
     "data": {
      "text/plain": [
       "(4072, 2)"
      ]
     },
     "execution_count": 1542,
     "metadata": {},
     "output_type": "execute_result"
    }
   ],
   "source": [
    "final_df.shape"
   ]
  },
  {
   "cell_type": "code",
   "execution_count": 1543,
   "metadata": {},
   "outputs": [
    {
     "data": {
      "text/html": [
       "<div>\n",
       "<style scoped>\n",
       "    .dataframe tbody tr th:only-of-type {\n",
       "        vertical-align: middle;\n",
       "    }\n",
       "\n",
       "    .dataframe tbody tr th {\n",
       "        vertical-align: top;\n",
       "    }\n",
       "\n",
       "    .dataframe thead th {\n",
       "        text-align: right;\n",
       "    }\n",
       "</style>\n",
       "<table border=\"1\" class=\"dataframe\">\n",
       "  <thead>\n",
       "    <tr style=\"text-align: right;\">\n",
       "      <th></th>\n",
       "      <th>comment</th>\n",
       "      <th>sex</th>\n",
       "    </tr>\n",
       "  </thead>\n",
       "  <tbody>\n",
       "    <tr>\n",
       "      <th>0</th>\n",
       "      <td>it happened today for and was told friend that talking me like therapy feel like that the best thing anyone has ever said me got thinking what are your all experiences</td>\n",
       "      <td>1</td>\n",
       "    </tr>\n",
       "    <tr>\n",
       "      <th>1</th>\n",
       "      <td>is turn off woman makes the first move   wanna hook with man going date with   couple days he doesn make the first move want is unsettling woman wants hook the first date what kind impression you get from them don sleep around often don wanna give him that impression just type</td>\n",
       "      <td>1</td>\n",
       "    </tr>\n",
       "    <tr>\n",
       "      <th>2</th>\n",
       "      <td>my parents and family over the holidays put on the spot during dinner and asked about dating life told them that dating but nothing serious going pretty busy with career and just hanging with friends been out relationship for while has anyone dealt with this made feel pretty shitty seeing their reactions also being that weird age where everyone getting married are serious relationships gives f...</td>\n",
       "      <td>1</td>\n",
       "    </tr>\n",
       "    <tr>\n",
       "      <th>3</th>\n",
       "      <td>context about     ask about what do the first few exchanges despite being my profile now curious why there are those who dont read the profile and write ups</td>\n",
       "      <td>1</td>\n",
       "    </tr>\n",
       "    <tr>\n",
       "      <th>4</th>\n",
       "      <td>with the intention send to other people besides your</td>\n",
       "      <td>1</td>\n",
       "    </tr>\n",
       "  </tbody>\n",
       "</table>\n",
       "</div>"
      ],
      "text/plain": [
       "                                                                                                                                                                                                                                                                                                                                                                                                           comment  \\\n",
       "0                                                                                                                                                                                                                                         it happened today for and was told friend that talking me like therapy feel like that the best thing anyone has ever said me got thinking what are your all experiences    \n",
       "1                                                                                                                           is turn off woman makes the first move   wanna hook with man going date with   couple days he doesn make the first move want is unsettling woman wants hook the first date what kind impression you get from them don sleep around often don wanna give him that impression just type    \n",
       "2  my parents and family over the holidays put on the spot during dinner and asked about dating life told them that dating but nothing serious going pretty busy with career and just hanging with friends been out relationship for while has anyone dealt with this made feel pretty shitty seeing their reactions also being that weird age where everyone getting married are serious relationships gives f...   \n",
       "3                                                                                                                                                                                                                                                    context about     ask about what do the first few exchanges despite being my profile now curious why there are those who dont read the profile and write ups    \n",
       "4                                                                                                                                                                                                                                                                                                                                                            with the intention send to other people besides your    \n",
       "\n",
       "  sex  \n",
       "0   1  \n",
       "1   1  \n",
       "2   1  \n",
       "3   1  \n",
       "4   1  "
      ]
     },
     "execution_count": 1543,
     "metadata": {},
     "output_type": "execute_result"
    }
   ],
   "source": [
    "final_df.head()"
   ]
  },
  {
   "cell_type": "markdown",
   "metadata": {},
   "source": [
    "Checking for nulls and column types"
   ]
  },
  {
   "cell_type": "code",
   "execution_count": 1544,
   "metadata": {},
   "outputs": [
    {
     "data": {
      "text/plain": [
       "comment    0\n",
       "sex        0\n",
       "dtype: int64"
      ]
     },
     "execution_count": 1544,
     "metadata": {},
     "output_type": "execute_result"
    }
   ],
   "source": [
    "final_df.isnull().sum()"
   ]
  },
  {
   "cell_type": "code",
   "execution_count": 1545,
   "metadata": {},
   "outputs": [
    {
     "data": {
      "text/plain": [
       "comment    object\n",
       "sex        object\n",
       "dtype: object"
      ]
     },
     "execution_count": 1545,
     "metadata": {},
     "output_type": "execute_result"
    }
   ],
   "source": [
    "final_df.dtypes"
   ]
  },
  {
   "cell_type": "markdown",
   "metadata": {},
   "source": [
    "\"Sex\" column is binary and should be int."
   ]
  },
  {
   "cell_type": "code",
   "execution_count": 1546,
   "metadata": {},
   "outputs": [
    {
     "data": {
      "text/plain": [
       "comment    object\n",
       "sex         int64\n",
       "dtype: object"
      ]
     },
     "execution_count": 1546,
     "metadata": {},
     "output_type": "execute_result"
    }
   ],
   "source": [
    "final_df[\"sex\"]=final_df[\"sex\"].astype(int)\n",
    "final_df.dtypes"
   ]
  },
  {
   "cell_type": "code",
   "execution_count": 1293,
   "metadata": {},
   "outputs": [],
   "source": [
    "#saving file\n",
    "final_df.to_csv(\"../data/df_submissions.csv\",index=False)"
   ]
  },
  {
   "cell_type": "markdown",
   "metadata": {},
   "source": [
    "----"
   ]
  },
  {
   "cell_type": "markdown",
   "metadata": {},
   "source": [
    "### Expanding Contractions"
   ]
  },
  {
   "cell_type": "code",
   "execution_count": 1547,
   "metadata": {},
   "outputs": [],
   "source": [
    "def expand(document):\n",
    "    result=\"\"\n",
    "    for word in document.split(\" \"):        \n",
    "        result+=contractions.fix(word)\n",
    "        result+=\" \"\n",
    "    return result.strip()"
   ]
  },
  {
   "cell_type": "code",
   "execution_count": 1548,
   "metadata": {},
   "outputs": [],
   "source": [
    "final_df['comment']=final_df['comment'].apply(lambda x: expand(x))"
   ]
  },
  {
   "cell_type": "markdown",
   "metadata": {},
   "source": [
    "----"
   ]
  },
  {
   "cell_type": "markdown",
   "metadata": {},
   "source": [
    "### Processing in SpaCy "
   ]
  },
  {
   "cell_type": "markdown",
   "metadata": {},
   "source": [
    "(I didn't use pipelines, because I've used stages for modeling)"
   ]
  },
  {
   "cell_type": "code",
   "execution_count": null,
   "metadata": {},
   "outputs": [],
   "source": [
    "spacy.cli.download('en_core_web_md')\n",
    "nlp = spacy.load('en_core_web_md')"
   ]
  },
  {
   "cell_type": "markdown",
   "metadata": {},
   "source": [
    "Lemmatizing each word and dropping aux"
   ]
  },
  {
   "cell_type": "code",
   "execution_count": 1360,
   "metadata": {},
   "outputs": [],
   "source": [
    "def drop_aux(docs):\n",
    "    cleaned=\"\"\n",
    "    nlp_doc=nlp(docs)\n",
    "    for word in nlp_doc:\n",
    "        if word.pos_!=\"AUX\":\n",
    "            cleaned+=str(word.lemma_)\n",
    "            cleaned+=\" \"\n",
    "    return cleaned.strip()\n"
   ]
  },
  {
   "cell_type": "markdown",
   "metadata": {},
   "source": [
    "Dropping all the empty rows which could ppear after aux cleaning"
   ]
  },
  {
   "cell_type": "code",
   "execution_count": 1549,
   "metadata": {},
   "outputs": [],
   "source": [
    "final_df['comment']=final_df[\"comment\"].apply(lambda x: drop_aux(x))\n",
    "#Dropping all possible empty rows, which contained only aux\n",
    "final_df=final_df[final_df[\"comment\"]!=\"\"]"
   ]
  },
  {
   "cell_type": "markdown",
   "metadata": {},
   "source": [
    "----"
   ]
  },
  {
   "cell_type": "markdown",
   "metadata": {},
   "source": [
    "### Compairing submissions"
   ]
  },
  {
   "cell_type": "markdown",
   "metadata": {},
   "source": [
    "after modeling find most useful posts and compare submissions with those words. Find best words."
   ]
  },
  {
   "cell_type": "code",
   "execution_count": null,
   "metadata": {},
   "outputs": [],
   "source": [
    "\n",
    "df_comparing=pd.DataFrame(columns=[\"mcomment\",\"wcomment\",\"score\"])\n",
    "df_comparing\n",
    "for mcomment in df_cleaned_man[\"comment\"]:\n",
    "    for wcomment in df_cleaned_woman[\"comment\"]:\n",
    "        mnlp=nlp(mcomment)\n",
    "        wnlp=nlp(wcomment)\n",
    "        score=mnlp.similarity(wnlp)\n",
    "        if score>0.9:\n",
    "            print (mcomment, wcomment)\n",
    "        # temp={\"mcomment\":mcomment,\"wcomment\":wcomment,\"score\":score}\n",
    "        # df_comparing.append(temp,ignore_index=True)"
   ]
  },
  {
   "cell_type": "markdown",
   "metadata": {},
   "source": [
    "### Check for Sentiment Scores"
   ]
  },
  {
   "cell_type": "code",
   "execution_count": 1125,
   "metadata": {},
   "outputs": [],
   "source": [
    "sent= SentimentIntensityAnalyzer()"
   ]
  },
  {
   "cell_type": "code",
   "execution_count": 1488,
   "metadata": {},
   "outputs": [
    {
     "data": {
      "text/html": [
       "<div>\n",
       "<style scoped>\n",
       "    .dataframe tbody tr th:only-of-type {\n",
       "        vertical-align: middle;\n",
       "    }\n",
       "\n",
       "    .dataframe tbody tr th {\n",
       "        vertical-align: top;\n",
       "    }\n",
       "\n",
       "    .dataframe thead th {\n",
       "        text-align: right;\n",
       "    }\n",
       "</style>\n",
       "<table border=\"1\" class=\"dataframe\">\n",
       "  <thead>\n",
       "    <tr style=\"text-align: right;\">\n",
       "      <th></th>\n",
       "      <th>comment</th>\n",
       "      <th>score</th>\n",
       "    </tr>\n",
       "  </thead>\n",
       "  <tbody>\n",
       "    <tr>\n",
       "      <th>908</th>\n",
       "      <td>this very long post thanks for taking the time read and advise you as the title tells looking do almost total reinventing myself for personal improvement get ready for the next step my life have broken down the changes need make categories any insight into these would greatly appreciated style and dress ve never been one consider care what others thought me nor have ever put much thought into ...</td>\n",
       "      <td>0.9995</td>\n",
       "    </tr>\n",
       "    <tr>\n",
       "      <th>645</th>\n",
       "      <td>im worried that will just deny because feels ashamed thinks might lose this isn the case be honest don have issue he wants sleep with other girls understand some people are just like that and want him be happy used have issue with as lied me when found out was hitting this other woman while said wanted to exclusive but don anymore do however have issue with dishonesty also portrayed lot things...</td>\n",
       "      <td>0.9988</td>\n",
       "    </tr>\n",
       "    <tr>\n",
       "      <th>1427</th>\n",
       "      <td>a couple months ago one my friends ll call her tayla that in long term relationship mentioned one her guy friends will call him will she grew with single and her and her partner wanted set up with him she showed photo but said said slept with another one our friends within the group ll call her jess back when they were high school high school was good   years ago for but was still uninterested...</td>\n",
       "      <td>0.9986</td>\n",
       "    </tr>\n",
       "    <tr>\n",
       "      <th>640</th>\n",
       "      <td>i go first before start off the new year   years old and one the things want out life to make least     in job love do either marketing business tech the next thing want lovely wife who also career driven amazing loyal supportive and god fearing doesn matter me how much money she makes but just want lovely wife want own beautiful huge log cabin house share with wife want have pets own weapons ...</td>\n",
       "      <td>0.9982</td>\n",
       "    </tr>\n",
       "    <tr>\n",
       "      <th>1799</th>\n",
       "      <td>so   uni the group people talking about all living dorms campus re great group friends   closest friends are guy and girl who somewhat interested but being the less funny less attractive less interesting person she would not interested me back accepted the fate friendship which isn too bad itself but the guy has been interested her for quite some time and actively trying persue something out i...</td>\n",
       "      <td>0.9981</td>\n",
       "    </tr>\n",
       "    <tr>\n",
       "      <th>...</th>\n",
       "      <td>...</td>\n",
       "      <td>...</td>\n",
       "    </tr>\n",
       "    <tr>\n",
       "      <th>746</th>\n",
       "      <td>scenario you just got home after work and around midnight you tired but suddenly you hear your daughter son scream for help louder than you ever thought possible and you run their bedroom where they should have been asleep but the time you get there they are dead the murderer standing above them holding the murder weapon you happen be holding gun how you react for extra context you know for fa...</td>\n",
       "      <td>-0.9870</td>\n",
       "    </tr>\n",
       "    <tr>\n",
       "      <th>856</th>\n",
       "      <td>hi men reddit over the last year ve been making conscious effort become assertive after many years poor treatment from various people my life ve taken boxing practiced stronger eye contact been quicker make complaints about bad service etc ve long way go but slowly feel myself becoming less pushover and think people general have been little nicer me maybe carrying myself differently dunno but ...</td>\n",
       "      <td>-0.9900</td>\n",
       "    </tr>\n",
       "    <tr>\n",
       "      <th>965</th>\n",
       "      <td>oh boy here go maybe some background about will help was raised my single mother alongside two elder sisters didn have necessarily bad relationship with father growing we just weren close matter how much mother tried have spend time together when got my late teens decided would stop seeing him and putting the effort because never reached out me and never seemed care that much but like said the...</td>\n",
       "      <td>-0.9929</td>\n",
       "    </tr>\n",
       "    <tr>\n",
       "      <th>59</th>\n",
       "      <td>i have reason be shitting myself but can sleep anymore just workout exhaustion but still every night when fall my bed fell this horrible fear afraid suffering violence some hipotical injustice some lovedones suffering am mess for reason this happening frequently for almost   years but have memories being teenager and just whacthing on because was afraid try talk my girlfriend but she didn unde...</td>\n",
       "      <td>-0.9936</td>\n",
       "    </tr>\n",
       "    <tr>\n",
       "      <th>2599</th>\n",
       "      <td>ive started realize not being treated right my relationship and would like yalls opinions of these things are abusive wrong physical pain pulling hair my legs head etc the main one happens almost every day getting slapped the face not often but has happened multiple times got punched the back few days ago pinching she gets into moods where for like hour shes really mean me and points out all m...</td>\n",
       "      <td>-0.9967</td>\n",
       "    </tr>\n",
       "  </tbody>\n",
       "</table>\n",
       "<p>2661 rows × 2 columns</p>\n",
       "</div>"
      ],
      "text/plain": [
       "                                                                                                                                                                                                                                                                                                                                                                                                              comment  \\\n",
       "908   this very long post thanks for taking the time read and advise you as the title tells looking do almost total reinventing myself for personal improvement get ready for the next step my life have broken down the changes need make categories any insight into these would greatly appreciated style and dress ve never been one consider care what others thought me nor have ever put much thought into ...   \n",
       "645   im worried that will just deny because feels ashamed thinks might lose this isn the case be honest don have issue he wants sleep with other girls understand some people are just like that and want him be happy used have issue with as lied me when found out was hitting this other woman while said wanted to exclusive but don anymore do however have issue with dishonesty also portrayed lot things...   \n",
       "1427  a couple months ago one my friends ll call her tayla that in long term relationship mentioned one her guy friends will call him will she grew with single and her and her partner wanted set up with him she showed photo but said said slept with another one our friends within the group ll call her jess back when they were high school high school was good   years ago for but was still uninterested...   \n",
       "640   i go first before start off the new year   years old and one the things want out life to make least     in job love do either marketing business tech the next thing want lovely wife who also career driven amazing loyal supportive and god fearing doesn matter me how much money she makes but just want lovely wife want own beautiful huge log cabin house share with wife want have pets own weapons ...   \n",
       "1799  so   uni the group people talking about all living dorms campus re great group friends   closest friends are guy and girl who somewhat interested but being the less funny less attractive less interesting person she would not interested me back accepted the fate friendship which isn too bad itself but the guy has been interested her for quite some time and actively trying persue something out i...   \n",
       "...                                                                                                                                                                                                                                                                                                                                                                                                               ...   \n",
       "746   scenario you just got home after work and around midnight you tired but suddenly you hear your daughter son scream for help louder than you ever thought possible and you run their bedroom where they should have been asleep but the time you get there they are dead the murderer standing above them holding the murder weapon you happen be holding gun how you react for extra context you know for fa...   \n",
       "856   hi men reddit over the last year ve been making conscious effort become assertive after many years poor treatment from various people my life ve taken boxing practiced stronger eye contact been quicker make complaints about bad service etc ve long way go but slowly feel myself becoming less pushover and think people general have been little nicer me maybe carrying myself differently dunno but ...   \n",
       "965   oh boy here go maybe some background about will help was raised my single mother alongside two elder sisters didn have necessarily bad relationship with father growing we just weren close matter how much mother tried have spend time together when got my late teens decided would stop seeing him and putting the effort because never reached out me and never seemed care that much but like said the...   \n",
       "59    i have reason be shitting myself but can sleep anymore just workout exhaustion but still every night when fall my bed fell this horrible fear afraid suffering violence some hipotical injustice some lovedones suffering am mess for reason this happening frequently for almost   years but have memories being teenager and just whacthing on because was afraid try talk my girlfriend but she didn unde...   \n",
       "2599  ive started realize not being treated right my relationship and would like yalls opinions of these things are abusive wrong physical pain pulling hair my legs head etc the main one happens almost every day getting slapped the face not often but has happened multiple times got punched the back few days ago pinching she gets into moods where for like hour shes really mean me and points out all m...   \n",
       "\n",
       "       score  \n",
       "908   0.9995  \n",
       "645   0.9988  \n",
       "1427  0.9986  \n",
       "640   0.9982  \n",
       "1799  0.9981  \n",
       "...      ...  \n",
       "746  -0.9870  \n",
       "856  -0.9900  \n",
       "965  -0.9929  \n",
       "59   -0.9936  \n",
       "2599 -0.9967  \n",
       "\n",
       "[2661 rows x 2 columns]"
      ]
     },
     "execution_count": 1488,
     "metadata": {},
     "output_type": "execute_result"
    }
   ],
   "source": [
    "result=[]\n",
    "for mcomment in df_cleaned_man[\"comment\"]:    \n",
    "    score=sent.polarity_scores(mcomment)\n",
    "    temp={\"comment\":mcomment,\"score\":score[\"compound\"]}\n",
    "    result.append(temp)\n",
    "    # df_man_sentiment.append(temp,ignore_index=True)\n",
    "df_man_sentiment=pd.DataFrame(data=result)\n",
    "\n",
    "df_man_sentiment.sort_values(by=[\"score\"],ascending=False)"
   ]
  },
  {
   "cell_type": "code",
   "execution_count": null,
   "metadata": {},
   "outputs": [],
   "source": []
  },
  {
   "cell_type": "code",
   "execution_count": 1502,
   "metadata": {},
   "outputs": [
    {
     "data": {
      "text/plain": [
       "<Figure size 432x288 with 0 Axes>"
      ]
     },
     "metadata": {},
     "output_type": "display_data"
    },
    {
     "data": {
      "image/png": "[encoded data removed]",
      "text/plain": [
       "<Figure size 360x360 with 1 Axes>"
      ]
     },
     "metadata": {
      "needs_background": "light"
     },
     "output_type": "display_data"
    }
   ],
   "source": [
    "plt.tight_layout()\n",
    "sns.displot(df_man_sentiment.score, bins=20)\n",
    "plt.xlabel(\"Sentiment Score\", size=10)\n",
    "plt.ylabel(\"Count\", size=10)\n",
    "plt.axvline(x=df_man_sentiment.score.mean(),\n",
    "            color='red')\n",
    "plt.title(\"Ask Man Sentiment Score Distribution\", size = 16)\n",
    "plt.savefig('../recourse/AskWomanSantiment.png')\n"
   ]
  },
  {
   "cell_type": "code",
   "execution_count": 1489,
   "metadata": {},
   "outputs": [
    {
     "data": {
      "text/html": [
       "<div>\n",
       "<style scoped>\n",
       "    .dataframe tbody tr th:only-of-type {\n",
       "        vertical-align: middle;\n",
       "    }\n",
       "\n",
       "    .dataframe tbody tr th {\n",
       "        vertical-align: top;\n",
       "    }\n",
       "\n",
       "    .dataframe thead th {\n",
       "        text-align: right;\n",
       "    }\n",
       "</style>\n",
       "<table border=\"1\" class=\"dataframe\">\n",
       "  <thead>\n",
       "    <tr style=\"text-align: right;\">\n",
       "      <th></th>\n",
       "      <th>comment</th>\n",
       "      <th>score</th>\n",
       "    </tr>\n",
       "  </thead>\n",
       "  <tbody>\n",
       "    <tr>\n",
       "      <th>655</th>\n",
       "      <td>so this friend will call her old friend and have known each other since were grade   even though didn really talk much until the start high school now re university different university btw she and this other friend were the two people mostly talked throughout high school met another friend will call her the new friend my last year high school and after few years knowing her she asked for numb...</td>\n",
       "      <td>0.9994</td>\n",
       "    </tr>\n",
       "    <tr>\n",
       "      <th>1203</th>\n",
       "      <td>really random thought here but was just wondering young woman myself   and just find that girls can extremely rude and aggressive towards one another and not only that but also fake have few good friends that are women they are cool and love them but sometimes their about   them attitudes can so nasty for reason asked one them simple question and she got irritated and nastywith that other fri...</td>\n",
       "      <td>0.9987</td>\n",
       "    </tr>\n",
       "    <tr>\n",
       "      <th>1598</th>\n",
       "      <td>this got bit long but feel the details are important couple weeks ago this girl   matched with   tinder she was cute but not your stereotypical beauty someone that was definitely my league she immediately commented how cute was one my photos and after few texts she asked to hang out later that night worked early we didn end hanging out but exchanged handful more texts that night and the next m...</td>\n",
       "      <td>0.9986</td>\n",
       "    </tr>\n",
       "    <tr>\n",
       "      <th>174</th>\n",
       "      <td>this got bit long but feel the details are important couple weeks ago this girl   matched with   tinder she was cute but not your stereotypical beauty someone that was definitely my league she immediately commented how cute was one my photos and after few texts she asked to hang out later that night worked early we didn end hanging out but exchanged handful more texts that night and the next m...</td>\n",
       "      <td>0.9985</td>\n",
       "    </tr>\n",
       "    <tr>\n",
       "      <th>304</th>\n",
       "      <td>for context friend and have been best friends since   grade am now married   husband   friend   visiting from florida month after moved california re still settling but thought would good idea come for his   which the time thought would too aslong had job well got that job and not the kind job can just call off willy nilly just request off whenever tried express that since was new job wasn gon...</td>\n",
       "      <td>0.9979</td>\n",
       "    </tr>\n",
       "    <tr>\n",
       "      <th>...</th>\n",
       "      <td>...</td>\n",
       "      <td>...</td>\n",
       "    </tr>\n",
       "    <tr>\n",
       "      <th>1390</th>\n",
       "      <td>when have sex all she wanted was for to fuck her and that it wouldn let finger her anything else literally just kiss and fuck was honestly the worst sex ever had   effort was one sided but because liked her and ignored all needs were not met once through out the short relationship she would odd things like say fuck here were outside and course was that but then   seconds later bring someth...</td>\n",
       "      <td>-0.9899</td>\n",
       "    </tr>\n",
       "    <tr>\n",
       "      <th>1374</th>\n",
       "      <td>to brother thanks for being home early and showering normally have very short   min time frame every weekday when home alone perfect time frame quickly shower put clean hygiene product and throw away the waste the garbage can outside without someone hovering over it was plan had been plan all day didn want step outside room and have mother me questioning every move and watching like hawk but y...</td>\n",
       "      <td>-0.9928</td>\n",
       "    </tr>\n",
       "    <tr>\n",
       "      <th>1642</th>\n",
       "      <td>to brother thanks for being home early and showering normally have very short   min time frame every weekday when home alone perfect time frame quickly shower put clean hygiene product and throw away the waste the garbage can outside without someone hovering over it was plan had been plan all day didn want step outside room and have mother me questioning every move and watching like hawk but y...</td>\n",
       "      <td>-0.9928</td>\n",
       "    </tr>\n",
       "    <tr>\n",
       "      <th>1097</th>\n",
       "      <td>does anyone else just get sick being around your partner family feel terrible for saying this but just wanted unbiased opinion his family are big socializers his several aunties and mum drink regularly together and see each other every weekend don get wrong love close family bonds but when they start drinking they start talking shit about everyone and even between themselves is almost contest ...</td>\n",
       "      <td>-0.9949</td>\n",
       "    </tr>\n",
       "    <tr>\n",
       "      <th>273</th>\n",
       "      <td>ever since sister turned     days ago mum british born pakistani has come down her like ton bricks regarding marriage sister   very toxic childish manipulating argumentative immature and think mum has picked on this and wants get rid her regardless good day sister nice girl but very introverted has never spoke guy her life never mind relationship very awkward old fashioned regarding sex datin...</td>\n",
       "      <td>-0.9958</td>\n",
       "    </tr>\n",
       "  </tbody>\n",
       "</table>\n",
       "<p>2056 rows × 2 columns</p>\n",
       "</div>"
      ],
      "text/plain": [
       "                                                                                                                                                                                                                                                                                                                                                                                                              comment  \\\n",
       "655   so this friend will call her old friend and have known each other since were grade   even though didn really talk much until the start high school now re university different university btw she and this other friend were the two people mostly talked throughout high school met another friend will call her the new friend my last year high school and after few years knowing her she asked for numb...   \n",
       "1203   really random thought here but was just wondering young woman myself   and just find that girls can extremely rude and aggressive towards one another and not only that but also fake have few good friends that are women they are cool and love them but sometimes their about   them attitudes can so nasty for reason asked one them simple question and she got irritated and nastywith that other fri...   \n",
       "1598  this got bit long but feel the details are important couple weeks ago this girl   matched with   tinder she was cute but not your stereotypical beauty someone that was definitely my league she immediately commented how cute was one my photos and after few texts she asked to hang out later that night worked early we didn end hanging out but exchanged handful more texts that night and the next m...   \n",
       "174   this got bit long but feel the details are important couple weeks ago this girl   matched with   tinder she was cute but not your stereotypical beauty someone that was definitely my league she immediately commented how cute was one my photos and after few texts she asked to hang out later that night worked early we didn end hanging out but exchanged handful more texts that night and the next m...   \n",
       "304   for context friend and have been best friends since   grade am now married   husband   friend   visiting from florida month after moved california re still settling but thought would good idea come for his   which the time thought would too aslong had job well got that job and not the kind job can just call off willy nilly just request off whenever tried express that since was new job wasn gon...   \n",
       "...                                                                                                                                                                                                                                                                                                                                                                                                               ...   \n",
       "1390      when have sex all she wanted was for to fuck her and that it wouldn let finger her anything else literally just kiss and fuck was honestly the worst sex ever had   effort was one sided but because liked her and ignored all needs were not met once through out the short relationship she would odd things like say fuck here were outside and course was that but then   seconds later bring someth...   \n",
       "1374  to brother thanks for being home early and showering normally have very short   min time frame every weekday when home alone perfect time frame quickly shower put clean hygiene product and throw away the waste the garbage can outside without someone hovering over it was plan had been plan all day didn want step outside room and have mother me questioning every move and watching like hawk but y...   \n",
       "1642  to brother thanks for being home early and showering normally have very short   min time frame every weekday when home alone perfect time frame quickly shower put clean hygiene product and throw away the waste the garbage can outside without someone hovering over it was plan had been plan all day didn want step outside room and have mother me questioning every move and watching like hawk but y...   \n",
       "1097  does anyone else just get sick being around your partner family feel terrible for saying this but just wanted unbiased opinion his family are big socializers his several aunties and mum drink regularly together and see each other every weekend don get wrong love close family bonds but when they start drinking they start talking shit about everyone and even between themselves is almost contest ...   \n",
       "273    ever since sister turned     days ago mum british born pakistani has come down her like ton bricks regarding marriage sister   very toxic childish manipulating argumentative immature and think mum has picked on this and wants get rid her regardless good day sister nice girl but very introverted has never spoke guy her life never mind relationship very awkward old fashioned regarding sex datin...   \n",
       "\n",
       "       score  \n",
       "655   0.9994  \n",
       "1203  0.9987  \n",
       "1598  0.9986  \n",
       "174   0.9985  \n",
       "304   0.9979  \n",
       "...      ...  \n",
       "1390 -0.9899  \n",
       "1374 -0.9928  \n",
       "1642 -0.9928  \n",
       "1097 -0.9949  \n",
       "273  -0.9958  \n",
       "\n",
       "[2056 rows x 2 columns]"
      ]
     },
     "execution_count": 1489,
     "metadata": {},
     "output_type": "execute_result"
    }
   ],
   "source": [
    "result=[]\n",
    "\n",
    "for wcomment in df_cleaned_woman[\"comment\"]:    \n",
    "    score=sent.polarity_scores(wcomment)\n",
    "    temp={\"comment\":wcomment,\"score\":score[\"compound\"]}\n",
    "    result.append(temp)\n",
    "df_woman_sentiment=pd.DataFrame(result)\n",
    "df_woman_sentiment.sort_values(by=\"score\",ascending=False)"
   ]
  },
  {
   "cell_type": "code",
   "execution_count": 1501,
   "metadata": {},
   "outputs": [
    {
     "data": {
      "text/plain": [
       "<Figure size 432x288 with 0 Axes>"
      ]
     },
     "metadata": {},
     "output_type": "display_data"
    },
    {
     "data": {
      "image/png": "[encoded data removed]",
      "text/plain": [
       "<Figure size 360x360 with 1 Axes>"
      ]
     },
     "metadata": {
      "needs_background": "light"
     },
     "output_type": "display_data"
    }
   ],
   "source": [
    "plt.tight_layout()\n",
    "sns.displot(df_woman_sentiment.score, bins=20)\n",
    "plt.xlabel(\"Sentiment Score\", size=10)\n",
    "plt.ylabel(\"Count\", size=10)\n",
    "plt.axvline(x=df_woman_sentiment.score.mean(),\n",
    "            color='red')\n",
    "plt.title(\"Ask Woman Sentiment Score Distribution\", size = 16)\n",
    "plt.savefig('../recourse/AskWomanSantiment.png')\n"
   ]
  },
  {
   "cell_type": "markdown",
   "metadata": {},
   "source": [
    "----"
   ]
  },
  {
   "cell_type": "code",
   "execution_count": 1555,
   "metadata": {},
   "outputs": [
    {
     "name": "stderr",
     "output_type": "stream",
     "text": [
      "/Users/glebradchenko/opt/anaconda3/lib/python3.7/site-packages/seaborn/_decorators.py:43: FutureWarning: Pass the following variable as a keyword arg: x. From version 0.12, the only valid positional argument will be `data`, and passing other arguments without an explicit keyword will result in an error or misinterpretation.\n",
      "  FutureWarning\n"
     ]
    },
    {
     "data": {
      "image/png": "[encoded data removed]",
      "text/plain": [
       "<Figure size 432x288 with 1 Axes>"
      ]
     },
     "metadata": {
      "needs_background": "light"
     },
     "output_type": "display_data"
    }
   ],
   "source": [
    "\n",
    "plt.tight_layout()\n",
    "sns.boxplot(final_df['comment'].str.split(\" \").str.len())\n",
    "plt.savefig('../recourse/BoxPlot.png')"
   ]
  },
  {
   "cell_type": "markdown",
   "metadata": {},
   "source": [
    "Dropping Stopwords"
   ]
  },
  {
   "cell_type": "code",
   "execution_count": 1551,
   "metadata": {},
   "outputs": [],
   "source": [
    "\n",
    "def drop_stopwords(str):\n",
    "    result=\"\"\n",
    "    for word in str.split(' '):\n",
    "        if word not in nlp.Defaults.stop_words:\n",
    "            if word not in stopwords.words('english'):\n",
    "                result+=word\n",
    "                result+=\" \"\n",
    "\n",
    "    return result.strip()"
   ]
  },
  {
   "cell_type": "code",
   "execution_count": 1553,
   "metadata": {},
   "outputs": [
    {
     "data": {
      "text/html": [
       "<div>\n",
       "<style scoped>\n",
       "    .dataframe tbody tr th:only-of-type {\n",
       "        vertical-align: middle;\n",
       "    }\n",
       "\n",
       "    .dataframe tbody tr th {\n",
       "        vertical-align: top;\n",
       "    }\n",
       "\n",
       "    .dataframe thead th {\n",
       "        text-align: right;\n",
       "    }\n",
       "</style>\n",
       "<table border=\"1\" class=\"dataframe\">\n",
       "  <thead>\n",
       "    <tr style=\"text-align: right;\">\n",
       "      <th></th>\n",
       "      <th>comment</th>\n",
       "      <th>sex</th>\n",
       "    </tr>\n",
       "  </thead>\n",
       "  <tbody>\n",
       "    <tr>\n",
       "      <th>0</th>\n",
       "      <td>happen today tell friend talk I like therapy feel like good thing I think experience</td>\n",
       "      <td>1</td>\n",
       "    </tr>\n",
       "    <tr>\n",
       "      <th>1</th>\n",
       "      <td>turn woman    want hook man date    couple day want unsettle woman want hook date kind impression sleep want impression type</td>\n",
       "      <td>1</td>\n",
       "    </tr>\n",
       "    <tr>\n",
       "      <th>2</th>\n",
       "      <td>parent family holiday spot dinner ask date life tell date pretty busy career hang friend relationship deal feel pretty shitty reaction weird age marry relationship feeling leave friend single vibe friend family relationship past year wrong damage good</td>\n",
       "      <td>1</td>\n",
       "    </tr>\n",
       "    <tr>\n",
       "      <th>3</th>\n",
       "      <td>ask exchange despite profile curious read profile write</td>\n",
       "      <td>1</td>\n",
       "    </tr>\n",
       "    <tr>\n",
       "      <th>4</th>\n",
       "      <td>intention send people</td>\n",
       "      <td>1</td>\n",
       "    </tr>\n",
       "    <tr>\n",
       "      <th>...</th>\n",
       "      <td>...</td>\n",
       "      <td>...</td>\n",
       "    </tr>\n",
       "    <tr>\n",
       "      <th>4067</th>\n",
       "      <td>tell truth way threaten sue</td>\n",
       "      <td>0</td>\n",
       "    </tr>\n",
       "    <tr>\n",
       "      <th>4068</th>\n",
       "      <td>woman    receptive approach interest</td>\n",
       "      <td>0</td>\n",
       "    </tr>\n",
       "    <tr>\n",
       "      <th>4069</th>\n",
       "      <td>I notice woman feel shame certain topic sex incontinence child rear parenting etc wonder topic wish people open honest</td>\n",
       "      <td>0</td>\n",
       "    </tr>\n",
       "    <tr>\n",
       "      <th>4070</th>\n",
       "      <td>I like wear need bra come want like eyebrow suggestion</td>\n",
       "      <td>0</td>\n",
       "    </tr>\n",
       "    <tr>\n",
       "      <th>4071</th>\n",
       "      <td>story girl girl experience</td>\n",
       "      <td>0</td>\n",
       "    </tr>\n",
       "  </tbody>\n",
       "</table>\n",
       "<p>4049 rows × 2 columns</p>\n",
       "</div>"
      ],
      "text/plain": [
       "                                                                                                                                                                                                                                                          comment  \\\n",
       "0                                                                                                                                                                            happen today tell friend talk I like therapy feel like good thing I think experience   \n",
       "1                                                                                                                                    turn woman    want hook man date    couple day want unsettle woman want hook date kind impression sleep want impression type   \n",
       "2     parent family holiday spot dinner ask date life tell date pretty busy career hang friend relationship deal feel pretty shitty reaction weird age marry relationship feeling leave friend single vibe friend family relationship past year wrong damage good   \n",
       "3                                                                                                                                                                                                         ask exchange despite profile curious read profile write   \n",
       "4                                                                                                                                                                                                                                           intention send people   \n",
       "...                                                                                                                                                                                                                                                           ...   \n",
       "4067                                                                                                                                                                                                                                  tell truth way threaten sue   \n",
       "4068                                                                                                                                                                                                                         woman    receptive approach interest   \n",
       "4069                                                                                                                                       I notice woman feel shame certain topic sex incontinence child rear parenting etc wonder topic wish people open honest   \n",
       "4070                                                                                                                                                                                                       I like wear need bra come want like eyebrow suggestion   \n",
       "4071                                                                                                                                                                                                                                   story girl girl experience   \n",
       "\n",
       "      sex  \n",
       "0       1  \n",
       "1       1  \n",
       "2       1  \n",
       "3       1  \n",
       "4       1  \n",
       "...   ...  \n",
       "4067    0  \n",
       "4068    0  \n",
       "4069    0  \n",
       "4070    0  \n",
       "4071    0  \n",
       "\n",
       "[4049 rows x 2 columns]"
      ]
     },
     "execution_count": 1553,
     "metadata": {},
     "output_type": "execute_result"
    }
   ],
   "source": [
    "df=final_df.copy()\n",
    "df['comment']=df['comment'].apply(lambda x: drop_stopwords(x))\n",
    "df=df[df['comment']!=\"\"]\n",
    "\n",
    "df"
   ]
  },
  {
   "cell_type": "markdown",
   "metadata": {},
   "source": [
    "Saving point"
   ]
  },
  {
   "cell_type": "code",
   "execution_count": 1554,
   "metadata": {},
   "outputs": [],
   "source": [
    "#saving file\n",
    "df.to_csv(\"../data/df_submissions.csv\",index=False)"
   ]
  },
  {
   "cell_type": "code",
   "execution_count": 1559,
   "metadata": {},
   "outputs": [],
   "source": [
    "df[\"sub_word_count\"]=df['comment'].str.split(\" \").str.len()\n",
    "df[\"sub_length\"]= df['comment'].str.len()"
   ]
  },
  {
   "cell_type": "code",
   "execution_count": 1560,
   "metadata": {},
   "outputs": [
    {
     "data": {
      "text/html": [
       "<div>\n",
       "<style scoped>\n",
       "    .dataframe tbody tr th:only-of-type {\n",
       "        vertical-align: middle;\n",
       "    }\n",
       "\n",
       "    .dataframe tbody tr th {\n",
       "        vertical-align: top;\n",
       "    }\n",
       "\n",
       "    .dataframe thead th {\n",
       "        text-align: right;\n",
       "    }\n",
       "</style>\n",
       "<table border=\"1\" class=\"dataframe\">\n",
       "  <thead>\n",
       "    <tr style=\"text-align: right;\">\n",
       "      <th></th>\n",
       "      <th>comment</th>\n",
       "      <th>sex</th>\n",
       "      <th>sub_word_count</th>\n",
       "      <th>sub_length</th>\n",
       "    </tr>\n",
       "  </thead>\n",
       "  <tbody>\n",
       "    <tr>\n",
       "      <th>2853</th>\n",
       "      <td>late</td>\n",
       "      <td>0</td>\n",
       "      <td>1</td>\n",
       "      <td>4</td>\n",
       "    </tr>\n",
       "    <tr>\n",
       "      <th>3446</th>\n",
       "      <td>overthinke</td>\n",
       "      <td>0</td>\n",
       "      <td>1</td>\n",
       "      <td>10</td>\n",
       "    </tr>\n",
       "    <tr>\n",
       "      <th>1042</th>\n",
       "      <td>difference</td>\n",
       "      <td>1</td>\n",
       "      <td>1</td>\n",
       "      <td>10</td>\n",
       "    </tr>\n",
       "    <tr>\n",
       "      <th>2805</th>\n",
       "      <td>throw</td>\n",
       "      <td>0</td>\n",
       "      <td>1</td>\n",
       "      <td>5</td>\n",
       "    </tr>\n",
       "    <tr>\n",
       "      <th>776</th>\n",
       "      <td>hype</td>\n",
       "      <td>1</td>\n",
       "      <td>1</td>\n",
       "      <td>4</td>\n",
       "    </tr>\n",
       "    <tr>\n",
       "      <th>...</th>\n",
       "      <td>...</td>\n",
       "      <td>...</td>\n",
       "      <td>...</td>\n",
       "      <td>...</td>\n",
       "    </tr>\n",
       "    <tr>\n",
       "      <th>2353</th>\n",
       "      <td>context friend good friend    grade marry    husband    friend    visit florida month california settle think good idea come    time thought aslong job job kind job willy nilly request express new job able time job time frame come discuss job maybe    week come feel right request time jeopardize position good job like good money pay huge sum friend live stock freelance work live alot time want...</td>\n",
       "      <td>0</td>\n",
       "      <td>354</td>\n",
       "      <td>1894</td>\n",
       "    </tr>\n",
       "    <tr>\n",
       "      <th>3621</th>\n",
       "      <td>bit long feel detail important couple week ago girl    match    tinder cute stereotypical beauty definitely league immediately comment cute photo text ask hang later night work early end hang exchange handful text night morning ask hang night busy forget reply persistent meet intrigue figure know want end night later decent time bar feel natural hit lot common friend pretty drunk touch thigh s...</td>\n",
       "      <td>0</td>\n",
       "      <td>401</td>\n",
       "      <td>2338</td>\n",
       "    </tr>\n",
       "    <tr>\n",
       "      <th>2324</th>\n",
       "      <td>sister turn      day ago mum british bear pakistani come like ton brick regard marriage sister    toxic childish manipulate argumentative immature think mum pick want rid regardless good day sister nice girl introverted speak guy life mind relationship awkward old fashioned regard sex dating etc speak marriage want marry mum desperate sister find lot poor experience    fail arrange marriage hu...</td>\n",
       "      <td>0</td>\n",
       "      <td>420</td>\n",
       "      <td>2620</td>\n",
       "    </tr>\n",
       "    <tr>\n",
       "      <th>2227</th>\n",
       "      <td>bit long feel detail important couple week ago girl    match    tinder cute stereotypical beauty definitely league immediately comment cute photo text ask hang later night work early end hang exchange handful text night morning ask hang night busy forget reply persistent meet intrigue figure know want end night later decent time bar feel natural hit lot common friend pretty drunk touch thigh s...</td>\n",
       "      <td>0</td>\n",
       "      <td>423</td>\n",
       "      <td>2472</td>\n",
       "    </tr>\n",
       "    <tr>\n",
       "      <th>3327</th>\n",
       "      <td>good evening like preface story turn bind need advise wife    marry    year       amazing kid           year old prior relationship thing rocky long time hold past vengeance live extremely comfortable life great home lot yard kid dog play roam need financially meet wife dream    leave beaver image white picket fence mom stay home kid work      dinner table    eat family good friend meet horrib...</td>\n",
       "      <td>0</td>\n",
       "      <td>470</td>\n",
       "      <td>2660</td>\n",
       "    </tr>\n",
       "  </tbody>\n",
       "</table>\n",
       "<p>4049 rows × 4 columns</p>\n",
       "</div>"
      ],
      "text/plain": [
       "                                                                                                                                                                                                                                                                                                                                                                                                              comment  \\\n",
       "2853                                                                                                                                                                                                                                                                                                                                                                                                             late   \n",
       "3446                                                                                                                                                                                                                                                                                                                                                                                                       overthinke   \n",
       "1042                                                                                                                                                                                                                                                                                                                                                                                                       difference   \n",
       "2805                                                                                                                                                                                                                                                                                                                                                                                                            throw   \n",
       "776                                                                                                                                                                                                                                                                                                                                                                                                              hype   \n",
       "...                                                                                                                                                                                                                                                                                                                                                                                                               ...   \n",
       "2353  context friend good friend    grade marry    husband    friend    visit florida month california settle think good idea come    time thought aslong job job kind job willy nilly request express new job able time job time frame come discuss job maybe    week come feel right request time jeopardize position good job like good money pay huge sum friend live stock freelance work live alot time want...   \n",
       "3621  bit long feel detail important couple week ago girl    match    tinder cute stereotypical beauty definitely league immediately comment cute photo text ask hang later night work early end hang exchange handful text night morning ask hang night busy forget reply persistent meet intrigue figure know want end night later decent time bar feel natural hit lot common friend pretty drunk touch thigh s...   \n",
       "2324  sister turn      day ago mum british bear pakistani come like ton brick regard marriage sister    toxic childish manipulate argumentative immature think mum pick want rid regardless good day sister nice girl introverted speak guy life mind relationship awkward old fashioned regard sex dating etc speak marriage want marry mum desperate sister find lot poor experience    fail arrange marriage hu...   \n",
       "2227  bit long feel detail important couple week ago girl    match    tinder cute stereotypical beauty definitely league immediately comment cute photo text ask hang later night work early end hang exchange handful text night morning ask hang night busy forget reply persistent meet intrigue figure know want end night later decent time bar feel natural hit lot common friend pretty drunk touch thigh s...   \n",
       "3327  good evening like preface story turn bind need advise wife    marry    year       amazing kid           year old prior relationship thing rocky long time hold past vengeance live extremely comfortable life great home lot yard kid dog play roam need financially meet wife dream    leave beaver image white picket fence mom stay home kid work      dinner table    eat family good friend meet horrib...   \n",
       "\n",
       "      sex  sub_word_count  sub_length  \n",
       "2853    0               1           4  \n",
       "3446    0               1          10  \n",
       "1042    1               1          10  \n",
       "2805    0               1           5  \n",
       "776     1               1           4  \n",
       "...   ...             ...         ...  \n",
       "2353    0             354        1894  \n",
       "3621    0             401        2338  \n",
       "2324    0             420        2620  \n",
       "2227    0             423        2472  \n",
       "3327    0             470        2660  \n",
       "\n",
       "[4049 rows x 4 columns]"
      ]
     },
     "execution_count": 1560,
     "metadata": {},
     "output_type": "execute_result"
    }
   ],
   "source": [
    "df.sort_values(by=\"sub_word_count\")"
   ]
  },
  {
   "cell_type": "markdown",
   "metadata": {},
   "source": [
    "EDA by subreddit"
   ]
  },
  {
   "cell_type": "code",
   "execution_count": 1569,
   "metadata": {},
   "outputs": [
    {
     "data": {
      "text/html": [
       "<div>\n",
       "<style scoped>\n",
       "    .dataframe tbody tr th:only-of-type {\n",
       "        vertical-align: middle;\n",
       "    }\n",
       "\n",
       "    .dataframe tbody tr th {\n",
       "        vertical-align: top;\n",
       "    }\n",
       "\n",
       "    .dataframe thead tr th {\n",
       "        text-align: left;\n",
       "    }\n",
       "\n",
       "    .dataframe thead tr:last-of-type th {\n",
       "        text-align: right;\n",
       "    }\n",
       "</style>\n",
       "<table border=\"1\" class=\"dataframe\">\n",
       "  <thead>\n",
       "    <tr>\n",
       "      <th></th>\n",
       "      <th colspan=\"3\" halign=\"left\">sub_word_count</th>\n",
       "      <th colspan=\"3\" halign=\"left\">sub_length</th>\n",
       "    </tr>\n",
       "    <tr>\n",
       "      <th></th>\n",
       "      <th>mean</th>\n",
       "      <th>max</th>\n",
       "      <th>min</th>\n",
       "      <th>mean</th>\n",
       "      <th>max</th>\n",
       "      <th>min</th>\n",
       "    </tr>\n",
       "    <tr>\n",
       "      <th>sex</th>\n",
       "      <th></th>\n",
       "      <th></th>\n",
       "      <th></th>\n",
       "      <th></th>\n",
       "      <th></th>\n",
       "      <th></th>\n",
       "    </tr>\n",
       "  </thead>\n",
       "  <tbody>\n",
       "    <tr>\n",
       "      <th>0</th>\n",
       "      <td>20.142287</td>\n",
       "      <td>470</td>\n",
       "      <td>1</td>\n",
       "      <td>120.765352</td>\n",
       "      <td>2660</td>\n",
       "      <td>1</td>\n",
       "    </tr>\n",
       "    <tr>\n",
       "      <th>1</th>\n",
       "      <td>28.254643</td>\n",
       "      <td>349</td>\n",
       "      <td>1</td>\n",
       "      <td>167.806452</td>\n",
       "      <td>2052</td>\n",
       "      <td>1</td>\n",
       "    </tr>\n",
       "  </tbody>\n",
       "</table>\n",
       "</div>"
      ],
      "text/plain": [
       "    sub_word_count           sub_length          \n",
       "              mean  max min        mean   max min\n",
       "sex                                              \n",
       "0        20.142287  470   1  120.765352  2660   1\n",
       "1        28.254643  349   1  167.806452  2052   1"
      ]
     },
     "execution_count": 1569,
     "metadata": {},
     "output_type": "execute_result"
    }
   ],
   "source": [
    "df.groupby('sex').agg(['mean',\"max\",\"min\"])"
   ]
  },
  {
   "cell_type": "code",
   "execution_count": null,
   "metadata": {},
   "outputs": [],
   "source": []
  },
  {
   "cell_type": "code",
   "execution_count": 1514,
   "metadata": {},
   "outputs": [
    {
     "data": {
      "text/plain": [
       "<Figure size 432x288 with 0 Axes>"
      ]
     },
     "metadata": {},
     "output_type": "display_data"
    },
    {
     "data": {
      "image/png": "[encoded data removed]",
      "text/plain": [
       "<Figure size 1152x576 with 4 Axes>"
      ]
     },
     "metadata": {
      "needs_background": "light"
     },
     "output_type": "display_data"
    }
   ],
   "source": [
    "\n",
    "plt.tight_layout()\n",
    "fig, (ax1, ax2,ax3,ax4) = plt.subplots(4,1, figsize=(16,8))\n",
    "plt.title(\"String length\")\n",
    "\n",
    "sns.histplot(df[df[\"sex\"]==1]['sub_word_count'], ax=ax1,bins=100,)\n",
    "sns.histplot(df[df[\"sex\"]==1]['sub_length'], ax=ax2,bins=100)\n",
    "ax1.set_xticks=\"ddd\"\n",
    "sns.histplot(df[df[\"sex\"]==0]['sub_word_count'], ax=ax3,bins=100)\n",
    "sns.histplot(df[df[\"sex\"]==0]['sub_length'], ax=ax4,bins=100)\n",
    "plt.show()"
   ]
  },
  {
   "cell_type": "code",
   "execution_count": 1451,
   "metadata": {},
   "outputs": [
    {
     "data": {
      "text/plain": [
       "(count    2046.000000\n",
       " mean       28.551320\n",
       " std        32.520658\n",
       " min         1.000000\n",
       " 25%         8.000000\n",
       " 50%        17.000000\n",
       " 75%        37.000000\n",
       " max       349.000000\n",
       " Name: sub_word_count, dtype: float64,\n",
       " count    2043.000000\n",
       " mean       20.423886\n",
       " std        36.788706\n",
       " min         1.000000\n",
       " 25%         5.000000\n",
       " 50%         9.000000\n",
       " 75%        19.000000\n",
       " max       470.000000\n",
       " Name: sub_word_count, dtype: float64)"
      ]
     },
     "execution_count": 1451,
     "metadata": {},
     "output_type": "execute_result"
    }
   ],
   "source": [
    "df[df[\"sex\"]==1]['sub_word_count'].describe(),df[df[\"sex\"]==0]['sub_word_count'].describe()"
   ]
  },
  {
   "cell_type": "code",
   "execution_count": 1570,
   "metadata": {},
   "outputs": [
    {
     "data": {
      "text/plain": [
       "(count    2046.000000\n",
       " mean      167.806452\n",
       " std       189.760371\n",
       " min         1.000000\n",
       " 25%        50.000000\n",
       " 50%       106.000000\n",
       " 75%       216.750000\n",
       " max      2052.000000\n",
       " Name: sub_length, dtype: float64,\n",
       " count    2003.000000\n",
       " mean      120.765352\n",
       " std       215.469151\n",
       " min         1.000000\n",
       " 25%        30.000000\n",
       " 50%        52.000000\n",
       " 75%       116.000000\n",
       " max      2660.000000\n",
       " Name: sub_length, dtype: float64)"
      ]
     },
     "execution_count": 1570,
     "metadata": {},
     "output_type": "execute_result"
    }
   ],
   "source": [
    "df[df[\"sex\"]==1]['sub_length'].describe(),df[df[\"sex\"]==0]['sub_length'].describe()"
   ]
  },
  {
   "cell_type": "code",
   "execution_count": 1453,
   "metadata": {},
   "outputs": [
    {
     "data": {
      "text/plain": [
       "<AxesSubplot:>"
      ]
     },
     "execution_count": 1453,
     "metadata": {},
     "output_type": "execute_result"
    },
    {
     "data": {
      "image/png": "[encoded data removed]",
      "text/plain": [
       "<Figure size 432x288 with 2 Axes>"
      ]
     },
     "metadata": {
      "needs_background": "light"
     },
     "output_type": "display_data"
    }
   ],
   "source": [
    "sns.heatmap(df.corr(),annot=True, vmin=-1,vmax=1,cmap=\"viridis\")"
   ]
  },
  {
   "cell_type": "code",
   "execution_count": 1454,
   "metadata": {},
   "outputs": [
    {
     "data": {
      "text/plain": [
       "<seaborn.axisgrid.PairGrid at 0x7f8907210310>"
      ]
     },
     "execution_count": 1454,
     "metadata": {},
     "output_type": "execute_result"
    },
    {
     "data": {
      "image/png": "[encoded data removed]",
      "text/plain": [
       "<Figure size 540x540 with 12 Axes>"
      ]
     },
     "metadata": {
      "needs_background": "light"
     },
     "output_type": "display_data"
    }
   ],
   "source": [
    "sns.pairplot(df)"
   ]
  },
  {
   "cell_type": "code",
   "execution_count": 1587,
   "metadata": {},
   "outputs": [
    {
     "data": {
      "text/plain": [
       "submissions         bigrams\n",
       "(, )                2.0        454\n",
       "(feel, like)        1.0        260\n",
       "(, )                4.0        231\n",
       "(, year)            1.0        200\n",
       "(I, )               1.0        133\n",
       "                              ... \n",
       "(huge, saggy)       1.0          1\n",
       "(huge, scent)       1.0          1\n",
       "(huge, screaming)   1.0          1\n",
       "(huge, societal)    1.0          1\n",
       "(like, difference)  1.0          1\n",
       "Length: 66228, dtype: int64"
      ]
     },
     "execution_count": 1587,
     "metadata": {},
     "output_type": "execute_result"
    }
   ],
   "source": [
    "whitespaces_drop = lambda s: \" \".join(s.split())\n",
    "bigram_freq = lambda s: list(nltk.FreqDist(nltk.bigrams(s.split(\" \"))).items())\n",
    "\n",
    "\n",
    "out = df['comment'].apply(whitespaces_drop)\n",
    "out=clean(out)\n",
    "out = df['comment'].apply(bigram_freq).explode()\n",
    "out = pd.DataFrame(out.to_list(), index=out.index, columns=[\"submissions\", \"bigrams\"])\n",
    "out.value_counts()"
   ]
  },
  {
   "cell_type": "code",
   "execution_count": 1576,
   "metadata": {},
   "outputs": [
    {
     "data": {
      "text/plain": [
       "submissions         bigrams\n",
       "(, )                2.0        454\n",
       "(feel, like)        1.0        260\n",
       "(, )                4.0        231\n",
       "(, year)            1.0        200\n",
       "(I, )               1.0        133\n",
       "                              ... \n",
       "(huge, saggy)       1.0          1\n",
       "(huge, scent)       1.0          1\n",
       "(huge, screaming)   1.0          1\n",
       "(huge, societal)    1.0          1\n",
       "(like, difference)  1.0          1\n",
       "Length: 66228, dtype: int64"
      ]
     },
     "execution_count": 1576,
     "metadata": {},
     "output_type": "execute_result"
    }
   ],
   "source": [
    "out.value_counts()"
   ]
  },
  {
   "cell_type": "code",
   "execution_count": 1458,
   "metadata": {},
   "outputs": [
    {
     "data": {
      "text/plain": [
       "submissions    bigrams\n",
       "(, , )         1.0        453\n",
       "(, , year)     1.0        199\n",
       "(, , )         2.0        171\n",
       "(I, , )        1.0        134\n",
       "(, , )         3.0        122\n",
       "(, , month)    1.0         78\n",
       "(, , )         4.0         77\n",
       "(like, , )     1.0         76\n",
       "(, year, old)  1.0         70\n",
       "(, , )         5.0         64\n",
       "(, , time)     1.0         53\n",
       "(, , week)     1.0         44\n",
       "(, , day)      1.0         39\n",
       "(, , hour)     1.0         31\n",
       "(, , year)     2.0         29\n",
       "dtype: int64"
      ]
     },
     "execution_count": 1458,
     "metadata": {},
     "output_type": "execute_result"
    }
   ],
   "source": [
    "bigram_freq = lambda s: list(nltk.FreqDist(nltk.trigrams(s.split(\" \"))).items())\n",
    "\n",
    "out = df['comment'].apply(bigram_freq).explode()\n",
    "out = pd.DataFrame(out.to_list(), index=out.index, columns=[\"submissions\", \"bigrams\"])\n",
    "out.value_counts().head(15)"
   ]
  },
  {
   "cell_type": "markdown",
   "metadata": {},
   "source": [
    "# Tokenization"
   ]
  },
  {
   "cell_type": "code",
   "execution_count": 1462,
   "metadata": {},
   "outputs": [],
   "source": [
    "def get_tokens(docs):\n",
    "    df_tokens = []\n",
    "    for x in docs:\n",
    "        man=nlp(x)\n",
    "        for token in man:\n",
    "            t_dict = {\n",
    "            'text': token,\n",
    "            'POS': token.pos_,\n",
    "            'POS explained': spacy.explain(token.pos_),        \n",
    "            'lemma': token.lemma_\n",
    "            }\n",
    "            df_tokens.append(t_dict)\n",
    "        \n",
    "    return pd.DataFrame(df_tokens)"
   ]
  },
  {
   "cell_type": "code",
   "execution_count": 1515,
   "metadata": {},
   "outputs": [],
   "source": [
    "docs_man = list(nlp.pipe(df[df['sex']==1][\"comment\"]))\n",
    "docs_woman = list(nlp.pipe(df[df['sex']==0][\"comment\"]))"
   ]
  },
  {
   "cell_type": "code",
   "execution_count": 1516,
   "metadata": {},
   "outputs": [],
   "source": [
    "df_man_tokens=get_tokens(docs_man)\n",
    "df_woman_tokens=get_tokens(docs_woman)\n"
   ]
  },
  {
   "cell_type": "code",
   "execution_count": 1517,
   "metadata": {},
   "outputs": [
    {
     "data": {
      "text/plain": [
       "(55611, 4)"
      ]
     },
     "execution_count": 1517,
     "metadata": {},
     "output_type": "execute_result"
    }
   ],
   "source": [
    "df_man_tokens.shape"
   ]
  },
  {
   "cell_type": "code",
   "execution_count": 1518,
   "metadata": {},
   "outputs": [
    {
     "data": {
      "text/plain": [
       "(279, 4)"
      ]
     },
     "execution_count": 1518,
     "metadata": {},
     "output_type": "execute_result"
    }
   ],
   "source": [
    "df_man_tokens[df_man_tokens[\"POS\"]==\"AUX\"].shape"
   ]
  },
  {
   "cell_type": "code",
   "execution_count": 1519,
   "metadata": {},
   "outputs": [],
   "source": [
    "df_man_tokens=get_tokens(docs_man)\n",
    "df_woman_tokens=get_tokens(docs_woman)\n"
   ]
  },
  {
   "cell_type": "code",
   "execution_count": 1520,
   "metadata": {},
   "outputs": [],
   "source": [
    "df_man_tokens.reset_index(inplace=True)\n",
    "df_man_tokens.drop(columns='index',inplace=True)"
   ]
  },
  {
   "cell_type": "code",
   "execution_count": 1521,
   "metadata": {},
   "outputs": [
    {
     "data": {
      "text/html": [
       "<div>\n",
       "<style scoped>\n",
       "    .dataframe tbody tr th:only-of-type {\n",
       "        vertical-align: middle;\n",
       "    }\n",
       "\n",
       "    .dataframe tbody tr th {\n",
       "        vertical-align: top;\n",
       "    }\n",
       "\n",
       "    .dataframe thead th {\n",
       "        text-align: right;\n",
       "    }\n",
       "</style>\n",
       "<table border=\"1\" class=\"dataframe\">\n",
       "  <thead>\n",
       "    <tr style=\"text-align: right;\">\n",
       "      <th></th>\n",
       "      <th>text</th>\n",
       "      <th>POS</th>\n",
       "      <th>POS explained</th>\n",
       "      <th>lemma</th>\n",
       "    </tr>\n",
       "  </thead>\n",
       "  <tbody>\n",
       "    <tr>\n",
       "      <th>0</th>\n",
       "      <td>happen</td>\n",
       "      <td>VERB</td>\n",
       "      <td>verb</td>\n",
       "      <td>happen</td>\n",
       "    </tr>\n",
       "    <tr>\n",
       "      <th>1</th>\n",
       "      <td>today</td>\n",
       "      <td>NOUN</td>\n",
       "      <td>noun</td>\n",
       "      <td>today</td>\n",
       "    </tr>\n",
       "    <tr>\n",
       "      <th>2</th>\n",
       "      <td>tell</td>\n",
       "      <td>VERB</td>\n",
       "      <td>verb</td>\n",
       "      <td>tell</td>\n",
       "    </tr>\n",
       "    <tr>\n",
       "      <th>3</th>\n",
       "      <td>friend</td>\n",
       "      <td>NOUN</td>\n",
       "      <td>noun</td>\n",
       "      <td>friend</td>\n",
       "    </tr>\n",
       "    <tr>\n",
       "      <th>4</th>\n",
       "      <td>talk</td>\n",
       "      <td>NOUN</td>\n",
       "      <td>noun</td>\n",
       "      <td>talk</td>\n",
       "    </tr>\n",
       "    <tr>\n",
       "      <th>...</th>\n",
       "      <td>...</td>\n",
       "      <td>...</td>\n",
       "      <td>...</td>\n",
       "      <td>...</td>\n",
       "    </tr>\n",
       "    <tr>\n",
       "      <th>55606</th>\n",
       "      <td>nice</td>\n",
       "      <td>ADJ</td>\n",
       "      <td>adjective</td>\n",
       "      <td>nice</td>\n",
       "    </tr>\n",
       "    <tr>\n",
       "      <th>55607</th>\n",
       "      <td>guy</td>\n",
       "      <td>NOUN</td>\n",
       "      <td>noun</td>\n",
       "      <td>guy</td>\n",
       "    </tr>\n",
       "    <tr>\n",
       "      <th>55608</th>\n",
       "      <td>ghost</td>\n",
       "      <td>NOUN</td>\n",
       "      <td>noun</td>\n",
       "      <td>ghost</td>\n",
       "    </tr>\n",
       "    <tr>\n",
       "      <th>55609</th>\n",
       "      <td>wonder</td>\n",
       "      <td>NOUN</td>\n",
       "      <td>noun</td>\n",
       "      <td>wonder</td>\n",
       "    </tr>\n",
       "    <tr>\n",
       "      <th>55610</th>\n",
       "      <td>improve</td>\n",
       "      <td>VERB</td>\n",
       "      <td>verb</td>\n",
       "      <td>improve</td>\n",
       "    </tr>\n",
       "  </tbody>\n",
       "</table>\n",
       "<p>55611 rows × 4 columns</p>\n",
       "</div>"
      ],
      "text/plain": [
       "          text   POS POS explained    lemma\n",
       "0       happen  VERB          verb   happen\n",
       "1        today  NOUN          noun    today\n",
       "2         tell  VERB          verb     tell\n",
       "3       friend  NOUN          noun   friend\n",
       "4         talk  NOUN          noun     talk\n",
       "...        ...   ...           ...      ...\n",
       "55606     nice   ADJ     adjective     nice\n",
       "55607      guy  NOUN          noun      guy\n",
       "55608    ghost  NOUN          noun    ghost\n",
       "55609   wonder  NOUN          noun   wonder\n",
       "55610  improve  VERB          verb  improve\n",
       "\n",
       "[55611 rows x 4 columns]"
      ]
     },
     "execution_count": 1521,
     "metadata": {},
     "output_type": "execute_result"
    }
   ],
   "source": [
    "df_man_tokens"
   ]
  },
  {
   "cell_type": "code",
   "execution_count": 1522,
   "metadata": {},
   "outputs": [
    {
     "data": {
      "text/plain": [
       "<AxesSubplot:>"
      ]
     },
     "execution_count": 1522,
     "metadata": {},
     "output_type": "execute_result"
    },
    {
     "data": {
      "image/png": "[encoded data removed]",
      "text/plain": [
       "<Figure size 1080x1080 with 1 Axes>"
      ]
     },
     "metadata": {
      "needs_background": "light"
     },
     "output_type": "display_data"
    }
   ],
   "source": [
    "plt.figure(figsize=(15,15))\n",
    "df_man_tokens[\"lemma\"].value_counts().sort_values(ascending=False).head(40).plot(kind=\"barh\")"
   ]
  },
  {
   "cell_type": "markdown",
   "metadata": {},
   "source": [
    "### Now let's look at the most popular words in the AskWoman section"
   ]
  },
  {
   "cell_type": "code",
   "execution_count": 1523,
   "metadata": {},
   "outputs": [
    {
     "data": {
      "text/html": [
       "<div>\n",
       "<style scoped>\n",
       "    .dataframe tbody tr th:only-of-type {\n",
       "        vertical-align: middle;\n",
       "    }\n",
       "\n",
       "    .dataframe tbody tr th {\n",
       "        vertical-align: top;\n",
       "    }\n",
       "\n",
       "    .dataframe thead th {\n",
       "        text-align: right;\n",
       "    }\n",
       "</style>\n",
       "<table border=\"1\" class=\"dataframe\">\n",
       "  <thead>\n",
       "    <tr style=\"text-align: right;\">\n",
       "      <th></th>\n",
       "      <th>text</th>\n",
       "      <th>POS</th>\n",
       "      <th>POS explained</th>\n",
       "      <th>lemma</th>\n",
       "    </tr>\n",
       "  </thead>\n",
       "  <tbody>\n",
       "    <tr>\n",
       "      <th>33036</th>\n",
       "      <td>try</td>\n",
       "      <td>AUX</td>\n",
       "      <td>auxiliary</td>\n",
       "      <td>try</td>\n",
       "    </tr>\n",
       "    <tr>\n",
       "      <th>39733</th>\n",
       "      <td>let</td>\n",
       "      <td>AUX</td>\n",
       "      <td>auxiliary</td>\n",
       "      <td>let</td>\n",
       "    </tr>\n",
       "    <tr>\n",
       "      <th>23296</th>\n",
       "      <td>know</td>\n",
       "      <td>AUX</td>\n",
       "      <td>auxiliary</td>\n",
       "      <td>know</td>\n",
       "    </tr>\n",
       "    <tr>\n",
       "      <th>37039</th>\n",
       "      <td>need</td>\n",
       "      <td>AUX</td>\n",
       "      <td>auxiliary</td>\n",
       "      <td>need</td>\n",
       "    </tr>\n",
       "    <tr>\n",
       "      <th>1010</th>\n",
       "      <td>try</td>\n",
       "      <td>AUX</td>\n",
       "      <td>auxiliary</td>\n",
       "      <td>try</td>\n",
       "    </tr>\n",
       "    <tr>\n",
       "      <th>20234</th>\n",
       "      <td>want</td>\n",
       "      <td>AUX</td>\n",
       "      <td>auxiliary</td>\n",
       "      <td>want</td>\n",
       "    </tr>\n",
       "    <tr>\n",
       "      <th>36619</th>\n",
       "      <td>try</td>\n",
       "      <td>AUX</td>\n",
       "      <td>auxiliary</td>\n",
       "      <td>try</td>\n",
       "    </tr>\n",
       "    <tr>\n",
       "      <th>20226</th>\n",
       "      <td>let</td>\n",
       "      <td>AUX</td>\n",
       "      <td>auxiliary</td>\n",
       "      <td>let</td>\n",
       "    </tr>\n",
       "    <tr>\n",
       "      <th>14555</th>\n",
       "      <td>let</td>\n",
       "      <td>AUX</td>\n",
       "      <td>auxiliary</td>\n",
       "      <td>let</td>\n",
       "    </tr>\n",
       "    <tr>\n",
       "      <th>2533</th>\n",
       "      <td>try</td>\n",
       "      <td>AUX</td>\n",
       "      <td>auxiliary</td>\n",
       "      <td>try</td>\n",
       "    </tr>\n",
       "  </tbody>\n",
       "</table>\n",
       "</div>"
      ],
      "text/plain": [
       "       text  POS POS explained lemma\n",
       "33036   try  AUX     auxiliary   try\n",
       "39733   let  AUX     auxiliary   let\n",
       "23296  know  AUX     auxiliary  know\n",
       "37039  need  AUX     auxiliary  need\n",
       "1010    try  AUX     auxiliary   try\n",
       "20234  want  AUX     auxiliary  want\n",
       "36619   try  AUX     auxiliary   try\n",
       "20226   let  AUX     auxiliary   let\n",
       "14555   let  AUX     auxiliary   let\n",
       "2533    try  AUX     auxiliary   try"
      ]
     },
     "execution_count": 1523,
     "metadata": {},
     "output_type": "execute_result"
    }
   ],
   "source": [
    "df_woman_tokens[df_woman_tokens[\"POS\"]==\"AUX\"].sample(10)"
   ]
  },
  {
   "cell_type": "code",
   "execution_count": 1524,
   "metadata": {},
   "outputs": [
    {
     "data": {
      "text/plain": [
       "<AxesSubplot:>"
      ]
     },
     "execution_count": 1524,
     "metadata": {},
     "output_type": "execute_result"
    },
    {
     "data": {
      "image/png": "[encoded data removed]",
      "text/plain": [
       "<Figure size 1080x1080 with 1 Axes>"
      ]
     },
     "metadata": {
      "needs_background": "light"
     },
     "output_type": "display_data"
    }
   ],
   "source": [
    "df_woman_tokens=df_woman_tokens[df_woman_tokens[\"POS\"]!=\"AUX\"]\n",
    "df_woman_tokens=df_woman_tokens[df_woman_tokens[\"POS\"]!=\"SPACE\"]\n",
    "# df_woman_tokens=df_woman_tokens[df_woman_tokens[\"POS\"]!=\"PROPN\"]\n",
    "df_woman_tokens.reset_index(inplace=True)\n",
    "df_woman_tokens.drop(columns='index',inplace=True)\n",
    "plt.figure(figsize=(15,15))\n",
    "df_woman_tokens[\"lemma\"].value_counts().sort_values(ascending=False).head(40).plot(kind=\"barh\")"
   ]
  },
  {
   "cell_type": "markdown",
   "metadata": {},
   "source": [
    "Almost all of most frequent words are Stopwords. "
   ]
  },
  {
   "cell_type": "markdown",
   "metadata": {},
   "source": [
    "### Removing StopWords\n"
   ]
  },
  {
   "cell_type": "code",
   "execution_count": 1525,
   "metadata": {},
   "outputs": [
    {
     "name": "stdout",
     "output_type": "stream",
     "text": [
      "55611\n",
      "55592\n",
      "55592\n"
     ]
    }
   ],
   "source": [
    "print(df_man_tokens.shape[0])\n",
    "df_man_tokens_stopwords=df_man_tokens[~df_man_tokens['lemma'].isin(nlp.Defaults.stop_words)]\n",
    "print(df_man_tokens_stopwords.shape[0])\n",
    "df_man_tokens_stopwords=df_man_tokens_stopwords[~df_man_tokens_stopwords['lemma'].isin(stopwords.words('english'))]\n",
    "print(df_man_tokens_stopwords.shape[0])\n"
   ]
  },
  {
   "cell_type": "code",
   "execution_count": 1526,
   "metadata": {},
   "outputs": [
    {
     "name": "stdout",
     "output_type": "stream",
     "text": [
      "38825\n",
      "38817\n",
      "38817\n"
     ]
    }
   ],
   "source": [
    "print(df_woman_tokens.shape[0])\n",
    "df_woman_tokens_stopwords=df_woman_tokens[~df_woman_tokens['lemma'].isin(nlp.Defaults.stop_words)]\n",
    "print(df_woman_tokens_stopwords.shape[0])\n",
    "df_woman_tokens_stopwords=df_woman_tokens_stopwords[~df_woman_tokens_stopwords['lemma'].isin(stopwords.words('english'))]\n",
    "print(df_woman_tokens_stopwords.shape[0])"
   ]
  },
  {
   "cell_type": "code",
   "execution_count": 1527,
   "metadata": {},
   "outputs": [
    {
     "data": {
      "text/plain": [
       "<AxesSubplot:>"
      ]
     },
     "execution_count": 1527,
     "metadata": {},
     "output_type": "execute_result"
    },
    {
     "data": {
      "image/png": "[encoded data removed]",
      "text/plain": [
       "<Figure size 1080x1080 with 1 Axes>"
      ]
     },
     "metadata": {
      "needs_background": "light"
     },
     "output_type": "display_data"
    }
   ],
   "source": [
    "plt.figure(figsize=(15,15))\n",
    "df_man_tokens_stopwords[\"lemma\"].value_counts().sort_values(ascending=False).head(40).plot(kind=\"barh\")"
   ]
  },
  {
   "cell_type": "code",
   "execution_count": 1528,
   "metadata": {},
   "outputs": [
    {
     "data": {
      "text/plain": [
       "<AxesSubplot:>"
      ]
     },
     "execution_count": 1528,
     "metadata": {},
     "output_type": "execute_result"
    },
    {
     "data": {
      "image/png": "[encoded data removed]",
      "text/plain": [
       "<Figure size 1080x1080 with 1 Axes>"
      ]
     },
     "metadata": {
      "needs_background": "light"
     },
     "output_type": "display_data"
    }
   ],
   "source": [
    "plt.figure(figsize=(15,15))\n",
    "df_woman_tokens_stopwords[\"lemma\"].value_counts().sort_values(ascending=False).head(40).plot(kind=\"barh\")"
   ]
  },
  {
   "cell_type": "code",
   "execution_count": 1529,
   "metadata": {},
   "outputs": [
    {
     "name": "stdout",
     "output_type": "stream",
     "text": [
      "55592\n"
     ]
    },
    {
     "data": {
      "text/plain": [
       "5872"
      ]
     },
     "execution_count": 1529,
     "metadata": {},
     "output_type": "execute_result"
    }
   ],
   "source": [
    "print(df_man_tokens_stopwords.shape[0])\n",
    "len(set(df_man_tokens_stopwords[\"lemma\"]))"
   ]
  },
  {
   "cell_type": "code",
   "execution_count": 1530,
   "metadata": {},
   "outputs": [
    {
     "name": "stdout",
     "output_type": "stream",
     "text": [
      "38817\n"
     ]
    },
    {
     "data": {
      "text/plain": [
       "5142"
      ]
     },
     "execution_count": 1530,
     "metadata": {},
     "output_type": "execute_result"
    }
   ],
   "source": [
    "print(df_woman_tokens_stopwords.shape[0])\n",
    "len(set(df_woman_tokens_stopwords[\"lemma\"]))\n",
    " "
   ]
  },
  {
   "cell_type": "code",
   "execution_count": 1531,
   "metadata": {},
   "outputs": [
    {
     "data": {
      "text/html": [
       "<div>\n",
       "<style scoped>\n",
       "    .dataframe tbody tr th:only-of-type {\n",
       "        vertical-align: middle;\n",
       "    }\n",
       "\n",
       "    .dataframe tbody tr th {\n",
       "        vertical-align: top;\n",
       "    }\n",
       "\n",
       "    .dataframe thead th {\n",
       "        text-align: right;\n",
       "    }\n",
       "</style>\n",
       "<table border=\"1\" class=\"dataframe\">\n",
       "  <thead>\n",
       "    <tr style=\"text-align: right;\">\n",
       "      <th></th>\n",
       "      <th>text</th>\n",
       "      <th>POS</th>\n",
       "      <th>POS explained</th>\n",
       "      <th>lemma</th>\n",
       "    </tr>\n",
       "  </thead>\n",
       "  <tbody>\n",
       "    <tr>\n",
       "      <th>0</th>\n",
       "      <td>I</td>\n",
       "      <td>PRON</td>\n",
       "      <td>pronoun</td>\n",
       "      <td>I</td>\n",
       "    </tr>\n",
       "    <tr>\n",
       "      <th>1</th>\n",
       "      <td>find</td>\n",
       "      <td>VERB</td>\n",
       "      <td>verb</td>\n",
       "      <td>find</td>\n",
       "    </tr>\n",
       "    <tr>\n",
       "      <th>2</th>\n",
       "      <td>trouble</td>\n",
       "      <td>NOUN</td>\n",
       "      <td>noun</td>\n",
       "      <td>trouble</td>\n",
       "    </tr>\n",
       "    <tr>\n",
       "      <th>3</th>\n",
       "      <td>miss</td>\n",
       "      <td>VERB</td>\n",
       "      <td>verb</td>\n",
       "      <td>miss</td>\n",
       "    </tr>\n",
       "    <tr>\n",
       "      <th>4</th>\n",
       "      <td>ex</td>\n",
       "      <td>PROPN</td>\n",
       "      <td>proper noun</td>\n",
       "      <td>ex</td>\n",
       "    </tr>\n",
       "    <tr>\n",
       "      <th>...</th>\n",
       "      <td>...</td>\n",
       "      <td>...</td>\n",
       "      <td>...</td>\n",
       "      <td>...</td>\n",
       "    </tr>\n",
       "    <tr>\n",
       "      <th>38812</th>\n",
       "      <td>suggestion</td>\n",
       "      <td>NOUN</td>\n",
       "      <td>noun</td>\n",
       "      <td>suggestion</td>\n",
       "    </tr>\n",
       "    <tr>\n",
       "      <th>38813</th>\n",
       "      <td>story</td>\n",
       "      <td>NOUN</td>\n",
       "      <td>noun</td>\n",
       "      <td>story</td>\n",
       "    </tr>\n",
       "    <tr>\n",
       "      <th>38814</th>\n",
       "      <td>girl</td>\n",
       "      <td>NOUN</td>\n",
       "      <td>noun</td>\n",
       "      <td>girl</td>\n",
       "    </tr>\n",
       "    <tr>\n",
       "      <th>38815</th>\n",
       "      <td>girl</td>\n",
       "      <td>NOUN</td>\n",
       "      <td>noun</td>\n",
       "      <td>girl</td>\n",
       "    </tr>\n",
       "    <tr>\n",
       "      <th>38816</th>\n",
       "      <td>experience</td>\n",
       "      <td>NOUN</td>\n",
       "      <td>noun</td>\n",
       "      <td>experience</td>\n",
       "    </tr>\n",
       "  </tbody>\n",
       "</table>\n",
       "<p>38817 rows × 4 columns</p>\n",
       "</div>"
      ],
      "text/plain": [
       "             text    POS POS explained       lemma\n",
       "0               I   PRON       pronoun           I\n",
       "1            find   VERB          verb        find\n",
       "2         trouble   NOUN          noun     trouble\n",
       "3            miss   VERB          verb        miss\n",
       "4              ex  PROPN   proper noun          ex\n",
       "...           ...    ...           ...         ...\n",
       "38812  suggestion   NOUN          noun  suggestion\n",
       "38813       story   NOUN          noun       story\n",
       "38814        girl   NOUN          noun        girl\n",
       "38815        girl   NOUN          noun        girl\n",
       "38816  experience   NOUN          noun  experience\n",
       "\n",
       "[38817 rows x 4 columns]"
      ]
     },
     "execution_count": 1531,
     "metadata": {},
     "output_type": "execute_result"
    }
   ],
   "source": [
    "df_woman_tokens_stopwords.reset_index(inplace=True)\n",
    "df_woman_tokens_stopwords.drop(columns='index',inplace=True)\n",
    "df_man_tokens_stopwords.reset_index(inplace=True)\n",
    "df_man_tokens_stopwords.drop(columns='index',inplace=True)\n",
    "df_woman_tokens_stopwords\n",
    "\n"
   ]
  },
  {
   "cell_type": "code",
   "execution_count": 1532,
   "metadata": {},
   "outputs": [
    {
     "data": {
      "text/html": [
       "<div>\n",
       "<style scoped>\n",
       "    .dataframe tbody tr th:only-of-type {\n",
       "        vertical-align: middle;\n",
       "    }\n",
       "\n",
       "    .dataframe tbody tr th {\n",
       "        vertical-align: top;\n",
       "    }\n",
       "\n",
       "    .dataframe thead th {\n",
       "        text-align: right;\n",
       "    }\n",
       "</style>\n",
       "<table border=\"1\" class=\"dataframe\">\n",
       "  <thead>\n",
       "    <tr style=\"text-align: right;\">\n",
       "      <th></th>\n",
       "      <th>text</th>\n",
       "      <th>POS</th>\n",
       "      <th>POS explained</th>\n",
       "      <th>lemma</th>\n",
       "    </tr>\n",
       "  </thead>\n",
       "  <tbody>\n",
       "    <tr>\n",
       "      <th>0</th>\n",
       "      <td>I</td>\n",
       "      <td>PRON</td>\n",
       "      <td>pronoun</td>\n",
       "      <td>I</td>\n",
       "    </tr>\n",
       "    <tr>\n",
       "      <th>1</th>\n",
       "      <td>find</td>\n",
       "      <td>VERB</td>\n",
       "      <td>verb</td>\n",
       "      <td>find</td>\n",
       "    </tr>\n",
       "    <tr>\n",
       "      <th>2</th>\n",
       "      <td>trouble</td>\n",
       "      <td>NOUN</td>\n",
       "      <td>noun</td>\n",
       "      <td>trouble</td>\n",
       "    </tr>\n",
       "    <tr>\n",
       "      <th>3</th>\n",
       "      <td>miss</td>\n",
       "      <td>VERB</td>\n",
       "      <td>verb</td>\n",
       "      <td>miss</td>\n",
       "    </tr>\n",
       "    <tr>\n",
       "      <th>4</th>\n",
       "      <td>ex</td>\n",
       "      <td>PROPN</td>\n",
       "      <td>proper noun</td>\n",
       "      <td>ex</td>\n",
       "    </tr>\n",
       "    <tr>\n",
       "      <th>...</th>\n",
       "      <td>...</td>\n",
       "      <td>...</td>\n",
       "      <td>...</td>\n",
       "      <td>...</td>\n",
       "    </tr>\n",
       "    <tr>\n",
       "      <th>38812</th>\n",
       "      <td>suggestion</td>\n",
       "      <td>NOUN</td>\n",
       "      <td>noun</td>\n",
       "      <td>suggestion</td>\n",
       "    </tr>\n",
       "    <tr>\n",
       "      <th>38813</th>\n",
       "      <td>story</td>\n",
       "      <td>NOUN</td>\n",
       "      <td>noun</td>\n",
       "      <td>story</td>\n",
       "    </tr>\n",
       "    <tr>\n",
       "      <th>38814</th>\n",
       "      <td>girl</td>\n",
       "      <td>NOUN</td>\n",
       "      <td>noun</td>\n",
       "      <td>girl</td>\n",
       "    </tr>\n",
       "    <tr>\n",
       "      <th>38815</th>\n",
       "      <td>girl</td>\n",
       "      <td>NOUN</td>\n",
       "      <td>noun</td>\n",
       "      <td>girl</td>\n",
       "    </tr>\n",
       "    <tr>\n",
       "      <th>38816</th>\n",
       "      <td>experience</td>\n",
       "      <td>NOUN</td>\n",
       "      <td>noun</td>\n",
       "      <td>experience</td>\n",
       "    </tr>\n",
       "  </tbody>\n",
       "</table>\n",
       "<p>38817 rows × 4 columns</p>\n",
       "</div>"
      ],
      "text/plain": [
       "             text    POS POS explained       lemma\n",
       "0               I   PRON       pronoun           I\n",
       "1            find   VERB          verb        find\n",
       "2         trouble   NOUN          noun     trouble\n",
       "3            miss   VERB          verb        miss\n",
       "4              ex  PROPN   proper noun          ex\n",
       "...           ...    ...           ...         ...\n",
       "38812  suggestion   NOUN          noun  suggestion\n",
       "38813       story   NOUN          noun       story\n",
       "38814        girl   NOUN          noun        girl\n",
       "38815        girl   NOUN          noun        girl\n",
       "38816  experience   NOUN          noun  experience\n",
       "\n",
       "[38817 rows x 4 columns]"
      ]
     },
     "execution_count": 1532,
     "metadata": {},
     "output_type": "execute_result"
    }
   ],
   "source": [
    "df_woman_tokens_stopwords"
   ]
  },
  {
   "cell_type": "code",
   "execution_count": 1533,
   "metadata": {},
   "outputs": [
    {
     "name": "stderr",
     "output_type": "stream",
     "text": [
      "/Users/glebradchenko/opt/anaconda3/lib/python3.7/site-packages/ipykernel_launcher.py:3: SettingWithCopyWarning: \n",
      "A value is trying to be set on a copy of a slice from a DataFrame.\n",
      "Try using .loc[row_indexer,col_indexer] = value instead\n",
      "\n",
      "See the caveats in the documentation: https://pandas.pydata.org/pandas-docs/stable/user_guide/indexing.html#returning-a-view-versus-a-copy\n",
      "  This is separate from the ipykernel package so we can avoid doing imports until\n",
      "/Users/glebradchenko/opt/anaconda3/lib/python3.7/site-packages/ipykernel_launcher.py:4: SettingWithCopyWarning: \n",
      "A value is trying to be set on a copy of a slice from a DataFrame.\n",
      "Try using .loc[row_indexer,col_indexer] = value instead\n",
      "\n",
      "See the caveats in the documentation: https://pandas.pydata.org/pandas-docs/stable/user_guide/indexing.html#returning-a-view-versus-a-copy\n",
      "  after removing the cwd from sys.path.\n"
     ]
    },
    {
     "data": {
      "text/html": [
       "<div>\n",
       "<style scoped>\n",
       "    .dataframe tbody tr th:only-of-type {\n",
       "        vertical-align: middle;\n",
       "    }\n",
       "\n",
       "    .dataframe tbody tr th {\n",
       "        vertical-align: top;\n",
       "    }\n",
       "\n",
       "    .dataframe thead th {\n",
       "        text-align: right;\n",
       "    }\n",
       "</style>\n",
       "<table border=\"1\" class=\"dataframe\">\n",
       "  <thead>\n",
       "    <tr style=\"text-align: right;\">\n",
       "      <th></th>\n",
       "      <th>lemma</th>\n",
       "      <th>sex</th>\n",
       "    </tr>\n",
       "  </thead>\n",
       "  <tbody>\n",
       "    <tr>\n",
       "      <th>0</th>\n",
       "      <td>I</td>\n",
       "      <td>0</td>\n",
       "    </tr>\n",
       "    <tr>\n",
       "      <th>1</th>\n",
       "      <td>find</td>\n",
       "      <td>0</td>\n",
       "    </tr>\n",
       "    <tr>\n",
       "      <th>2</th>\n",
       "      <td>trouble</td>\n",
       "      <td>0</td>\n",
       "    </tr>\n",
       "    <tr>\n",
       "      <th>3</th>\n",
       "      <td>miss</td>\n",
       "      <td>0</td>\n",
       "    </tr>\n",
       "    <tr>\n",
       "      <th>4</th>\n",
       "      <td>ex</td>\n",
       "      <td>0</td>\n",
       "    </tr>\n",
       "    <tr>\n",
       "      <th>...</th>\n",
       "      <td>...</td>\n",
       "      <td>...</td>\n",
       "    </tr>\n",
       "    <tr>\n",
       "      <th>94404</th>\n",
       "      <td>nice</td>\n",
       "      <td>1</td>\n",
       "    </tr>\n",
       "    <tr>\n",
       "      <th>94405</th>\n",
       "      <td>guy</td>\n",
       "      <td>1</td>\n",
       "    </tr>\n",
       "    <tr>\n",
       "      <th>94406</th>\n",
       "      <td>ghost</td>\n",
       "      <td>1</td>\n",
       "    </tr>\n",
       "    <tr>\n",
       "      <th>94407</th>\n",
       "      <td>wonder</td>\n",
       "      <td>1</td>\n",
       "    </tr>\n",
       "    <tr>\n",
       "      <th>94408</th>\n",
       "      <td>improve</td>\n",
       "      <td>1</td>\n",
       "    </tr>\n",
       "  </tbody>\n",
       "</table>\n",
       "<p>94409 rows × 2 columns</p>\n",
       "</div>"
      ],
      "text/plain": [
       "         lemma  sex\n",
       "0            I    0\n",
       "1         find    0\n",
       "2      trouble    0\n",
       "3         miss    0\n",
       "4           ex    0\n",
       "...        ...  ...\n",
       "94404     nice    1\n",
       "94405      guy    1\n",
       "94406    ghost    1\n",
       "94407   wonder    1\n",
       "94408  improve    1\n",
       "\n",
       "[94409 rows x 2 columns]"
      ]
     },
     "execution_count": 1533,
     "metadata": {},
     "output_type": "execute_result"
    }
   ],
   "source": [
    "modeling_set_2_w=df_woman_tokens_stopwords[[\"lemma\"]]\n",
    "modeling_set_2_m=df_man_tokens_stopwords[[\"lemma\"]]\n",
    "modeling_set_2_w[\"sex\"]=0\n",
    "modeling_set_2_m['sex']=1\n",
    "modeling_set_2=pd.concat([modeling_set_2_w,modeling_set_2_m]);\n",
    "modeling_set_2.reset_index(inplace=True,drop=True)\n",
    "modeling_set_2"
   ]
  },
  {
   "cell_type": "code",
   "execution_count": 1534,
   "metadata": {},
   "outputs": [],
   "source": [
    "modeling_set_2.to_csv('../data/df_submissions_2nd.csv',index=False)"
   ]
  },
  {
   "cell_type": "code",
   "execution_count": 1535,
   "metadata": {},
   "outputs": [],
   "source": [
    "df_man_tokens_stopwords_uniq=df_man_tokens_stopwords.drop_duplicates('lemma')\n",
    "df_woman_tokens_stopwords_uniq=df_woman_tokens_stopwords.drop_duplicates('lemma')"
   ]
  },
  {
   "cell_type": "code",
   "execution_count": 1536,
   "metadata": {},
   "outputs": [
    {
     "data": {
      "text/html": [
       "<div>\n",
       "<style scoped>\n",
       "    .dataframe tbody tr th:only-of-type {\n",
       "        vertical-align: middle;\n",
       "    }\n",
       "\n",
       "    .dataframe tbody tr th {\n",
       "        vertical-align: top;\n",
       "    }\n",
       "\n",
       "    .dataframe thead th {\n",
       "        text-align: right;\n",
       "    }\n",
       "</style>\n",
       "<table border=\"1\" class=\"dataframe\">\n",
       "  <thead>\n",
       "    <tr style=\"text-align: right;\">\n",
       "      <th></th>\n",
       "      <th>text</th>\n",
       "      <th>POS</th>\n",
       "      <th>POS explained</th>\n",
       "      <th>lemma</th>\n",
       "    </tr>\n",
       "  </thead>\n",
       "  <tbody>\n",
       "    <tr>\n",
       "      <th>0</th>\n",
       "      <td>happen</td>\n",
       "      <td>VERB</td>\n",
       "      <td>verb</td>\n",
       "      <td>happen</td>\n",
       "    </tr>\n",
       "    <tr>\n",
       "      <th>1</th>\n",
       "      <td>today</td>\n",
       "      <td>NOUN</td>\n",
       "      <td>noun</td>\n",
       "      <td>today</td>\n",
       "    </tr>\n",
       "    <tr>\n",
       "      <th>2</th>\n",
       "      <td>tell</td>\n",
       "      <td>VERB</td>\n",
       "      <td>verb</td>\n",
       "      <td>tell</td>\n",
       "    </tr>\n",
       "    <tr>\n",
       "      <th>3</th>\n",
       "      <td>friend</td>\n",
       "      <td>NOUN</td>\n",
       "      <td>noun</td>\n",
       "      <td>friend</td>\n",
       "    </tr>\n",
       "    <tr>\n",
       "      <th>4</th>\n",
       "      <td>talk</td>\n",
       "      <td>NOUN</td>\n",
       "      <td>noun</td>\n",
       "      <td>talk</td>\n",
       "    </tr>\n",
       "    <tr>\n",
       "      <th>...</th>\n",
       "      <td>...</td>\n",
       "      <td>...</td>\n",
       "      <td>...</td>\n",
       "      <td>...</td>\n",
       "    </tr>\n",
       "    <tr>\n",
       "      <th>55561</th>\n",
       "      <td>verse</td>\n",
       "      <td>NOUN</td>\n",
       "      <td>noun</td>\n",
       "      <td>verse</td>\n",
       "    </tr>\n",
       "    <tr>\n",
       "      <th>55571</th>\n",
       "      <td>cuff</td>\n",
       "      <td>NOUN</td>\n",
       "      <td>noun</td>\n",
       "      <td>cuff</td>\n",
       "    </tr>\n",
       "    <tr>\n",
       "      <th>55573</th>\n",
       "      <td>pullin</td>\n",
       "      <td>VERB</td>\n",
       "      <td>verb</td>\n",
       "      <td>pullin</td>\n",
       "    </tr>\n",
       "    <tr>\n",
       "      <th>55574</th>\n",
       "      <td>spank</td>\n",
       "      <td>NOUN</td>\n",
       "      <td>noun</td>\n",
       "      <td>spank</td>\n",
       "    </tr>\n",
       "    <tr>\n",
       "      <th>55582</th>\n",
       "      <td>courtship</td>\n",
       "      <td>NOUN</td>\n",
       "      <td>noun</td>\n",
       "      <td>courtship</td>\n",
       "    </tr>\n",
       "  </tbody>\n",
       "</table>\n",
       "<p>5872 rows × 4 columns</p>\n",
       "</div>"
      ],
      "text/plain": [
       "            text   POS POS explained      lemma\n",
       "0         happen  VERB          verb     happen\n",
       "1          today  NOUN          noun      today\n",
       "2           tell  VERB          verb       tell\n",
       "3         friend  NOUN          noun     friend\n",
       "4           talk  NOUN          noun       talk\n",
       "...          ...   ...           ...        ...\n",
       "55561      verse  NOUN          noun      verse\n",
       "55571       cuff  NOUN          noun       cuff\n",
       "55573     pullin  VERB          verb     pullin\n",
       "55574      spank  NOUN          noun      spank\n",
       "55582  courtship  NOUN          noun  courtship\n",
       "\n",
       "[5872 rows x 4 columns]"
      ]
     },
     "execution_count": 1536,
     "metadata": {},
     "output_type": "execute_result"
    }
   ],
   "source": [
    "df_man_tokens_stopwords_uniq"
   ]
  }
 ],
 "metadata": {
  "kernelspec": {
   "display_name": "Python 3.7.13 ('base')",
   "language": "python",
   "name": "python3"
  },
  "language_info": {
   "codemirror_mode": {
    "name": "ipython",
    "version": 3
   },
   "file_extension": ".py",
   "mimetype": "text/x-python",
   "name": "python",
   "nbconvert_exporter": "python",
   "pygments_lexer": "ipython3",
   "version": "3.7.13"
  },
  "orig_nbformat": 4,
  "vscode": {
   "interpreter": {
    "hash": "28603a003e0f3f16b61e11e8a1b17d48703271cacfa540e5bfac5b9de251aa54"
   }
  }
 },
 "nbformat": 4,
 "nbformat_minor": 2
}
