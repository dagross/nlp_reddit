{
 "cells": [
  {
   "cell_type": "code",
   "execution_count": 1102,
   "metadata": {},
   "outputs": [],
   "source": [
    "#imports\n",
    "import warnings\n",
    "warnings.simplefilter(action='ignore', category=FutureWarning)\n",
    "\n",
    "import pandas as pd\n",
    "import numpy as np\n",
    "import matplotlib.pyplot as plt\n",
    "import seaborn as sns\n",
    "\n",
    "#nlp imports\n",
    "from nltk.stem import WordNetLemmatizer\n",
    "from nltk.sentiment.vader import SentimentIntensityAnalyzer\n",
    "from nltk.corpus import stopwords\n",
    "import spacy\n",
    "\n",
    "\n",
    "from multiprocessing import dummy\n",
    "from sklearn.model_selection import GridSearchCV, train_test_split\n",
    "from sklearn.pipeline import Pipeline\n",
    "from sklearn.linear_model import LogisticRegression\n",
    "from sklearn.metrics import confusion_matrix, plot_confusion_matrix,f1_score\n",
    "from sklearn.neighbors import KNeighborsClassifier\n",
    "from sklearn.feature_extraction.text import TfidfVectorizer,CountVectorizer\n",
    "from sklearn.feature_extraction import text\n",
    "from sklearn.naive_bayes import MultinomialNB\n",
    "from sklearn.metrics import plot_roc_curve\n",
    "from sklearn.tree import DecisionTreeClassifier\n",
    "from sklearn.tree import plot_tree\n",
    "from sklearn.ensemble import BaggingClassifier,StackingClassifier\n",
    "from sklearn.ensemble import RandomForestClassifier,ExtraTreesClassifier\n",
    "from sklearn.ensemble import GradientBoostingClassifier,AdaBoostClassifier,VotingClassifier\n",
    "from sklearn.dummy import DummyClassifier\n",
    "\n",
    "\n",
    "from colorama import Fore\n",
    "from colorama import Style\n",
    "import plotly.graph_objects as go\n",
    "\n",
    "\n",
    "\n",
    "import regex as re\n",
    "pd.set_option('max_colwidth', 400)\n",
    "\n",
    "from logging import raiseExceptions"
   ]
  },
  {
   "cell_type": "markdown",
   "metadata": {},
   "source": [
    "# Modeling Preparations "
   ]
  },
  {
   "cell_type": "markdown",
   "metadata": {},
   "source": [
    "Downloading SpaCy"
   ]
  },
  {
   "cell_type": "code",
   "execution_count": null,
   "metadata": {},
   "outputs": [],
   "source": [
    "spacy.cli.download('en_core_web_md')\n",
    "nlp = spacy.load('en_core_web_md')"
   ]
  },
  {
   "cell_type": "markdown",
   "metadata": {},
   "source": [
    "Reading CSV"
   ]
  },
  {
   "cell_type": "code",
   "execution_count": 774,
   "metadata": {},
   "outputs": [
    {
     "data": {
      "text/html": [
       "<div>\n",
       "<style scoped>\n",
       "    .dataframe tbody tr th:only-of-type {\n",
       "        vertical-align: middle;\n",
       "    }\n",
       "\n",
       "    .dataframe tbody tr th {\n",
       "        vertical-align: top;\n",
       "    }\n",
       "\n",
       "    .dataframe thead th {\n",
       "        text-align: right;\n",
       "    }\n",
       "</style>\n",
       "<table border=\"1\" class=\"dataframe\">\n",
       "  <thead>\n",
       "    <tr style=\"text-align: right;\">\n",
       "      <th></th>\n",
       "      <th>comment</th>\n",
       "      <th>sex</th>\n",
       "    </tr>\n",
       "  </thead>\n",
       "  <tbody>\n",
       "    <tr>\n",
       "      <th>0</th>\n",
       "      <td>happen today tell friend talk I like therapy feel like good thing I think experience</td>\n",
       "      <td>1</td>\n",
       "    </tr>\n",
       "    <tr>\n",
       "      <th>1</th>\n",
       "      <td>turn woman    want hook man date    couple day want unsettle woman want hook date kind impression sleep want impression type</td>\n",
       "      <td>1</td>\n",
       "    </tr>\n",
       "    <tr>\n",
       "      <th>2</th>\n",
       "      <td>parent family holiday spot dinner ask date life tell date pretty busy career hang friend relationship deal feel pretty shitty reaction weird age marry relationship feeling leave friend single vibe friend family relationship past year wrong damage good</td>\n",
       "      <td>1</td>\n",
       "    </tr>\n",
       "    <tr>\n",
       "      <th>3</th>\n",
       "      <td>ask exchange despite profile curious read profile write</td>\n",
       "      <td>1</td>\n",
       "    </tr>\n",
       "    <tr>\n",
       "      <th>4</th>\n",
       "      <td>intention send people</td>\n",
       "      <td>1</td>\n",
       "    </tr>\n",
       "  </tbody>\n",
       "</table>\n",
       "</div>"
      ],
      "text/plain": [
       "                                                                                                                                                                                                                                                       comment  \\\n",
       "0                                                                                                                                                                         happen today tell friend talk I like therapy feel like good thing I think experience   \n",
       "1                                                                                                                                 turn woman    want hook man date    couple day want unsettle woman want hook date kind impression sleep want impression type   \n",
       "2  parent family holiday spot dinner ask date life tell date pretty busy career hang friend relationship deal feel pretty shitty reaction weird age marry relationship feeling leave friend single vibe friend family relationship past year wrong damage good   \n",
       "3                                                                                                                                                                                                      ask exchange despite profile curious read profile write   \n",
       "4                                                                                                                                                                                                                                        intention send people   \n",
       "\n",
       "   sex  \n",
       "0    1  \n",
       "1    1  \n",
       "2    1  \n",
       "3    1  \n",
       "4    1  "
      ]
     },
     "execution_count": 774,
     "metadata": {},
     "output_type": "execute_result"
    }
   ],
   "source": [
    "#These are two different approaches. I've tried to compare submission results with commentary section results.\n",
    "df=pd.read_csv(\"../data/df_submissions.csv\")\n",
    "# df=pd.read_csv(\"../data/df_comments.csv\")\n",
    "\n",
    "df.head()"
   ]
  },
  {
   "cell_type": "markdown",
   "metadata": {},
   "source": [
    "Defining predictor features and target "
   ]
  },
  {
   "cell_type": "code",
   "execution_count": 776,
   "metadata": {},
   "outputs": [],
   "source": [
    "X=df[\"comment\"]\n",
    "y=df[\"sex\"]"
   ]
  },
  {
   "cell_type": "markdown",
   "metadata": {},
   "source": [
    "Splitting for Train and Test datasets"
   ]
  },
  {
   "cell_type": "code",
   "execution_count": 777,
   "metadata": {},
   "outputs": [],
   "source": [
    "X_train,X_test,y_train,y_test=train_test_split(X,y,random_state=42,stratify=y)"
   ]
  },
  {
   "cell_type": "markdown",
   "metadata": {},
   "source": [
    "United method which calculates all statistics summary for each estimator, since I am using Pipelines and Gridsearch for each model, all estimators have the same methods."
   ]
  },
  {
   "cell_type": "code",
   "execution_count": 1012,
   "metadata": {},
   "outputs": [],
   "source": [
    "def calculate(estimator):\n",
    "    tn,fp,fn,tp=confusion_matrix(y_test,estimator.predict(X_test)).ravel() #calulating and plotting confusion matrix\n",
    "    fig, (ax1, ax2)=plt.subplots(2,1, figsize=(6,10))\n",
    "    plot_confusion_matrix(estimator,X_test,y_test,display_labels=[\"man\",\"woman\"],ax=ax1)\n",
    "    baseline=y_test.value_counts(normalize=True) #baseline accuracy\n",
    "    return{\n",
    "        print(f'X_train Score :{Fore.GREEN} {estimator.score(X_train,y_train)}{Style.RESET_ALL}'),  print(f'X_test Score  :{Fore.GREEN} {estimator.score(X_test,y_test)}{Style.RESET_ALL}'),#returnng X_train and X_test scores\n",
    "        print('=' * 30),#output divider\n",
    "        print(f\"F1 Test Score:{Fore.GREEN} {f1_score(y_test,estimator.predict(X_test))}{Style.RESET_ALL}\"),#returning f1 score\n",
    "        print(f\"Sensitivity:{Fore.GREEN} {round(tp/(tp+fn),4)}{Style.RESET_ALL}\"), #calculating and returning Sensitivity\n",
    "        print(f\"Specificity: {Fore.GREEN}{round((tn/(tn+fp)),4)}{Style.RESET_ALL}\"),#calculating and returning Specificity\n",
    "        print(f\"Precision  :{Fore.GREEN} {round((tp/(tp+fp)),4)}{Style.RESET_ALL}\"),#calculating and returning Precision\n",
    "        print('=' * 30),#output divider\n",
    "        print('=' * 30),#output divider\n",
    "        print(f'Baseline accuracy :{Fore.GREEN} {baseline[1]}{Style.RESET_ALL}'), #Returning Baseline accuracy #Fore is a library that highlights output text. GREEN is color if highlight\n",
    "        print(f'Best estimator :{Fore.GREEN} {estimator.best_estimator_}{Style.RESET_ALL}'),#Returning data about best estimator \n",
    "        print('=' * 30),#output divider\n",
    "        print(f'Best score : {Fore.GREEN} {estimator.best_score_}{Style.RESET_ALL}'),#returning best score ofthe estimator\n",
    "        print('=' * 30),#output divider\n",
    "        print(f'Best parameters :{Fore.GREEN} {estimator.best_params_}{Style.RESET_ALL}'),#returning best parameters of the estimator\n",
    "        print('=' * 30),#output divider\n",
    "        plot_roc_curve(estimator,X_test,y_test,ax=ax2)} #plotting and returning ROC Curve\n",
    "\n"
   ]
  },
  {
   "cell_type": "markdown",
   "metadata": {},
   "source": [
    "##### Baseline model\n",
    "\n",
    "It is a model that is very simple and doens't have any noticeable predictable power. We will use it as a reference to compare to all other models."
   ]
  },
  {
   "cell_type": "code",
   "execution_count": 1013,
   "metadata": {},
   "outputs": [
    {
     "name": "stdout",
     "output_type": "stream",
     "text": [
      "X_train Score :\u001b[32m 0.5039525691699605\u001b[0m\n",
      "X_test Score  :\u001b[32m 0.49753208292201384\u001b[0m\n",
      "==============================\n",
      "F1 Test Score:\u001b[32m 0.5043816942551119\u001b[0m\n",
      "Sensitivity:\u001b[32m 0.5059\u001b[0m\n",
      "Specificity: \u001b[32m0.489\u001b[0m\n",
      "Precision  :\u001b[32m 0.5029\u001b[0m\n",
      "==============================\n",
      "==============================\n",
      "Baseline accuracy :\u001b[32m 0.5054294175715696\u001b[0m\n",
      "Best estimator :\u001b[32m Pipeline(steps=[('cv', CountVectorizer()),\n",
      "                ('dc', DummyClassifier(random_state=42, strategy='uniform'))])\u001b[0m\n",
      "==============================\n",
      "Best score : \u001b[32m 0.5039598326541229\u001b[0m\n",
      "==============================\n",
      "Best parameters :\u001b[32m {}\u001b[0m\n",
      "==============================\n"
     ]
    },
    {
     "data": {
      "image/png": "[encoded data removed]",
      "text/plain": [
       "<Figure size 432x720 with 3 Axes>"
      ]
     },
     "metadata": {
      "needs_background": "light"
     },
     "output_type": "display_data"
    }
   ],
   "source": [
    "dc_pipe=Pipeline([\n",
    "    ('cv',CountVectorizer()),\n",
    "    ('dc',DummyClassifier(random_state=42,strategy='uniform')) #strategy is 'uniform', because it will generate predictions uniformly and each class will have equal probability. Same as our target feature.\n",
    "])\n",
    "#I've putted it into a Grid so the calculate method could work\n",
    "dummy_grid=GridSearchCV(estimator=dc_pipe,param_grid={})\n",
    "dummy_grid.fit(X_train,y_train)\n",
    "y_pred=dummy_grid.predict(X_test)\n",
    "calculate(dummy_grid);\n"
   ]
  },
  {
   "cell_type": "markdown",
   "metadata": {},
   "source": [
    "As we can see, ROC equals to absolutely overlapped data, and Train/Test scores are basically our baseline accuracy. "
   ]
  },
  {
   "cell_type": "markdown",
   "metadata": {},
   "source": [
    "----"
   ]
  },
  {
   "cell_type": "markdown",
   "metadata": {},
   "source": [
    "Method that returns united Dataframe with X_test, y_real and y_predicted data to analyse mispredictions."
   ]
  },
  {
   "cell_type": "code",
   "execution_count": 650,
   "metadata": {},
   "outputs": [],
   "source": [
    "def get_df_pred(estimator):\n",
    "    y_predict=estimator.predict(X_test) #getting predicted values\n",
    "    X_test_pred=pd.DataFrame(X_test) #basic dataset\n",
    "    X_test_pred[\"real\"]=y_test #adding y_real\n",
    "    X_test_pred.reset_index(inplace=True) #dropping index\n",
    "    X_test_pred['predicted']=y_predict #adding predicted values\n",
    "    return X_test_pred"
   ]
  },
  {
   "cell_type": "markdown",
   "metadata": {},
   "source": [
    "----"
   ]
  },
  {
   "cell_type": "markdown",
   "metadata": {},
   "source": [
    "# Modeling data"
   ]
  },
  {
   "cell_type": "markdown",
   "metadata": {},
   "source": [
    "#### Logistic Regression + CountVectorizer through GridSearch"
   ]
  },
  {
   "cell_type": "code",
   "execution_count": 1165,
   "metadata": {},
   "outputs": [],
   "source": [
    "log_pipe=Pipeline([\n",
    "('cvec',CountVectorizer()),\n",
    "('log_reg',LogisticRegression(random_state=42,max_iter=5000))\n",
    "])\n",
    "\n",
    "pipe_params={\n",
    "    'cvec__max_features':[1000,2000,3000,5000],\n",
    "    'cvec__min_df':[0.0001,0.0002],\n",
    "    'cvec__max_df':[0.95,0.99,1],\n",
    "    'cvec__ngram_range':[(1,2),(1,3),(2,2),(3,3)],\n",
    "    'log_reg__penalty':['l1','l2'],\n",
    "    'log_reg__C':[0.003]\n",
    "}\n"
   ]
  },
  {
   "cell_type": "code",
   "execution_count": 1166,
   "metadata": {},
   "outputs": [
    {
     "name": "stdout",
     "output_type": "stream",
     "text": [
      "Fitting 3 folds for each of 192 candidates, totalling 576 fits\n"
     ]
    },
    {
     "name": "stderr",
     "output_type": "stream",
     "text": [
      "/Users/glebradchenko/opt/anaconda3/lib/python3.7/site-packages/sklearn/model_selection/_validation.py:372: FitFailedWarning: \n",
      "288 fits failed out of a total of 576.\n",
      "The score on these train-test partitions for these parameters will be set to nan.\n",
      "If these failures are not expected, you can try to debug them by setting error_score='raise'.\n",
      "\n",
      "Below are more details about the failures:\n",
      "--------------------------------------------------------------------------------\n",
      "288 fits failed with the following error:\n",
      "Traceback (most recent call last):\n",
      "  File \"/Users/glebradchenko/opt/anaconda3/lib/python3.7/site-packages/sklearn/model_selection/_validation.py\", line 680, in _fit_and_score\n",
      "    estimator.fit(X_train, y_train, **fit_params)\n",
      "  File \"/Users/glebradchenko/opt/anaconda3/lib/python3.7/site-packages/sklearn/pipeline.py\", line 394, in fit\n",
      "    self._final_estimator.fit(Xt, y, **fit_params_last_step)\n",
      "  File \"/Users/glebradchenko/opt/anaconda3/lib/python3.7/site-packages/sklearn/linear_model/_logistic.py\", line 1461, in fit\n",
      "    solver = _check_solver(self.solver, self.penalty, self.dual)\n",
      "  File \"/Users/glebradchenko/opt/anaconda3/lib/python3.7/site-packages/sklearn/linear_model/_logistic.py\", line 449, in _check_solver\n",
      "    % (solver, penalty)\n",
      "ValueError: Solver lbfgs supports only 'l2' or 'none' penalties, got l1 penalty.\n",
      "\n",
      "  warnings.warn(some_fits_failed_message, FitFailedWarning)\n",
      "/Users/glebradchenko/opt/anaconda3/lib/python3.7/site-packages/sklearn/model_selection/_search.py:972: UserWarning: One or more of the test scores are non-finite: [       nan 0.63537549        nan 0.63537549        nan 0.50527009\n",
      "        nan 0.50559947        nan 0.63537549        nan 0.63537549\n",
      "        nan 0.50527009        nan 0.50559947        nan 0.63570487\n",
      "        nan 0.63405797        nan 0.50658762        nan 0.50559947\n",
      "        nan 0.63570487        nan 0.63405797        nan 0.50658762\n",
      "        nan 0.50559947        nan 0.63636364        nan 0.63570487\n",
      "        nan 0.50724638        nan 0.50559947        nan 0.63636364\n",
      "        nan 0.63570487        nan 0.50724638        nan 0.50559947\n",
      "        nan 0.63603426        nan 0.63504611        nan 0.51218709\n",
      "        nan 0.50559947        nan 0.63603426        nan 0.63504611\n",
      "        nan 0.51218709        nan 0.50559947        nan 0.63537549\n",
      "        nan 0.63537549        nan 0.50527009        nan 0.50559947\n",
      "        nan 0.63537549        nan 0.63537549        nan 0.50527009\n",
      "        nan 0.50559947        nan 0.63570487        nan 0.63405797\n",
      "        nan 0.50658762        nan 0.50559947        nan 0.63570487\n",
      "        nan 0.63405797        nan 0.50658762        nan 0.50559947\n",
      "        nan 0.63636364        nan 0.63570487        nan 0.50724638\n",
      "        nan 0.50559947        nan 0.63636364        nan 0.63570487\n",
      "        nan 0.50724638        nan 0.50559947        nan 0.63603426\n",
      "        nan 0.63504611        nan 0.51218709        nan 0.50559947\n",
      "        nan 0.63603426        nan 0.63504611        nan 0.51218709\n",
      "        nan 0.50559947        nan 0.50527009        nan 0.50527009\n",
      "        nan 0.50527009        nan 0.50527009        nan 0.50527009\n",
      "        nan 0.50527009        nan 0.50527009        nan 0.50527009\n",
      "        nan 0.50527009        nan 0.50527009        nan 0.50527009\n",
      "        nan 0.50527009        nan 0.50527009        nan 0.50527009\n",
      "        nan 0.50527009        nan 0.50527009        nan 0.50527009\n",
      "        nan 0.50527009        nan 0.50527009        nan 0.50527009\n",
      "        nan 0.50527009        nan 0.50527009        nan 0.50527009\n",
      "        nan 0.50527009        nan 0.50527009        nan 0.50527009\n",
      "        nan 0.50527009        nan 0.50527009        nan 0.50527009\n",
      "        nan 0.50527009        nan 0.50527009        nan 0.50527009]\n",
      "  category=UserWarning,\n"
     ]
    }
   ],
   "source": [
    "log_grid=GridSearchCV(\n",
    "    log_pipe,\n",
    "    param_grid=pipe_params,\n",
    "    n_jobs=-1,\n",
    "    cv=3,\n",
    "    verbose=1\n",
    ")\n",
    "\n",
    "log_grid.fit(X_train,y_train);"
   ]
  },
  {
   "cell_type": "code",
   "execution_count": 1167,
   "metadata": {},
   "outputs": [
    {
     "name": "stdout",
     "output_type": "stream",
     "text": [
      "X_train Score :\u001b[32m 0.6656785243741765\u001b[0m\n",
      "X_test Score  :\u001b[32m 0.6307996051332675\u001b[0m\n",
      "==============================\n",
      "F1 Test Score:\u001b[32m 0.5701149425287357\u001b[0m\n",
      "Sensitivity:\u001b[32m 0.4844\u001b[0m\n",
      "Specificity: \u001b[32m0.7804\u001b[0m\n",
      "Precision  :\u001b[32m 0.6927\u001b[0m\n",
      "==============================\n",
      "==============================\n",
      "Baseline accuracy :\u001b[32m 0.5054294175715696\u001b[0m\n",
      "Best estimator :\u001b[32m Pipeline(steps=[('cvec',\n",
      "                 CountVectorizer(max_df=0.95, max_features=3000, min_df=0.0001,\n",
      "                                 ngram_range=(1, 2))),\n",
      "                ('log_reg',\n",
      "                 LogisticRegression(C=0.003, max_iter=5000, random_state=42))])\u001b[0m\n",
      "==============================\n",
      "Best score : \u001b[32m 0.6363636363636364\u001b[0m\n",
      "==============================\n",
      "Best parameters :\u001b[32m {'cvec__max_df': 0.95, 'cvec__max_features': 3000, 'cvec__min_df': 0.0001, 'cvec__ngram_range': (1, 2), 'log_reg__C': 0.003, 'log_reg__penalty': 'l2'}\u001b[0m\n",
      "==============================\n"
     ]
    },
    {
     "data": {
      "image/png": "[encoded data removed]",
      "text/plain": [
       "<Figure size 432x720 with 3 Axes>"
      ]
     },
     "metadata": {
      "needs_background": "light"
     },
     "output_type": "display_data"
    }
   ],
   "source": [
    "calculate(log_grid);"
   ]
  },
  {
   "cell_type": "markdown",
   "metadata": {},
   "source": [
    "Logistic regression is good when we prioritize more interpretability than accuracy, I think coefficients got of Logistic regression can be really useful in this case and lead to data insight.\n",
    "First few iterations, model was extremely overfitted, which is to be expected, as Logistic regression models tend to overfit the data, particularly in high-dimensional settings, when we have a lot of predicting features.\n",
    "So the next step was to use some regularisation.\n",
    "\n",
    "I've chosen Ridge and Lasso. That helped decrease overfitting to the values you can see.\n",
    "But affected f1 score, that dropped from  0.5980707395498392 to 0.5701149425287357.\n",
    "Also I've tried different sets of hyperparameters for count vectorizer,but it had no visible effect.\n",
    "\n",
    "Resulting scores are not great,although they are not very overfitted due to Train/Test results, f1 score is only 7 point higher than baseline model. \n",
    "\n",
    "ROC Curve shows us, that model can not deeply separate classes, despite high dimensionality of data.\n",
    "\n"
   ]
  },
  {
   "cell_type": "markdown",
   "metadata": {},
   "source": [
    "#### Naive Bayes + CountVectorizer through GridSearch"
   ]
  },
  {
   "cell_type": "code",
   "execution_count": 1234,
   "metadata": {},
   "outputs": [],
   "source": [
    "nb_pipe=Pipeline([\n",
    "('cvec',CountVectorizer()),\n",
    "('nb',MultinomialNB())\n",
    "])\n",
    "nb_pipe_params={\n",
    "# 'cvec__min_df':[2,3],\n",
    "# 'cvec__max_df':[0.95,0.98,1],\n",
    "# 'cvec__ngram_range':[(1,2),(2,2),(2,3),(3,3)],\n",
    "# 'cvec__stop_words':[ None],\n",
    "'cvec__max_features':[50,100,200,500],\n",
    "# 'cvec__ngram_range':[(1,1),(1,2)],\n",
    "'nb__alpha':np.arange(0.01,3,0.1),\n",
    "\n",
    "\n",
    "}"
   ]
  },
  {
   "cell_type": "code",
   "execution_count": 1235,
   "metadata": {},
   "outputs": [
    {
     "name": "stdout",
     "output_type": "stream",
     "text": [
      "Fitting 3 folds for each of 120 candidates, totalling 360 fits\n"
     ]
    }
   ],
   "source": [
    "nb_grid=GridSearchCV(nb_pipe,\n",
    "param_grid=nb_pipe_params,\n",
    "cv=3,\n",
    "verbose=1,\n",
    "n_jobs=-1\n",
    ")\n",
    "nb_grid.fit(X_train,y_train);\n"
   ]
  },
  {
   "cell_type": "code",
   "execution_count": 1236,
   "metadata": {},
   "outputs": [
    {
     "name": "stdout",
     "output_type": "stream",
     "text": [
      "X_train Score :\u001b[32m 0.6587615283267457\u001b[0m\n",
      "X_test Score  :\u001b[32m 0.5903257650542941\u001b[0m\n",
      "==============================\n",
      "F1 Test Score:\u001b[32m 0.5982575024201355\u001b[0m\n",
      "Sensitivity:\u001b[32m 0.6035\u001b[0m\n",
      "Specificity: \u001b[32m0.5768\u001b[0m\n",
      "Precision  :\u001b[32m 0.5931\u001b[0m\n",
      "==============================\n",
      "==============================\n",
      "Baseline accuracy :\u001b[32m 0.5054294175715696\u001b[0m\n",
      "Best estimator :\u001b[32m Pipeline(steps=[('cvec', CountVectorizer(max_features=500)),\n",
      "                ('nb', MultinomialNB(alpha=0.31000000000000005))])\u001b[0m\n",
      "==============================\n",
      "Best score : \u001b[32m 0.5760869565217391\u001b[0m\n",
      "==============================\n",
      "Best parameters :\u001b[32m {'cvec__max_features': 500, 'nb__alpha': 0.31000000000000005}\u001b[0m\n",
      "==============================\n"
     ]
    },
    {
     "data": {
      "image/png": "[encoded data removed]",
      "text/plain": [
       "<Figure size 432x720 with 3 Axes>"
      ]
     },
     "metadata": {
      "needs_background": "light"
     },
     "output_type": "display_data"
    }
   ],
   "source": [
    "calculate(nb_grid);"
   ]
  },
  {
   "cell_type": "markdown",
   "metadata": {},
   "source": [
    "Naive Bayes is commonly used for NLP data. Despite the fact that it is doesn't tend to overfit, first results were overfitted. My assumptions that it is due to a number of features. After tunning scores (most effective here were \"max features\" at Count Vectorizer), we got much closer to trade off result, but it affected f1 score, which dropped from 66 to 59."
   ]
  },
  {
   "cell_type": "markdown",
   "metadata": {},
   "source": [
    "#### Decision Tree with TFIDF through GridSearchCV"
   ]
  },
  {
   "cell_type": "code",
   "execution_count": 1220,
   "metadata": {},
   "outputs": [],
   "source": [
    "d_tree_pipe=Pipeline([\n",
    "('tf',TfidfVectorizer()),\n",
    "('dt',DecisionTreeClassifier())\n",
    "])\n",
    "\n",
    "d_tree_pipe_params={\n",
    "'tf__stop_words':[None],\n",
    "'tf__ngram_range':[(1,1),(1,2),(1,3),(2,3)],\n",
    "# 'tf__max_df':[0.9,0.95,0.98],\n",
    "# 'tf__min_df':[2,3,4,5],\n",
    "'dt__max_depth':[7,8,9],\n",
    "'dt__min_samples_split':[8,10,13],\n",
    "'dt__min_samples_leaf':[8,10,13]\n",
    "\n",
    "\n",
    "}"
   ]
  },
  {
   "cell_type": "code",
   "execution_count": 1221,
   "metadata": {},
   "outputs": [
    {
     "name": "stdout",
     "output_type": "stream",
     "text": [
      "Fitting 3 folds for each of 108 candidates, totalling 324 fits\n"
     ]
    },
    {
     "data": {
      "text/plain": [
       "GridSearchCV(cv=3,\n",
       "             estimator=Pipeline(steps=[('tf', TfidfVectorizer()),\n",
       "                                       ('dt', DecisionTreeClassifier())]),\n",
       "             n_jobs=-1,\n",
       "             param_grid={'dt__max_depth': [7, 8, 9],\n",
       "                         'dt__min_samples_leaf': [8, 10, 13],\n",
       "                         'dt__min_samples_split': [8, 10, 13],\n",
       "                         'tf__ngram_range': [(1, 1), (1, 2), (1, 3), (2, 3)],\n",
       "                         'tf__stop_words': [None]},\n",
       "             verbose=1)"
      ]
     },
     "execution_count": 1221,
     "metadata": {},
     "output_type": "execute_result"
    }
   ],
   "source": [
    "d_tree_grid=GridSearchCV(d_tree_pipe,param_grid=d_tree_pipe_params,cv=3,n_jobs=-1,verbose=1)\n",
    "d_tree_grid.fit(X_train,y_train)"
   ]
  },
  {
   "cell_type": "code",
   "execution_count": 1222,
   "metadata": {},
   "outputs": [
    {
     "name": "stdout",
     "output_type": "stream",
     "text": [
      "X_train Score :\u001b[32m 0.66600790513834\u001b[0m\n",
      "X_test Score  :\u001b[32m 0.5972359328726555\u001b[0m\n",
      "==============================\n",
      "F1 Test Score:\u001b[32m 0.46174142480211083\u001b[0m\n",
      "Sensitivity:\u001b[32m 0.3418\u001b[0m\n",
      "Specificity: \u001b[32m0.8583\u001b[0m\n",
      "Precision  :\u001b[32m 0.7114\u001b[0m\n",
      "==============================\n",
      "==============================\n",
      "Baseline accuracy :\u001b[32m 0.5054294175715696\u001b[0m\n",
      "Best estimator :\u001b[32m Pipeline(steps=[('tf', TfidfVectorizer()),\n",
      "                ('dt',\n",
      "                 DecisionTreeClassifier(max_depth=9, min_samples_leaf=13,\n",
      "                                        min_samples_split=8))])\u001b[0m\n",
      "==============================\n",
      "Best score : \u001b[32m 0.6136363636363636\u001b[0m\n",
      "==============================\n",
      "Best parameters :\u001b[32m {'dt__max_depth': 9, 'dt__min_samples_leaf': 13, 'dt__min_samples_split': 8, 'tf__ngram_range': (1, 1), 'tf__stop_words': None}\u001b[0m\n",
      "==============================\n"
     ]
    },
    {
     "data": {
      "image/png": "[encoded data removed]",
      "text/plain": [
       "<Figure size 432x720 with 3 Axes>"
      ]
     },
     "metadata": {
      "needs_background": "light"
     },
     "output_type": "display_data"
    }
   ],
   "source": [
    "calculate(d_tree_grid);"
   ]
  },
  {
   "cell_type": "markdown",
   "metadata": {},
   "source": [
    "Decision tree model is tend to overfit, if it is allowed to train to its full strength. That is why my first results showed extremely high variance. Somewhere near 99.  The most effective way to limit this tendency is to use max_depth hyperparameter, which regulates the maximum depth of the tree, or how deeply tree will learn the training data.\n",
    "\n",
    " After using it, accuracy results become much closer to trade off, but at a cost of a significant decreasing at Sensitivity, which leads to decreasing f1 (from 55 to 46). That is lower than the baseline model, and caused by aggressive tuning restrictions. \n",
    "\n",
    "Overall results are below average,even after adjustments I don't think this model fits the data best of all others. But still, if you want more interpretability than accuracy, a decision tree model, can be helpful in a way, that we can get feature importance scores out of this model, which may lead to data insights."
   ]
  },
  {
   "cell_type": "markdown",
   "metadata": {},
   "source": [
    "#### RandomForest + CountVectorizer through GridSearchCV"
   ]
  },
  {
   "cell_type": "code",
   "execution_count": 1226,
   "metadata": {},
   "outputs": [],
   "source": [
    "rand_pipeline=Pipeline([\n",
    "    ('cv',CountVectorizer()),\n",
    "    ('rand',RandomForestClassifier(random_state=42))\n",
    "])\n",
    "rand_pipeline_params={\n",
    "# 'cv__stop_words':[None],\n",
    "'cv__ngram_range':[(1,2),(1,3)],\n",
    "'cv__max_features':[500,2000],\n",
    "'cv__max_df':[0.05,0.1,0.2,0.3],\n",
    "# 'cv__min_df':[2,5,10],\n",
    "'rand__n_estimators':[100],\n",
    "'rand__max_depth':[6,8],\n",
    "'rand__min_samples_split':[2,6],\n",
    "'rand__min_samples_leaf':[1,2,3]\n",
    "}"
   ]
  },
  {
   "cell_type": "code",
   "execution_count": 1227,
   "metadata": {},
   "outputs": [
    {
     "name": "stdout",
     "output_type": "stream",
     "text": [
      "Fitting 3 folds for each of 192 candidates, totalling 576 fits\n"
     ]
    },
    {
     "data": {
      "text/plain": [
       "GridSearchCV(cv=3,\n",
       "             estimator=Pipeline(steps=[('cv', CountVectorizer()),\n",
       "                                       ('rand',\n",
       "                                        RandomForestClassifier(random_state=42))]),\n",
       "             n_jobs=-1,\n",
       "             param_grid={'cv__max_df': [0.05, 0.1, 0.2, 0.3],\n",
       "                         'cv__max_features': [500, 2000],\n",
       "                         'cv__ngram_range': [(1, 2), (1, 3)],\n",
       "                         'rand__max_depth': [6, 8],\n",
       "                         'rand__min_samples_leaf': [1, 2, 3],\n",
       "                         'rand__min_samples_split': [2, 6],\n",
       "                         'rand__n_estimators': [100]},\n",
       "             verbose=1)"
      ]
     },
     "execution_count": 1227,
     "metadata": {},
     "output_type": "execute_result"
    }
   ],
   "source": [
    "rand_grid=GridSearchCV(rand_pipeline,param_grid=rand_pipeline_params,cv=3,verbose=1,n_jobs=-1)\n",
    "rand_grid.fit(X_train,y_train)"
   ]
  },
  {
   "cell_type": "code",
   "execution_count": 1228,
   "metadata": {},
   "outputs": [
    {
     "name": "stdout",
     "output_type": "stream",
     "text": [
      "X_train Score :\u001b[32m 0.6831357048748353\u001b[0m\n",
      "X_test Score  :\u001b[32m 0.6209279368213229\u001b[0m\n",
      "==============================\n",
      "F1 Test Score:\u001b[32m 0.5923566878980892\u001b[0m\n",
      "Sensitivity:\u001b[32m 0.5449\u001b[0m\n",
      "Specificity: \u001b[32m0.6986\u001b[0m\n",
      "Precision  :\u001b[32m 0.6488\u001b[0m\n",
      "==============================\n",
      "==============================\n",
      "Baseline accuracy :\u001b[32m 0.5054294175715696\u001b[0m\n",
      "Best estimator :\u001b[32m Pipeline(steps=[('cv',\n",
      "                 CountVectorizer(max_df=0.2, max_features=2000,\n",
      "                                 ngram_range=(1, 2))),\n",
      "                ('rand',\n",
      "                 RandomForestClassifier(max_depth=6, min_samples_leaf=2,\n",
      "                                        random_state=42))])\u001b[0m\n",
      "==============================\n",
      "Best score : \u001b[32m 0.6462450592885375\u001b[0m\n",
      "==============================\n",
      "Best parameters :\u001b[32m {'cv__max_df': 0.2, 'cv__max_features': 2000, 'cv__ngram_range': (1, 2), 'rand__max_depth': 6, 'rand__min_samples_leaf': 2, 'rand__min_samples_split': 2, 'rand__n_estimators': 100}\u001b[0m\n",
      "==============================\n"
     ]
    },
    {
     "data": {
      "image/png": "[encoded data removed]",
      "text/plain": [
       "<Figure size 432x720 with 3 Axes>"
      ]
     },
     "metadata": {
      "needs_background": "light"
     },
     "output_type": "display_data"
    }
   ],
   "source": [
    "calculate(rand_grid);"
   ]
  },
  {
   "cell_type": "markdown",
   "metadata": {},
   "source": [
    "As all tree models, Random forest can be directly feed in with high dimensional data and correctly process it.  The down side of these models are they have low interpretability. However we still can get feature importance.\n",
    "And as it is with  the decision tree model, without any hyperparameter regularization, Random forest got overfitted. However, after tuning, accuracy scores got much better, at cost of slight decrease of f1 score (from 62 to 59). It is still one of the best results so far.\n"
   ]
  },
  {
   "cell_type": "markdown",
   "metadata": {},
   "source": [
    "#### AdaBoost+TFIDF through GridSearchCV"
   ]
  },
  {
   "cell_type": "code",
   "execution_count": 1246,
   "metadata": {},
   "outputs": [],
   "source": [
    "\n",
    "ada_pipe=Pipeline([\n",
    "('tf',TfidfVectorizer()),\n",
    "('ada',AdaBoostClassifier(base_estimator=DecisionTreeClassifier()))\n",
    "\n",
    "])\n",
    "\n",
    "ada_pipe_params={\n",
    "'tf__stop_words':[None],\n",
    "'tf__ngram_range':[(1,1),(1,2),(1,3),(1,4),(2,2),(2,3),(3,3)],\n",
    "'tf__max_df':[100,500,1000],\n",
    "# 'tf__min_df':[2,3,4,5],\n",
    "# 'ada__n_estimators':[50,100],\n",
    "'ada__base_estimator__max_depth':[1,2],\n",
    "'ada__learning_rate':[0.9,1.01]\n",
    "}\n"
   ]
  },
  {
   "cell_type": "code",
   "execution_count": 1247,
   "metadata": {},
   "outputs": [
    {
     "name": "stdout",
     "output_type": "stream",
     "text": [
      "Fitting 3 folds for each of 84 candidates, totalling 252 fits\n"
     ]
    },
    {
     "data": {
      "text/plain": [
       "GridSearchCV(cv=3,\n",
       "             estimator=Pipeline(steps=[('tf', TfidfVectorizer()),\n",
       "                                       ('ada',\n",
       "                                        AdaBoostClassifier(base_estimator=DecisionTreeClassifier()))]),\n",
       "             n_jobs=-1,\n",
       "             param_grid={'ada__base_estimator__max_depth': [1, 2],\n",
       "                         'ada__learning_rate': [0.9, 1.01],\n",
       "                         'tf__max_df': [100, 500, 1000],\n",
       "                         'tf__ngram_range': [(1, 1), (1, 2), (1, 3), (1, 4),\n",
       "                                             (2, 2), (2, 3), (3, 3)],\n",
       "                         'tf__stop_words': [None]},\n",
       "             verbose=1)"
      ]
     },
     "execution_count": 1247,
     "metadata": {},
     "output_type": "execute_result"
    }
   ],
   "source": [
    "ada_grid=GridSearchCV(ada_pipe,param_grid=ada_pipe_params,cv=3,verbose=1,n_jobs=-1)\n",
    "ada_grid.fit(X_train,y_train)"
   ]
  },
  {
   "cell_type": "code",
   "execution_count": 1248,
   "metadata": {},
   "outputs": [
    {
     "name": "stdout",
     "output_type": "stream",
     "text": [
      "X_train Score :\u001b[32m 0.6930171277997365\u001b[0m\n",
      "X_test Score  :\u001b[32m 0.631786771964462\u001b[0m\n",
      "==============================\n",
      "F1 Test Score:\u001b[32m 0.5932388222464559\u001b[0m\n",
      "Sensitivity:\u001b[32m 0.5312\u001b[0m\n",
      "Specificity: \u001b[32m0.7345\u001b[0m\n",
      "Precision  :\u001b[32m 0.6716\u001b[0m\n",
      "==============================\n",
      "==============================\n",
      "Baseline accuracy :\u001b[32m 0.5054294175715696\u001b[0m\n",
      "Best estimator :\u001b[32m Pipeline(steps=[('tf', TfidfVectorizer(max_df=500, ngram_range=(1, 2))),\n",
      "                ('ada',\n",
      "                 AdaBoostClassifier(base_estimator=DecisionTreeClassifier(max_depth=1),\n",
      "                                    learning_rate=1.01))])\u001b[0m\n",
      "==============================\n",
      "Best score : \u001b[32m 0.6202239789196311\u001b[0m\n",
      "==============================\n",
      "Best parameters :\u001b[32m {'ada__base_estimator__max_depth': 1, 'ada__learning_rate': 1.01, 'tf__max_df': 500, 'tf__ngram_range': (1, 2), 'tf__stop_words': None}\u001b[0m\n",
      "==============================\n"
     ]
    },
    {
     "data": {
      "image/png": "[encoded data removed]",
      "text/plain": [
       "<Figure size 432x720 with 3 Axes>"
      ]
     },
     "metadata": {
      "needs_background": "light"
     },
     "output_type": "display_data"
    }
   ],
   "source": [
    "calculate(ada_grid);"
   ]
  },
  {
   "cell_type": "markdown",
   "metadata": {},
   "source": [
    "AdaBoost from at the first iteration gave Train score at 99 and test score at 56. However, this is the only nodel, that increased f1 after a lot of GridSearch sessions! From 54 to 59, with a trade off accuracy. This is a very good result considering dataset. ROC Curve although is a bit lower than for other models."
   ]
  },
  {
   "cell_type": "markdown",
   "metadata": {},
   "source": [
    "## Modeling summary"
   ]
  },
  {
   "cell_type": "markdown",
   "metadata": {},
   "source": [
    "To analyse models results we should define metrics that should be used. According to our problem statement, stakeholders want to predict both classes equally, that mean our target score is f1, which is harmonic mean of precision and recall, making it a well rounded assessor of model performance. And the second metric would be accuracy score as a universal one.\n",
    "\n",
    "Instead of two models, I've tried five, to be sure, that results I am getting, are not caused by incorrect classification approach. Plus, using different models can lead to interesting and unexpectes insights. But since all chosen variety of models show similar effectiveness, we can say with confidence, that results are caused by data. \n",
    "\n",
    "| Model | X_train Acc | X_test Acc | F1 Score|\n",
    "| --- | --- | --- | ---|\n",
    "| Baseline | 0.5039525691699605 | 0.49753208292201384 |0.5043816942551119|\n",
    "| Logistic Regression | 0.6656785243741765 | 0.6307996051332675 |0.5701149425287357|\n",
    "| Naive Bayes |  0.6587615283267457 | 0.5903257650542941 |0.5982575024201355|\n",
    "| Decision Tree | 0.66600790513834 | 0.5972359328726555 |0.46174142480211083|\n",
    "| RandomForest | 0.6831357048748353 | 0.6209279368213229 |0.5923566878980892|\n",
    "| AdaBoost |0.6930171277997365 | 0.631786771964462 |0.5932388222464559|\n",
    "\n",
    "\n",
    "Conclusions:\n",
    "1. Due to <dev>ROC<dev> plots, datasets are pretty overlapped. ROC-AUC is within a range 0.6-0.7 for all models. Differences between datasets are not that significant or models are not able to catch a lot of signal among noice.\n",
    "2. <dev>F1 score<dev> is within a range <dev>0.44<dev> for the Decision Tree and up to <dev>0.59825<dev> for bayes model.\n",
    "3. <dev>Accuracy<dev> varies from <dev>0.49753<dev> for the Logistic Regression and up to <dev>0.63178<dev> for Ada model.\n",
    "Random Forest and Desicion Tree can give us a lot of additional information about data, like features importance, coefficients etc. Adaboost model results are not that interpretable. \n",
    "\n",
    "\n",
    "\n",
    "Overall we can say, that Adaboost, Random forest and Naive Bayes models showed the best results. "
   ]
  },
  {
   "cell_type": "markdown",
   "metadata": {},
   "source": [
    "----"
   ]
  },
  {
   "cell_type": "markdown",
   "metadata": {},
   "source": [
    "Code I've used to add stopwords, that I've recieved as features with low importance after modeling."
   ]
  },
  {
   "cell_type": "code",
   "execution_count": null,
   "metadata": {},
   "outputs": [],
   "source": [
    "feature_coef=pd.DataFrame(log_grid.best_estimator_.named_steps.cvec.get_feature_names())\n",
    "feature_coef[\"coef\"]=log_grid.best_estimator_.named_steps.log_reg.coef_[0]\n",
    "my_additional_stop_words=list(feature_coef.sort_values(by=\"coef\", ascending=False).tail(30)[0])\n",
    "stop_words = text.ENGLISH_STOP_WORDS.union(my_additional_stop_words)\n",
    "my_additional_stop_words\n"
   ]
  },
  {
   "cell_type": "markdown",
   "metadata": {},
   "source": [
    "# EDA on Results"
   ]
  },
  {
   "cell_type": "markdown",
   "metadata": {},
   "source": [
    "### Logistic Regression"
   ]
  },
  {
   "cell_type": "markdown",
   "metadata": {},
   "source": [
    "Misclassified submissions."
   ]
  },
  {
   "cell_type": "code",
   "execution_count": 819,
   "metadata": {},
   "outputs": [
    {
     "data": {
      "text/html": [
       "<div>\n",
       "<style scoped>\n",
       "    .dataframe tbody tr th:only-of-type {\n",
       "        vertical-align: middle;\n",
       "    }\n",
       "\n",
       "    .dataframe tbody tr th {\n",
       "        vertical-align: top;\n",
       "    }\n",
       "\n",
       "    .dataframe thead th {\n",
       "        text-align: right;\n",
       "    }\n",
       "</style>\n",
       "<table border=\"1\" class=\"dataframe\">\n",
       "  <thead>\n",
       "    <tr style=\"text-align: right;\">\n",
       "      <th></th>\n",
       "      <th>index</th>\n",
       "      <th>comment</th>\n",
       "      <th>real</th>\n",
       "      <th>predicted</th>\n",
       "    </tr>\n",
       "  </thead>\n",
       "  <tbody>\n",
       "    <tr>\n",
       "      <th>1</th>\n",
       "      <td>1249</td>\n",
       "      <td>I woman post love picnic bookstore date man post want</td>\n",
       "      <td>1</td>\n",
       "      <td>0</td>\n",
       "    </tr>\n",
       "    <tr>\n",
       "      <th>6</th>\n",
       "      <td>3212</td>\n",
       "      <td>I collect play doll know odd desire play doll</td>\n",
       "      <td>0</td>\n",
       "      <td>1</td>\n",
       "    </tr>\n",
       "    <tr>\n",
       "      <th>8</th>\n",
       "      <td>618</td>\n",
       "      <td>drink    month ago little drunk start stupid shit life mainly ignore work week begin join work conversation team day begin message slack leave town work week start monday morning office chat forth bit end exchange number share tea member team flirt non stop blatantly state appreciate intimidate I want plan hang week leave utterly confused    month feel like elaborate prank happen</td>\n",
       "      <td>1</td>\n",
       "      <td>0</td>\n",
       "    </tr>\n",
       "    <tr>\n",
       "      <th>10</th>\n",
       "      <td>1606</td>\n",
       "      <td>I lot post site nut immediately feel ashamed kind thing watch feel regret shame wrong</td>\n",
       "      <td>1</td>\n",
       "      <td>0</td>\n",
       "    </tr>\n",
       "    <tr>\n",
       "      <th>13</th>\n",
       "      <td>2959</td>\n",
       "      <td>look find reasonably price shampoo conditioner thought hear like use</td>\n",
       "      <td>0</td>\n",
       "      <td>1</td>\n",
       "    </tr>\n",
       "    <tr>\n",
       "      <th>15</th>\n",
       "      <td>2745</td>\n",
       "      <td>favorite office place workplace lifehack help</td>\n",
       "      <td>0</td>\n",
       "      <td>1</td>\n",
       "    </tr>\n",
       "    <tr>\n",
       "      <th>17</th>\n",
       "      <td>1975</td>\n",
       "      <td>I know plan propose married know ring size partner fiancé wife</td>\n",
       "      <td>1</td>\n",
       "      <td>0</td>\n",
       "    </tr>\n",
       "    <tr>\n",
       "      <th>23</th>\n",
       "      <td>1752</td>\n",
       "      <td>month ago decide finally jungle pubic hair preferred method scissor cut lot month line hair near area look like mess grow way expect use scissor instead permanently trim forever</td>\n",
       "      <td>1</td>\n",
       "      <td>0</td>\n",
       "    </tr>\n",
       "    <tr>\n",
       "      <th>24</th>\n",
       "      <td>1648</td>\n",
       "      <td>work progress explanation boss manager letter sure reply amp    dear greeting cold monday truly mystified wrong mistake perform duty clean driver desire learn utter incompetence    year drive experience    preference use google map instead waze    wrong turn waze late time    long eat breakfast day matter generous help strive equip driver job thank million advance way send driver collect vacuu...</td>\n",
       "      <td>1</td>\n",
       "      <td>0</td>\n",
       "    </tr>\n",
       "    <tr>\n",
       "      <th>27</th>\n",
       "      <td>3575</td>\n",
       "      <td>I apply job assessment job local university score    applicant include professor engineer scientist think pretty good consider struggle math excite tell parent basically good like qualify job event planning position struggle believe finally able comfort zone apply job little challenging I know guess believe feel good</td>\n",
       "      <td>0</td>\n",
       "      <td>1</td>\n",
       "    </tr>\n",
       "  </tbody>\n",
       "</table>\n",
       "</div>"
      ],
      "text/plain": [
       "    index  \\\n",
       "1    1249   \n",
       "6    3212   \n",
       "8     618   \n",
       "10   1606   \n",
       "13   2959   \n",
       "15   2745   \n",
       "17   1975   \n",
       "23   1752   \n",
       "24   1648   \n",
       "27   3575   \n",
       "\n",
       "                                                                                                                                                                                                                                                                                                                                                                                                            comment  \\\n",
       "1                                                                                                                                                                                                                                                                                                                                                             I woman post love picnic bookstore date man post want   \n",
       "6                                                                                                                                                                                                                                                                                                                                                                     I collect play doll know odd desire play doll   \n",
       "8                    drink    month ago little drunk start stupid shit life mainly ignore work week begin join work conversation team day begin message slack leave town work week start monday morning office chat forth bit end exchange number share tea member team flirt non stop blatantly state appreciate intimidate I want plan hang week leave utterly confused    month feel like elaborate prank happen   \n",
       "10                                                                                                                                                                                                                                                                                                                            I lot post site nut immediately feel ashamed kind thing watch feel regret shame wrong   \n",
       "13                                                                                                                                                                                                                                                                                                                                             look find reasonably price shampoo conditioner thought hear like use   \n",
       "15                                                                                                                                                                                                                                                                                                                                                                    favorite office place workplace lifehack help   \n",
       "17                                                                                                                                                                                                                                                                                                                                                   I know plan propose married know ring size partner fiancé wife   \n",
       "23                                                                                                                                                                                                                                month ago decide finally jungle pubic hair preferred method scissor cut lot month line hair near area look like mess grow way expect use scissor instead permanently trim forever   \n",
       "24  work progress explanation boss manager letter sure reply amp    dear greeting cold monday truly mystified wrong mistake perform duty clean driver desire learn utter incompetence    year drive experience    preference use google map instead waze    wrong turn waze late time    long eat breakfast day matter generous help strive equip driver job thank million advance way send driver collect vacuu...   \n",
       "27                                                                                   I apply job assessment job local university score    applicant include professor engineer scientist think pretty good consider struggle math excite tell parent basically good like qualify job event planning position struggle believe finally able comfort zone apply job little challenging I know guess believe feel good   \n",
       "\n",
       "    real  predicted  \n",
       "1      1          0  \n",
       "6      0          1  \n",
       "8      1          0  \n",
       "10     1          0  \n",
       "13     0          1  \n",
       "15     0          1  \n",
       "17     1          0  \n",
       "23     1          0  \n",
       "24     1          0  \n",
       "27     0          1  "
      ]
     },
     "execution_count": 819,
     "metadata": {},
     "output_type": "execute_result"
    }
   ],
   "source": [
    "predicted_log_reg=get_df_pred(log_grid)\n",
    "predicted_log_reg_mismatch=predicted_log_reg[predicted_log_reg[\"real\"]!=predicted_log_reg[\"predicted\"]]\n",
    "predicted_log_reg_mismatch.head(10)"
   ]
  },
  {
   "cell_type": "markdown",
   "metadata": {},
   "source": [
    "Correctly predicted submissions."
   ]
  },
  {
   "cell_type": "code",
   "execution_count": 820,
   "metadata": {},
   "outputs": [
    {
     "data": {
      "text/html": [
       "<div>\n",
       "<style scoped>\n",
       "    .dataframe tbody tr th:only-of-type {\n",
       "        vertical-align: middle;\n",
       "    }\n",
       "\n",
       "    .dataframe tbody tr th {\n",
       "        vertical-align: top;\n",
       "    }\n",
       "\n",
       "    .dataframe thead th {\n",
       "        text-align: right;\n",
       "    }\n",
       "</style>\n",
       "<table border=\"1\" class=\"dataframe\">\n",
       "  <thead>\n",
       "    <tr style=\"text-align: right;\">\n",
       "      <th></th>\n",
       "      <th>index</th>\n",
       "      <th>comment</th>\n",
       "      <th>real</th>\n",
       "      <th>predicted</th>\n",
       "    </tr>\n",
       "  </thead>\n",
       "  <tbody>\n",
       "    <tr>\n",
       "      <th>0</th>\n",
       "      <td>3102</td>\n",
       "      <td>I random pink clot discharge come scared implantation bleed instance pregnancy    second stop bad idea come    minute later doubt pregnancy precum scared sure period come</td>\n",
       "      <td>0</td>\n",
       "      <td>0</td>\n",
       "    </tr>\n",
       "    <tr>\n",
       "      <th>2</th>\n",
       "      <td>3752</td>\n",
       "      <td>kind doubt hard time know anxiety anxiety bad</td>\n",
       "      <td>0</td>\n",
       "      <td>0</td>\n",
       "    </tr>\n",
       "    <tr>\n",
       "      <th>3</th>\n",
       "      <td>866</td>\n",
       "      <td>recently talk ex lightly mention probably clue girlfriend actually look like</td>\n",
       "      <td>1</td>\n",
       "      <td>1</td>\n",
       "    </tr>\n",
       "    <tr>\n",
       "      <th>4</th>\n",
       "      <td>2522</td>\n",
       "      <td>crazy sexual fantasy</td>\n",
       "      <td>0</td>\n",
       "      <td>0</td>\n",
       "    </tr>\n",
       "    <tr>\n",
       "      <th>5</th>\n",
       "      <td>3827</td>\n",
       "      <td>prefer bland food seasoned food</td>\n",
       "      <td>0</td>\n",
       "      <td>0</td>\n",
       "    </tr>\n",
       "    <tr>\n",
       "      <th>7</th>\n",
       "      <td>3573</td>\n",
       "      <td>answer</td>\n",
       "      <td>0</td>\n",
       "      <td>0</td>\n",
       "    </tr>\n",
       "    <tr>\n",
       "      <th>9</th>\n",
       "      <td>1326</td>\n",
       "      <td>kind long bear perspective today start good boss bad mood start unload truck cheer man friday polite way start stupid know feel happy friday okay continue work later start fucking end different different like different different technically point aggravate stick rest day feel kind hurt mean tell different mean way fast forward end day lock store shut light ask lock door yes scream I long hey l...</td>\n",
       "      <td>1</td>\n",
       "      <td>1</td>\n",
       "    </tr>\n",
       "    <tr>\n",
       "      <th>11</th>\n",
       "      <td>2975</td>\n",
       "      <td>awkward situation use live dude usually wear bras leave house find constrict uncomfortable wear bras usually soon home thing gay dude long term boyfriend chance perve I worried feel like rude uncomfortable dress properly proper polite worry feel weird bra relatively big boob definitely noticeable wear bra wear sport bras moment tight uncomfy support guy think wear bra wear</td>\n",
       "      <td>0</td>\n",
       "      <td>0</td>\n",
       "    </tr>\n",
       "    <tr>\n",
       "      <th>12</th>\n",
       "      <td>1974</td>\n",
       "      <td>guy       date month distant texte hit want hang mantain friendship right agree thinking friend text day silly stuff like ask plan day series recommendation personally communicate friend day know appreciate want friendship receive text single day small silly thing force</td>\n",
       "      <td>1</td>\n",
       "      <td>1</td>\n",
       "    </tr>\n",
       "    <tr>\n",
       "      <th>14</th>\n",
       "      <td>821</td>\n",
       "      <td>I think bar like hooter</td>\n",
       "      <td>1</td>\n",
       "      <td>1</td>\n",
       "    </tr>\n",
       "  </tbody>\n",
       "</table>\n",
       "</div>"
      ],
      "text/plain": [
       "    index  \\\n",
       "0    3102   \n",
       "2    3752   \n",
       "3     866   \n",
       "4    2522   \n",
       "5    3827   \n",
       "7    3573   \n",
       "9    1326   \n",
       "11   2975   \n",
       "12   1974   \n",
       "14    821   \n",
       "\n",
       "                                                                                                                                                                                                                                                                                                                                                                                                            comment  \\\n",
       "0                                                                                                                                                                                                                                        I random pink clot discharge come scared implantation bleed instance pregnancy    second stop bad idea come    minute later doubt pregnancy precum scared sure period come   \n",
       "2                                                                                                                                                                                                                                                                                                                                                                     kind doubt hard time know anxiety anxiety bad   \n",
       "3                                                                                                                                                                                                                                                                                                                                      recently talk ex lightly mention probably clue girlfriend actually look like   \n",
       "4                                                                                                                                                                                                                                                                                                                                                                                              crazy sexual fantasy   \n",
       "5                                                                                                                                                                                                                                                                                                                                                                                   prefer bland food seasoned food   \n",
       "7                                                                                                                                                                                                                                                                                                                                                                                                            answer   \n",
       "9   kind long bear perspective today start good boss bad mood start unload truck cheer man friday polite way start stupid know feel happy friday okay continue work later start fucking end different different like different different technically point aggravate stick rest day feel kind hurt mean tell different mean way fast forward end day lock store shut light ask lock door yes scream I long hey l...   \n",
       "11                          awkward situation use live dude usually wear bras leave house find constrict uncomfortable wear bras usually soon home thing gay dude long term boyfriend chance perve I worried feel like rude uncomfortable dress properly proper polite worry feel weird bra relatively big boob definitely noticeable wear bra wear sport bras moment tight uncomfy support guy think wear bra wear   \n",
       "12                                                                                                                                   guy       date month distant texte hit want hang mantain friendship right agree thinking friend text day silly stuff like ask plan day series recommendation personally communicate friend day know appreciate want friendship receive text single day small silly thing force   \n",
       "14                                                                                                                                                                                                                                                                                                                                                                                          I think bar like hooter   \n",
       "\n",
       "    real  predicted  \n",
       "0      0          0  \n",
       "2      0          0  \n",
       "3      1          1  \n",
       "4      0          0  \n",
       "5      0          0  \n",
       "7      0          0  \n",
       "9      1          1  \n",
       "11     0          0  \n",
       "12     1          1  \n",
       "14     1          1  "
      ]
     },
     "execution_count": 820,
     "metadata": {},
     "output_type": "execute_result"
    }
   ],
   "source": [
    "predicted_log_reg_match=predicted_log_reg[predicted_log_reg[\"real\"]==predicted_log_reg[\"predicted\"]]\n",
    "predicted_log_reg_match.head(10)"
   ]
  },
  {
   "cell_type": "markdown",
   "metadata": {},
   "source": [
    "Feature importance"
   ]
  },
  {
   "cell_type": "code",
   "execution_count": 910,
   "metadata": {},
   "outputs": [
    {
     "data": {
      "text/html": [
       "<div>\n",
       "<style scoped>\n",
       "    .dataframe tbody tr th:only-of-type {\n",
       "        vertical-align: middle;\n",
       "    }\n",
       "\n",
       "    .dataframe tbody tr th {\n",
       "        vertical-align: top;\n",
       "    }\n",
       "\n",
       "    .dataframe thead th {\n",
       "        text-align: right;\n",
       "    }\n",
       "</style>\n",
       "<table border=\"1\" class=\"dataframe\">\n",
       "  <thead>\n",
       "    <tr style=\"text-align: right;\">\n",
       "      <th></th>\n",
       "      <th>coef</th>\n",
       "      <th>feature</th>\n",
       "      <th>exp</th>\n",
       "    </tr>\n",
       "  </thead>\n",
       "  <tbody>\n",
       "    <tr>\n",
       "      <th>62</th>\n",
       "      <td>2.172532</td>\n",
       "      <td>advice</td>\n",
       "      <td>8.780488</td>\n",
       "    </tr>\n",
       "    <tr>\n",
       "      <th>1756</th>\n",
       "      <td>1.570825</td>\n",
       "      <td>guy think</td>\n",
       "      <td>4.810617</td>\n",
       "    </tr>\n",
       "    <tr>\n",
       "      <th>1872</th>\n",
       "      <td>1.559255</td>\n",
       "      <td>help</td>\n",
       "      <td>4.755278</td>\n",
       "    </tr>\n",
       "    <tr>\n",
       "      <th>546</th>\n",
       "      <td>1.386526</td>\n",
       "      <td>cheap</td>\n",
       "      <td>4.000927</td>\n",
       "    </tr>\n",
       "    <tr>\n",
       "      <th>2974</th>\n",
       "      <td>1.273100</td>\n",
       "      <td>obvious</td>\n",
       "      <td>3.571909</td>\n",
       "    </tr>\n",
       "    <tr>\n",
       "      <th>...</th>\n",
       "      <td>...</td>\n",
       "      <td>...</td>\n",
       "      <td>...</td>\n",
       "    </tr>\n",
       "    <tr>\n",
       "      <th>3599</th>\n",
       "      <td>-1.122622</td>\n",
       "      <td>rude</td>\n",
       "      <td>0.325425</td>\n",
       "    </tr>\n",
       "    <tr>\n",
       "      <th>4038</th>\n",
       "      <td>-1.253379</td>\n",
       "      <td>subreddit</td>\n",
       "      <td>0.285538</td>\n",
       "    </tr>\n",
       "    <tr>\n",
       "      <th>3139</th>\n",
       "      <td>-1.277632</td>\n",
       "      <td>period</td>\n",
       "      <td>0.278697</td>\n",
       "    </tr>\n",
       "    <tr>\n",
       "      <th>2255</th>\n",
       "      <td>-1.294778</td>\n",
       "      <td>lady</td>\n",
       "      <td>0.273959</td>\n",
       "    </tr>\n",
       "    <tr>\n",
       "      <th>800</th>\n",
       "      <td>-1.322092</td>\n",
       "      <td>cry</td>\n",
       "      <td>0.266577</td>\n",
       "    </tr>\n",
       "  </tbody>\n",
       "</table>\n",
       "<p>5000 rows × 3 columns</p>\n",
       "</div>"
      ],
      "text/plain": [
       "          coef    feature       exp\n",
       "62    2.172532     advice  8.780488\n",
       "1756  1.570825  guy think  4.810617\n",
       "1872  1.559255       help  4.755278\n",
       "546   1.386526      cheap  4.000927\n",
       "2974  1.273100    obvious  3.571909\n",
       "...        ...        ...       ...\n",
       "3599 -1.122622       rude  0.325425\n",
       "4038 -1.253379  subreddit  0.285538\n",
       "3139 -1.277632     period  0.278697\n",
       "2255 -1.294778       lady  0.273959\n",
       "800  -1.322092        cry  0.266577\n",
       "\n",
       "[5000 rows x 3 columns]"
      ]
     },
     "execution_count": 910,
     "metadata": {},
     "output_type": "execute_result"
    }
   ],
   "source": [
    "log_reg_features=pd.DataFrame(log_grid.best_estimator_.named_steps.log_reg.coef_[0])\n",
    "log_reg_features['feature']=log_grid.best_estimator_.named_steps.cvec.get_feature_names_out()\n",
    "log_reg_features.columns=['coef',\"feature\"]\n",
    "log_reg_features.sort_values(by='coef',ascending=False)\n",
    "log_reg_features['exp']=np.exp(log_reg_features['coef'])\n",
    "log_reg_features.sort_values(by='exp',ascending=False)"
   ]
  },
  {
   "cell_type": "code",
   "execution_count": 917,
   "metadata": {},
   "outputs": [],
   "source": [
    "log_most_imp_feat=log_reg_features.sort_values(by='exp',ascending=False).iloc[:10]\n",
    "log_most_imp_feat=log_most_imp_feat.append(log_reg_features.sort_values(by='exp',ascending=False).iloc[-10:])"
   ]
  },
  {
   "cell_type": "code",
   "execution_count": 919,
   "metadata": {},
   "outputs": [
    {
     "data": {
      "text/html": [
       "<div>\n",
       "<style scoped>\n",
       "    .dataframe tbody tr th:only-of-type {\n",
       "        vertical-align: middle;\n",
       "    }\n",
       "\n",
       "    .dataframe tbody tr th {\n",
       "        vertical-align: top;\n",
       "    }\n",
       "\n",
       "    .dataframe thead th {\n",
       "        text-align: right;\n",
       "    }\n",
       "</style>\n",
       "<table border=\"1\" class=\"dataframe\">\n",
       "  <thead>\n",
       "    <tr style=\"text-align: right;\">\n",
       "      <th></th>\n",
       "      <th>coef</th>\n",
       "      <th>feature</th>\n",
       "      <th>exp</th>\n",
       "    </tr>\n",
       "  </thead>\n",
       "  <tbody>\n",
       "    <tr>\n",
       "      <th>62</th>\n",
       "      <td>2.172532</td>\n",
       "      <td>advice</td>\n",
       "      <td>8.780488</td>\n",
       "    </tr>\n",
       "    <tr>\n",
       "      <th>1756</th>\n",
       "      <td>1.570825</td>\n",
       "      <td>guy think</td>\n",
       "      <td>4.810617</td>\n",
       "    </tr>\n",
       "    <tr>\n",
       "      <th>1872</th>\n",
       "      <td>1.559255</td>\n",
       "      <td>help</td>\n",
       "      <td>4.755278</td>\n",
       "    </tr>\n",
       "    <tr>\n",
       "      <th>546</th>\n",
       "      <td>1.386526</td>\n",
       "      <td>cheap</td>\n",
       "      <td>4.000927</td>\n",
       "    </tr>\n",
       "    <tr>\n",
       "      <th>2974</th>\n",
       "      <td>1.273100</td>\n",
       "      <td>obvious</td>\n",
       "      <td>3.571909</td>\n",
       "    </tr>\n",
       "    <tr>\n",
       "      <th>2747</th>\n",
       "      <td>1.271927</td>\n",
       "      <td>men</td>\n",
       "      <td>3.567720</td>\n",
       "    </tr>\n",
       "    <tr>\n",
       "      <th>840</th>\n",
       "      <td>1.204971</td>\n",
       "      <td>dad</td>\n",
       "      <td>3.336664</td>\n",
       "    </tr>\n",
       "    <tr>\n",
       "      <th>1007</th>\n",
       "      <td>1.140336</td>\n",
       "      <td>divorce</td>\n",
       "      <td>3.127818</td>\n",
       "    </tr>\n",
       "    <tr>\n",
       "      <th>3981</th>\n",
       "      <td>1.131554</td>\n",
       "      <td>stick</td>\n",
       "      <td>3.100471</td>\n",
       "    </tr>\n",
       "    <tr>\n",
       "      <th>298</th>\n",
       "      <td>1.109500</td>\n",
       "      <td>bar</td>\n",
       "      <td>3.032842</td>\n",
       "    </tr>\n",
       "    <tr>\n",
       "      <th>440</th>\n",
       "      <td>-1.040961</td>\n",
       "      <td>bras</td>\n",
       "      <td>0.353115</td>\n",
       "    </tr>\n",
       "    <tr>\n",
       "      <th>1251</th>\n",
       "      <td>-1.057145</td>\n",
       "      <td>fart</td>\n",
       "      <td>0.347446</td>\n",
       "    </tr>\n",
       "    <tr>\n",
       "      <th>3325</th>\n",
       "      <td>-1.077808</td>\n",
       "      <td>product</td>\n",
       "      <td>0.340341</td>\n",
       "    </tr>\n",
       "    <tr>\n",
       "      <th>3103</th>\n",
       "      <td>-1.091332</td>\n",
       "      <td>penis size</td>\n",
       "      <td>0.335769</td>\n",
       "    </tr>\n",
       "    <tr>\n",
       "      <th>583</th>\n",
       "      <td>-1.105012</td>\n",
       "      <td>class</td>\n",
       "      <td>0.331207</td>\n",
       "    </tr>\n",
       "    <tr>\n",
       "      <th>3599</th>\n",
       "      <td>-1.122622</td>\n",
       "      <td>rude</td>\n",
       "      <td>0.325425</td>\n",
       "    </tr>\n",
       "    <tr>\n",
       "      <th>4038</th>\n",
       "      <td>-1.253379</td>\n",
       "      <td>subreddit</td>\n",
       "      <td>0.285538</td>\n",
       "    </tr>\n",
       "    <tr>\n",
       "      <th>3139</th>\n",
       "      <td>-1.277632</td>\n",
       "      <td>period</td>\n",
       "      <td>0.278697</td>\n",
       "    </tr>\n",
       "    <tr>\n",
       "      <th>2255</th>\n",
       "      <td>-1.294778</td>\n",
       "      <td>lady</td>\n",
       "      <td>0.273959</td>\n",
       "    </tr>\n",
       "    <tr>\n",
       "      <th>800</th>\n",
       "      <td>-1.322092</td>\n",
       "      <td>cry</td>\n",
       "      <td>0.266577</td>\n",
       "    </tr>\n",
       "  </tbody>\n",
       "</table>\n",
       "</div>"
      ],
      "text/plain": [
       "          coef     feature       exp\n",
       "62    2.172532      advice  8.780488\n",
       "1756  1.570825   guy think  4.810617\n",
       "1872  1.559255        help  4.755278\n",
       "546   1.386526       cheap  4.000927\n",
       "2974  1.273100     obvious  3.571909\n",
       "2747  1.271927         men  3.567720\n",
       "840   1.204971         dad  3.336664\n",
       "1007  1.140336     divorce  3.127818\n",
       "3981  1.131554       stick  3.100471\n",
       "298   1.109500         bar  3.032842\n",
       "440  -1.040961        bras  0.353115\n",
       "1251 -1.057145        fart  0.347446\n",
       "3325 -1.077808     product  0.340341\n",
       "3103 -1.091332  penis size  0.335769\n",
       "583  -1.105012       class  0.331207\n",
       "3599 -1.122622        rude  0.325425\n",
       "4038 -1.253379   subreddit  0.285538\n",
       "3139 -1.277632      period  0.278697\n",
       "2255 -1.294778        lady  0.273959\n",
       "800  -1.322092         cry  0.266577"
      ]
     },
     "execution_count": 919,
     "metadata": {},
     "output_type": "execute_result"
    }
   ],
   "source": [
    "log_most_imp_feat"
   ]
  },
  {
   "cell_type": "markdown",
   "metadata": {},
   "source": [
    "Plotting feature importance"
   ]
  },
  {
   "cell_type": "code",
   "execution_count": 949,
   "metadata": {},
   "outputs": [
    {
     "data": {
      "text/plain": [
       "<Figure size 432x288 with 0 Axes>"
      ]
     },
     "metadata": {},
     "output_type": "display_data"
    },
    {
     "data": {
      "image/png": "[encoded data removed]",
      "text/plain": [
       "<Figure size 1440x576 with 1 Axes>"
      ]
     },
     "metadata": {
      "needs_background": "light"
     },
     "output_type": "display_data"
    }
   ],
   "source": [
    "# plot\n",
    "plt.tight_layout()\n",
    "g = sns.catplot(kind='bar', data=log_most_imp_feat, x='feature', y='exp', height=8, aspect=2.5)\n",
    "g.fig.subplots_adjust(top=1.1)\n",
    "# g.a (1)\n",
    "g.fig.suptitle('Most important features for Logistic Regression')\n",
    "\n",
    "# iterate through the axes\n",
    "for ax in g.axes.flat:\n",
    "\n",
    "    # annotate\n",
    "    ax.bar_label(ax.containers[0], label_type='edge')\n",
    "    ax.axhline(1)\n",
    "    # pad the spacing between the number and the edge of the figure; should be in the loop, otherwise only the last subplot would be adjusted\n",
    "    ax.margins(y=0.05)\n",
    "plt.savefig('../resources/Top_10_log_reg.png')\n"
   ]
  },
  {
   "cell_type": "markdown",
   "metadata": {},
   "source": [
    "### Naive Bayes"
   ]
  },
  {
   "cell_type": "markdown",
   "metadata": {},
   "source": [
    "Misclassified submissions."
   ]
  },
  {
   "cell_type": "code",
   "execution_count": 821,
   "metadata": {},
   "outputs": [
    {
     "data": {
      "text/html": [
       "<div>\n",
       "<style scoped>\n",
       "    .dataframe tbody tr th:only-of-type {\n",
       "        vertical-align: middle;\n",
       "    }\n",
       "\n",
       "    .dataframe tbody tr th {\n",
       "        vertical-align: top;\n",
       "    }\n",
       "\n",
       "    .dataframe thead th {\n",
       "        text-align: right;\n",
       "    }\n",
       "</style>\n",
       "<table border=\"1\" class=\"dataframe\">\n",
       "  <thead>\n",
       "    <tr style=\"text-align: right;\">\n",
       "      <th></th>\n",
       "      <th>index</th>\n",
       "      <th>comment</th>\n",
       "      <th>real</th>\n",
       "      <th>predicted</th>\n",
       "    </tr>\n",
       "  </thead>\n",
       "  <tbody>\n",
       "    <tr>\n",
       "      <th>4</th>\n",
       "      <td>2522</td>\n",
       "      <td>crazy sexual fantasy</td>\n",
       "      <td>0</td>\n",
       "      <td>1</td>\n",
       "    </tr>\n",
       "    <tr>\n",
       "      <th>6</th>\n",
       "      <td>3212</td>\n",
       "      <td>I collect play doll know odd desire play doll</td>\n",
       "      <td>0</td>\n",
       "      <td>1</td>\n",
       "    </tr>\n",
       "    <tr>\n",
       "      <th>8</th>\n",
       "      <td>618</td>\n",
       "      <td>drink    month ago little drunk start stupid shit life mainly ignore work week begin join work conversation team day begin message slack leave town work week start monday morning office chat forth bit end exchange number share tea member team flirt non stop blatantly state appreciate intimidate I want plan hang week leave utterly confused    month feel like elaborate prank happen</td>\n",
       "      <td>1</td>\n",
       "      <td>0</td>\n",
       "    </tr>\n",
       "    <tr>\n",
       "      <th>10</th>\n",
       "      <td>1606</td>\n",
       "      <td>I lot post site nut immediately feel ashamed kind thing watch feel regret shame wrong</td>\n",
       "      <td>1</td>\n",
       "      <td>0</td>\n",
       "    </tr>\n",
       "    <tr>\n",
       "      <th>12</th>\n",
       "      <td>1974</td>\n",
       "      <td>guy       date month distant texte hit want hang mantain friendship right agree thinking friend text day silly stuff like ask plan day series recommendation personally communicate friend day know appreciate want friendship receive text single day small silly thing force</td>\n",
       "      <td>1</td>\n",
       "      <td>0</td>\n",
       "    </tr>\n",
       "    <tr>\n",
       "      <th>13</th>\n",
       "      <td>2959</td>\n",
       "      <td>look find reasonably price shampoo conditioner thought hear like use</td>\n",
       "      <td>0</td>\n",
       "      <td>1</td>\n",
       "    </tr>\n",
       "    <tr>\n",
       "      <th>15</th>\n",
       "      <td>2745</td>\n",
       "      <td>favorite office place workplace lifehack help</td>\n",
       "      <td>0</td>\n",
       "      <td>1</td>\n",
       "    </tr>\n",
       "    <tr>\n",
       "      <th>17</th>\n",
       "      <td>1975</td>\n",
       "      <td>I know plan propose married know ring size partner fiancé wife</td>\n",
       "      <td>1</td>\n",
       "      <td>0</td>\n",
       "    </tr>\n",
       "    <tr>\n",
       "      <th>23</th>\n",
       "      <td>1752</td>\n",
       "      <td>month ago decide finally jungle pubic hair preferred method scissor cut lot month line hair near area look like mess grow way expect use scissor instead permanently trim forever</td>\n",
       "      <td>1</td>\n",
       "      <td>0</td>\n",
       "    </tr>\n",
       "    <tr>\n",
       "      <th>24</th>\n",
       "      <td>1648</td>\n",
       "      <td>work progress explanation boss manager letter sure reply amp    dear greeting cold monday truly mystified wrong mistake perform duty clean driver desire learn utter incompetence    year drive experience    preference use google map instead waze    wrong turn waze late time    long eat breakfast day matter generous help strive equip driver job thank million advance way send driver collect vacuu...</td>\n",
       "      <td>1</td>\n",
       "      <td>0</td>\n",
       "    </tr>\n",
       "  </tbody>\n",
       "</table>\n",
       "</div>"
      ],
      "text/plain": [
       "    index  \\\n",
       "4    2522   \n",
       "6    3212   \n",
       "8     618   \n",
       "10   1606   \n",
       "12   1974   \n",
       "13   2959   \n",
       "15   2745   \n",
       "17   1975   \n",
       "23   1752   \n",
       "24   1648   \n",
       "\n",
       "                                                                                                                                                                                                                                                                                                                                                                                                            comment  \\\n",
       "4                                                                                                                                                                                                                                                                                                                                                                                              crazy sexual fantasy   \n",
       "6                                                                                                                                                                                                                                                                                                                                                                     I collect play doll know odd desire play doll   \n",
       "8                    drink    month ago little drunk start stupid shit life mainly ignore work week begin join work conversation team day begin message slack leave town work week start monday morning office chat forth bit end exchange number share tea member team flirt non stop blatantly state appreciate intimidate I want plan hang week leave utterly confused    month feel like elaborate prank happen   \n",
       "10                                                                                                                                                                                                                                                                                                                            I lot post site nut immediately feel ashamed kind thing watch feel regret shame wrong   \n",
       "12                                                                                                                                   guy       date month distant texte hit want hang mantain friendship right agree thinking friend text day silly stuff like ask plan day series recommendation personally communicate friend day know appreciate want friendship receive text single day small silly thing force   \n",
       "13                                                                                                                                                                                                                                                                                                                                             look find reasonably price shampoo conditioner thought hear like use   \n",
       "15                                                                                                                                                                                                                                                                                                                                                                    favorite office place workplace lifehack help   \n",
       "17                                                                                                                                                                                                                                                                                                                                                   I know plan propose married know ring size partner fiancé wife   \n",
       "23                                                                                                                                                                                                                                month ago decide finally jungle pubic hair preferred method scissor cut lot month line hair near area look like mess grow way expect use scissor instead permanently trim forever   \n",
       "24  work progress explanation boss manager letter sure reply amp    dear greeting cold monday truly mystified wrong mistake perform duty clean driver desire learn utter incompetence    year drive experience    preference use google map instead waze    wrong turn waze late time    long eat breakfast day matter generous help strive equip driver job thank million advance way send driver collect vacuu...   \n",
       "\n",
       "    real  predicted  \n",
       "4      0          1  \n",
       "6      0          1  \n",
       "8      1          0  \n",
       "10     1          0  \n",
       "12     1          0  \n",
       "13     0          1  \n",
       "15     0          1  \n",
       "17     1          0  \n",
       "23     1          0  \n",
       "24     1          0  "
      ]
     },
     "execution_count": 821,
     "metadata": {},
     "output_type": "execute_result"
    }
   ],
   "source": [
    "predicted_nb=get_df_pred(nb_grid)\n",
    "predicted_nb_mismatch=predicted_nb[predicted_nb[\"real\"]!=predicted_nb[\"predicted\"]]\n",
    "predicted_nb_mismatch.head(10)\n"
   ]
  },
  {
   "cell_type": "markdown",
   "metadata": {},
   "source": [
    "Correctly predicted submissions."
   ]
  },
  {
   "cell_type": "code",
   "execution_count": 822,
   "metadata": {},
   "outputs": [
    {
     "data": {
      "text/html": [
       "<div>\n",
       "<style scoped>\n",
       "    .dataframe tbody tr th:only-of-type {\n",
       "        vertical-align: middle;\n",
       "    }\n",
       "\n",
       "    .dataframe tbody tr th {\n",
       "        vertical-align: top;\n",
       "    }\n",
       "\n",
       "    .dataframe thead th {\n",
       "        text-align: right;\n",
       "    }\n",
       "</style>\n",
       "<table border=\"1\" class=\"dataframe\">\n",
       "  <thead>\n",
       "    <tr style=\"text-align: right;\">\n",
       "      <th></th>\n",
       "      <th>index</th>\n",
       "      <th>comment</th>\n",
       "      <th>real</th>\n",
       "      <th>predicted</th>\n",
       "    </tr>\n",
       "  </thead>\n",
       "  <tbody>\n",
       "    <tr>\n",
       "      <th>0</th>\n",
       "      <td>3102</td>\n",
       "      <td>I random pink clot discharge come scared implantation bleed instance pregnancy    second stop bad idea come    minute later doubt pregnancy precum scared sure period come</td>\n",
       "      <td>0</td>\n",
       "      <td>0</td>\n",
       "    </tr>\n",
       "    <tr>\n",
       "      <th>1</th>\n",
       "      <td>1249</td>\n",
       "      <td>I woman post love picnic bookstore date man post want</td>\n",
       "      <td>1</td>\n",
       "      <td>1</td>\n",
       "    </tr>\n",
       "    <tr>\n",
       "      <th>2</th>\n",
       "      <td>3752</td>\n",
       "      <td>kind doubt hard time know anxiety anxiety bad</td>\n",
       "      <td>0</td>\n",
       "      <td>0</td>\n",
       "    </tr>\n",
       "    <tr>\n",
       "      <th>3</th>\n",
       "      <td>866</td>\n",
       "      <td>recently talk ex lightly mention probably clue girlfriend actually look like</td>\n",
       "      <td>1</td>\n",
       "      <td>1</td>\n",
       "    </tr>\n",
       "    <tr>\n",
       "      <th>5</th>\n",
       "      <td>3827</td>\n",
       "      <td>prefer bland food seasoned food</td>\n",
       "      <td>0</td>\n",
       "      <td>0</td>\n",
       "    </tr>\n",
       "    <tr>\n",
       "      <th>7</th>\n",
       "      <td>3573</td>\n",
       "      <td>answer</td>\n",
       "      <td>0</td>\n",
       "      <td>0</td>\n",
       "    </tr>\n",
       "    <tr>\n",
       "      <th>9</th>\n",
       "      <td>1326</td>\n",
       "      <td>kind long bear perspective today start good boss bad mood start unload truck cheer man friday polite way start stupid know feel happy friday okay continue work later start fucking end different different like different different technically point aggravate stick rest day feel kind hurt mean tell different mean way fast forward end day lock store shut light ask lock door yes scream I long hey l...</td>\n",
       "      <td>1</td>\n",
       "      <td>1</td>\n",
       "    </tr>\n",
       "    <tr>\n",
       "      <th>11</th>\n",
       "      <td>2975</td>\n",
       "      <td>awkward situation use live dude usually wear bras leave house find constrict uncomfortable wear bras usually soon home thing gay dude long term boyfriend chance perve I worried feel like rude uncomfortable dress properly proper polite worry feel weird bra relatively big boob definitely noticeable wear bra wear sport bras moment tight uncomfy support guy think wear bra wear</td>\n",
       "      <td>0</td>\n",
       "      <td>0</td>\n",
       "    </tr>\n",
       "    <tr>\n",
       "      <th>14</th>\n",
       "      <td>821</td>\n",
       "      <td>I think bar like hooter</td>\n",
       "      <td>1</td>\n",
       "      <td>1</td>\n",
       "    </tr>\n",
       "    <tr>\n",
       "      <th>16</th>\n",
       "      <td>3352</td>\n",
       "      <td>kind embarrassing young randomly decide shave small section belly button present self annoyance blonde fine hair noticeable hair grow dark little thick long pluck recently hair ingrown hair difficult little painful way deal ideally hair normal possible</td>\n",
       "      <td>0</td>\n",
       "      <td>0</td>\n",
       "    </tr>\n",
       "  </tbody>\n",
       "</table>\n",
       "</div>"
      ],
      "text/plain": [
       "    index  \\\n",
       "0    3102   \n",
       "1    1249   \n",
       "2    3752   \n",
       "3     866   \n",
       "5    3827   \n",
       "7    3573   \n",
       "9    1326   \n",
       "11   2975   \n",
       "14    821   \n",
       "16   3352   \n",
       "\n",
       "                                                                                                                                                                                                                                                                                                                                                                                                            comment  \\\n",
       "0                                                                                                                                                                                                                                        I random pink clot discharge come scared implantation bleed instance pregnancy    second stop bad idea come    minute later doubt pregnancy precum scared sure period come   \n",
       "1                                                                                                                                                                                                                                                                                                                                                             I woman post love picnic bookstore date man post want   \n",
       "2                                                                                                                                                                                                                                                                                                                                                                     kind doubt hard time know anxiety anxiety bad   \n",
       "3                                                                                                                                                                                                                                                                                                                                      recently talk ex lightly mention probably clue girlfriend actually look like   \n",
       "5                                                                                                                                                                                                                                                                                                                                                                                   prefer bland food seasoned food   \n",
       "7                                                                                                                                                                                                                                                                                                                                                                                                            answer   \n",
       "9   kind long bear perspective today start good boss bad mood start unload truck cheer man friday polite way start stupid know feel happy friday okay continue work later start fucking end different different like different different technically point aggravate stick rest day feel kind hurt mean tell different mean way fast forward end day lock store shut light ask lock door yes scream I long hey l...   \n",
       "11                          awkward situation use live dude usually wear bras leave house find constrict uncomfortable wear bras usually soon home thing gay dude long term boyfriend chance perve I worried feel like rude uncomfortable dress properly proper polite worry feel weird bra relatively big boob definitely noticeable wear bra wear sport bras moment tight uncomfy support guy think wear bra wear   \n",
       "14                                                                                                                                                                                                                                                                                                                                                                                          I think bar like hooter   \n",
       "16                                                                                                                                                     kind embarrassing young randomly decide shave small section belly button present self annoyance blonde fine hair noticeable hair grow dark little thick long pluck recently hair ingrown hair difficult little painful way deal ideally hair normal possible   \n",
       "\n",
       "    real  predicted  \n",
       "0      0          0  \n",
       "1      1          1  \n",
       "2      0          0  \n",
       "3      1          1  \n",
       "5      0          0  \n",
       "7      0          0  \n",
       "9      1          1  \n",
       "11     0          0  \n",
       "14     1          1  \n",
       "16     0          0  "
      ]
     },
     "execution_count": 822,
     "metadata": {},
     "output_type": "execute_result"
    }
   ],
   "source": [
    "predicted_nb_match=predicted_nb[predicted_nb[\"real\"]==predicted_nb[\"predicted\"]]\n",
    "predicted_nb_match.head(10)"
   ]
  },
  {
   "cell_type": "markdown",
   "metadata": {},
   "source": [
    "----\n",
    "### Decision Tree"
   ]
  },
  {
   "cell_type": "markdown",
   "metadata": {},
   "source": [
    "Misclassified submissions."
   ]
  },
  {
   "cell_type": "code",
   "execution_count": 823,
   "metadata": {},
   "outputs": [
    {
     "data": {
      "text/html": [
       "<div>\n",
       "<style scoped>\n",
       "    .dataframe tbody tr th:only-of-type {\n",
       "        vertical-align: middle;\n",
       "    }\n",
       "\n",
       "    .dataframe tbody tr th {\n",
       "        vertical-align: top;\n",
       "    }\n",
       "\n",
       "    .dataframe thead th {\n",
       "        text-align: right;\n",
       "    }\n",
       "</style>\n",
       "<table border=\"1\" class=\"dataframe\">\n",
       "  <thead>\n",
       "    <tr style=\"text-align: right;\">\n",
       "      <th></th>\n",
       "      <th>index</th>\n",
       "      <th>comment</th>\n",
       "      <th>real</th>\n",
       "      <th>predicted</th>\n",
       "    </tr>\n",
       "  </thead>\n",
       "  <tbody>\n",
       "    <tr>\n",
       "      <th>3</th>\n",
       "      <td>866</td>\n",
       "      <td>recently talk ex lightly mention probably clue girlfriend actually look like</td>\n",
       "      <td>1</td>\n",
       "      <td>0</td>\n",
       "    </tr>\n",
       "    <tr>\n",
       "      <th>8</th>\n",
       "      <td>618</td>\n",
       "      <td>drink    month ago little drunk start stupid shit life mainly ignore work week begin join work conversation team day begin message slack leave town work week start monday morning office chat forth bit end exchange number share tea member team flirt non stop blatantly state appreciate intimidate I want plan hang week leave utterly confused    month feel like elaborate prank happen</td>\n",
       "      <td>1</td>\n",
       "      <td>0</td>\n",
       "    </tr>\n",
       "    <tr>\n",
       "      <th>10</th>\n",
       "      <td>1606</td>\n",
       "      <td>I lot post site nut immediately feel ashamed kind thing watch feel regret shame wrong</td>\n",
       "      <td>1</td>\n",
       "      <td>0</td>\n",
       "    </tr>\n",
       "    <tr>\n",
       "      <th>11</th>\n",
       "      <td>2975</td>\n",
       "      <td>awkward situation use live dude usually wear bras leave house find constrict uncomfortable wear bras usually soon home thing gay dude long term boyfriend chance perve I worried feel like rude uncomfortable dress properly proper polite worry feel weird bra relatively big boob definitely noticeable wear bra wear sport bras moment tight uncomfy support guy think wear bra wear</td>\n",
       "      <td>0</td>\n",
       "      <td>1</td>\n",
       "    </tr>\n",
       "    <tr>\n",
       "      <th>14</th>\n",
       "      <td>821</td>\n",
       "      <td>I think bar like hooter</td>\n",
       "      <td>1</td>\n",
       "      <td>0</td>\n",
       "    </tr>\n",
       "    <tr>\n",
       "      <th>15</th>\n",
       "      <td>2745</td>\n",
       "      <td>favorite office place workplace lifehack help</td>\n",
       "      <td>0</td>\n",
       "      <td>1</td>\n",
       "    </tr>\n",
       "    <tr>\n",
       "      <th>17</th>\n",
       "      <td>1975</td>\n",
       "      <td>I know plan propose married know ring size partner fiancé wife</td>\n",
       "      <td>1</td>\n",
       "      <td>0</td>\n",
       "    </tr>\n",
       "    <tr>\n",
       "      <th>20</th>\n",
       "      <td>1939</td>\n",
       "      <td>I    year old male consider fairly attractive little issue match date app eye bar    month long term relationship know clueless feel weird ask girl right hook know plenty direct treat tinder date potential partner progress slow turn moreso seek potential partner point think thing thing feel awkward think place fucking leave</td>\n",
       "      <td>1</td>\n",
       "      <td>0</td>\n",
       "    </tr>\n",
       "    <tr>\n",
       "      <th>21</th>\n",
       "      <td>1033</td>\n",
       "      <td>apparently common thought accord tiktok like ask boyfriend spend day teleportation portal</td>\n",
       "      <td>1</td>\n",
       "      <td>0</td>\n",
       "    </tr>\n",
       "    <tr>\n",
       "      <th>23</th>\n",
       "      <td>1752</td>\n",
       "      <td>month ago decide finally jungle pubic hair preferred method scissor cut lot month line hair near area look like mess grow way expect use scissor instead permanently trim forever</td>\n",
       "      <td>1</td>\n",
       "      <td>0</td>\n",
       "    </tr>\n",
       "  </tbody>\n",
       "</table>\n",
       "</div>"
      ],
      "text/plain": [
       "    index  \\\n",
       "3     866   \n",
       "8     618   \n",
       "10   1606   \n",
       "11   2975   \n",
       "14    821   \n",
       "15   2745   \n",
       "17   1975   \n",
       "20   1939   \n",
       "21   1033   \n",
       "23   1752   \n",
       "\n",
       "                                                                                                                                                                                                                                                                                                                                                                                           comment  \\\n",
       "3                                                                                                                                                                                                                                                                                                                     recently talk ex lightly mention probably clue girlfriend actually look like   \n",
       "8   drink    month ago little drunk start stupid shit life mainly ignore work week begin join work conversation team day begin message slack leave town work week start monday morning office chat forth bit end exchange number share tea member team flirt non stop blatantly state appreciate intimidate I want plan hang week leave utterly confused    month feel like elaborate prank happen   \n",
       "10                                                                                                                                                                                                                                                                                                           I lot post site nut immediately feel ashamed kind thing watch feel regret shame wrong   \n",
       "11         awkward situation use live dude usually wear bras leave house find constrict uncomfortable wear bras usually soon home thing gay dude long term boyfriend chance perve I worried feel like rude uncomfortable dress properly proper polite worry feel weird bra relatively big boob definitely noticeable wear bra wear sport bras moment tight uncomfy support guy think wear bra wear   \n",
       "14                                                                                                                                                                                                                                                                                                                                                                         I think bar like hooter   \n",
       "15                                                                                                                                                                                                                                                                                                                                                   favorite office place workplace lifehack help   \n",
       "17                                                                                                                                                                                                                                                                                                                                  I know plan propose married know ring size partner fiancé wife   \n",
       "20                                                           I    year old male consider fairly attractive little issue match date app eye bar    month long term relationship know clueless feel weird ask girl right hook know plenty direct treat tinder date potential partner progress slow turn moreso seek potential partner point think thing thing feel awkward think place fucking leave   \n",
       "21                                                                                                                                                                                                                                                                                                       apparently common thought accord tiktok like ask boyfriend spend day teleportation portal   \n",
       "23                                                                                                                                                                                                               month ago decide finally jungle pubic hair preferred method scissor cut lot month line hair near area look like mess grow way expect use scissor instead permanently trim forever   \n",
       "\n",
       "    real  predicted  \n",
       "3      1          0  \n",
       "8      1          0  \n",
       "10     1          0  \n",
       "11     0          1  \n",
       "14     1          0  \n",
       "15     0          1  \n",
       "17     1          0  \n",
       "20     1          0  \n",
       "21     1          0  \n",
       "23     1          0  "
      ]
     },
     "execution_count": 823,
     "metadata": {},
     "output_type": "execute_result"
    }
   ],
   "source": [
    "predicted_dt=get_df_pred(d_tree_grid)\n",
    "predicted_dt_mismatch=predicted_dt[predicted_dt[\"real\"]!=predicted_dt[\"predicted\"]]\n",
    "predicted_dt_mismatch.head(10)"
   ]
  },
  {
   "cell_type": "markdown",
   "metadata": {},
   "source": [
    "Correctly predicted submissions."
   ]
  },
  {
   "cell_type": "code",
   "execution_count": 824,
   "metadata": {},
   "outputs": [
    {
     "data": {
      "text/html": [
       "<div>\n",
       "<style scoped>\n",
       "    .dataframe tbody tr th:only-of-type {\n",
       "        vertical-align: middle;\n",
       "    }\n",
       "\n",
       "    .dataframe tbody tr th {\n",
       "        vertical-align: top;\n",
       "    }\n",
       "\n",
       "    .dataframe thead th {\n",
       "        text-align: right;\n",
       "    }\n",
       "</style>\n",
       "<table border=\"1\" class=\"dataframe\">\n",
       "  <thead>\n",
       "    <tr style=\"text-align: right;\">\n",
       "      <th></th>\n",
       "      <th>index</th>\n",
       "      <th>comment</th>\n",
       "      <th>real</th>\n",
       "      <th>predicted</th>\n",
       "    </tr>\n",
       "  </thead>\n",
       "  <tbody>\n",
       "    <tr>\n",
       "      <th>0</th>\n",
       "      <td>3102</td>\n",
       "      <td>I random pink clot discharge come scared implantation bleed instance pregnancy    second stop bad idea come    minute later doubt pregnancy precum scared sure period come</td>\n",
       "      <td>0</td>\n",
       "      <td>0</td>\n",
       "    </tr>\n",
       "    <tr>\n",
       "      <th>1</th>\n",
       "      <td>1249</td>\n",
       "      <td>I woman post love picnic bookstore date man post want</td>\n",
       "      <td>1</td>\n",
       "      <td>1</td>\n",
       "    </tr>\n",
       "    <tr>\n",
       "      <th>2</th>\n",
       "      <td>3752</td>\n",
       "      <td>kind doubt hard time know anxiety anxiety bad</td>\n",
       "      <td>0</td>\n",
       "      <td>0</td>\n",
       "    </tr>\n",
       "    <tr>\n",
       "      <th>4</th>\n",
       "      <td>2522</td>\n",
       "      <td>crazy sexual fantasy</td>\n",
       "      <td>0</td>\n",
       "      <td>0</td>\n",
       "    </tr>\n",
       "    <tr>\n",
       "      <th>5</th>\n",
       "      <td>3827</td>\n",
       "      <td>prefer bland food seasoned food</td>\n",
       "      <td>0</td>\n",
       "      <td>0</td>\n",
       "    </tr>\n",
       "    <tr>\n",
       "      <th>6</th>\n",
       "      <td>3212</td>\n",
       "      <td>I collect play doll know odd desire play doll</td>\n",
       "      <td>0</td>\n",
       "      <td>0</td>\n",
       "    </tr>\n",
       "    <tr>\n",
       "      <th>7</th>\n",
       "      <td>3573</td>\n",
       "      <td>answer</td>\n",
       "      <td>0</td>\n",
       "      <td>0</td>\n",
       "    </tr>\n",
       "    <tr>\n",
       "      <th>9</th>\n",
       "      <td>1326</td>\n",
       "      <td>kind long bear perspective today start good boss bad mood start unload truck cheer man friday polite way start stupid know feel happy friday okay continue work later start fucking end different different like different different technically point aggravate stick rest day feel kind hurt mean tell different mean way fast forward end day lock store shut light ask lock door yes scream I long hey l...</td>\n",
       "      <td>1</td>\n",
       "      <td>1</td>\n",
       "    </tr>\n",
       "    <tr>\n",
       "      <th>12</th>\n",
       "      <td>1974</td>\n",
       "      <td>guy       date month distant texte hit want hang mantain friendship right agree thinking friend text day silly stuff like ask plan day series recommendation personally communicate friend day know appreciate want friendship receive text single day small silly thing force</td>\n",
       "      <td>1</td>\n",
       "      <td>1</td>\n",
       "    </tr>\n",
       "    <tr>\n",
       "      <th>13</th>\n",
       "      <td>2959</td>\n",
       "      <td>look find reasonably price shampoo conditioner thought hear like use</td>\n",
       "      <td>0</td>\n",
       "      <td>0</td>\n",
       "    </tr>\n",
       "  </tbody>\n",
       "</table>\n",
       "</div>"
      ],
      "text/plain": [
       "    index  \\\n",
       "0    3102   \n",
       "1    1249   \n",
       "2    3752   \n",
       "4    2522   \n",
       "5    3827   \n",
       "6    3212   \n",
       "7    3573   \n",
       "9    1326   \n",
       "12   1974   \n",
       "13   2959   \n",
       "\n",
       "                                                                                                                                                                                                                                                                                                                                                                                                            comment  \\\n",
       "0                                                                                                                                                                                                                                        I random pink clot discharge come scared implantation bleed instance pregnancy    second stop bad idea come    minute later doubt pregnancy precum scared sure period come   \n",
       "1                                                                                                                                                                                                                                                                                                                                                             I woman post love picnic bookstore date man post want   \n",
       "2                                                                                                                                                                                                                                                                                                                                                                     kind doubt hard time know anxiety anxiety bad   \n",
       "4                                                                                                                                                                                                                                                                                                                                                                                              crazy sexual fantasy   \n",
       "5                                                                                                                                                                                                                                                                                                                                                                                   prefer bland food seasoned food   \n",
       "6                                                                                                                                                                                                                                                                                                                                                                     I collect play doll know odd desire play doll   \n",
       "7                                                                                                                                                                                                                                                                                                                                                                                                            answer   \n",
       "9   kind long bear perspective today start good boss bad mood start unload truck cheer man friday polite way start stupid know feel happy friday okay continue work later start fucking end different different like different different technically point aggravate stick rest day feel kind hurt mean tell different mean way fast forward end day lock store shut light ask lock door yes scream I long hey l...   \n",
       "12                                                                                                                                   guy       date month distant texte hit want hang mantain friendship right agree thinking friend text day silly stuff like ask plan day series recommendation personally communicate friend day know appreciate want friendship receive text single day small silly thing force   \n",
       "13                                                                                                                                                                                                                                                                                                                                             look find reasonably price shampoo conditioner thought hear like use   \n",
       "\n",
       "    real  predicted  \n",
       "0      0          0  \n",
       "1      1          1  \n",
       "2      0          0  \n",
       "4      0          0  \n",
       "5      0          0  \n",
       "6      0          0  \n",
       "7      0          0  \n",
       "9      1          1  \n",
       "12     1          1  \n",
       "13     0          0  "
      ]
     },
     "execution_count": 824,
     "metadata": {},
     "output_type": "execute_result"
    }
   ],
   "source": [
    "predicted_dt_match=predicted_dt[predicted_dt[\"real\"]==predicted_dt[\"predicted\"]]\n",
    "predicted_dt_match.head(10)"
   ]
  },
  {
   "cell_type": "markdown",
   "metadata": {},
   "source": [
    "Feature importance"
   ]
  },
  {
   "cell_type": "code",
   "execution_count": 900,
   "metadata": {},
   "outputs": [
    {
     "data": {
      "text/html": [
       "<div>\n",
       "<style scoped>\n",
       "    .dataframe tbody tr th:only-of-type {\n",
       "        vertical-align: middle;\n",
       "    }\n",
       "\n",
       "    .dataframe tbody tr th {\n",
       "        vertical-align: top;\n",
       "    }\n",
       "\n",
       "    .dataframe thead th {\n",
       "        text-align: right;\n",
       "    }\n",
       "</style>\n",
       "<table border=\"1\" class=\"dataframe\">\n",
       "  <thead>\n",
       "    <tr style=\"text-align: right;\">\n",
       "      <th></th>\n",
       "      <th>coef</th>\n",
       "      <th>feature</th>\n",
       "    </tr>\n",
       "  </thead>\n",
       "  <tbody>\n",
       "    <tr>\n",
       "      <th>3685</th>\n",
       "      <td>0.204369</td>\n",
       "      <td>man</td>\n",
       "    </tr>\n",
       "    <tr>\n",
       "      <th>112</th>\n",
       "      <td>0.152310</td>\n",
       "      <td>advice</td>\n",
       "    </tr>\n",
       "    <tr>\n",
       "      <th>2731</th>\n",
       "      <td>0.144382</td>\n",
       "      <td>guy</td>\n",
       "    </tr>\n",
       "    <tr>\n",
       "      <th>2844</th>\n",
       "      <td>0.076516</td>\n",
       "      <td>help</td>\n",
       "    </tr>\n",
       "    <tr>\n",
       "      <th>3520</th>\n",
       "      <td>0.049862</td>\n",
       "      <td>life</td>\n",
       "    </tr>\n",
       "    <tr>\n",
       "      <th>...</th>\n",
       "      <td>...</td>\n",
       "      <td>...</td>\n",
       "    </tr>\n",
       "    <tr>\n",
       "      <th>2292</th>\n",
       "      <td>0.000000</td>\n",
       "      <td>fictional</td>\n",
       "    </tr>\n",
       "    <tr>\n",
       "      <th>2291</th>\n",
       "      <td>0.000000</td>\n",
       "      <td>fiction</td>\n",
       "    </tr>\n",
       "    <tr>\n",
       "      <th>2290</th>\n",
       "      <td>0.000000</td>\n",
       "      <td>fiber</td>\n",
       "    </tr>\n",
       "    <tr>\n",
       "      <th>2289</th>\n",
       "      <td>0.000000</td>\n",
       "      <td>fiancé</td>\n",
       "    </tr>\n",
       "    <tr>\n",
       "      <th>6888</th>\n",
       "      <td>0.000000</td>\n",
       "      <td>zuppa</td>\n",
       "    </tr>\n",
       "  </tbody>\n",
       "</table>\n",
       "<p>6889 rows × 2 columns</p>\n",
       "</div>"
      ],
      "text/plain": [
       "          coef    feature\n",
       "3685  0.204369        man\n",
       "112   0.152310     advice\n",
       "2731  0.144382        guy\n",
       "2844  0.076516       help\n",
       "3520  0.049862       life\n",
       "...        ...        ...\n",
       "2292  0.000000  fictional\n",
       "2291  0.000000    fiction\n",
       "2290  0.000000      fiber\n",
       "2289  0.000000     fiancé\n",
       "6888  0.000000      zuppa\n",
       "\n",
       "[6889 rows x 2 columns]"
      ]
     },
     "execution_count": 900,
     "metadata": {},
     "output_type": "execute_result"
    }
   ],
   "source": [
    "d_tree_features=pd.DataFrame(d_tree_grid.best_estimator_.named_steps.dt.feature_importances_)\n",
    "d_tree_features['feature']=d_tree_grid.best_estimator_.named_steps.tf.get_feature_names_out()\n",
    "d_tree_features.columns=['coef',\"feature\"]\n",
    "d_tree_features.sort_values(by=\"coef\",ascending=False)"
   ]
  },
  {
   "cell_type": "code",
   "execution_count": 940,
   "metadata": {},
   "outputs": [
    {
     "data": {
      "text/html": [
       "<div>\n",
       "<style scoped>\n",
       "    .dataframe tbody tr th:only-of-type {\n",
       "        vertical-align: middle;\n",
       "    }\n",
       "\n",
       "    .dataframe tbody tr th {\n",
       "        vertical-align: top;\n",
       "    }\n",
       "\n",
       "    .dataframe thead th {\n",
       "        text-align: right;\n",
       "    }\n",
       "</style>\n",
       "<table border=\"1\" class=\"dataframe\">\n",
       "  <thead>\n",
       "    <tr style=\"text-align: right;\">\n",
       "      <th></th>\n",
       "      <th>coef</th>\n",
       "      <th>feature</th>\n",
       "    </tr>\n",
       "  </thead>\n",
       "  <tbody>\n",
       "    <tr>\n",
       "      <th>3685</th>\n",
       "      <td>0.204369</td>\n",
       "      <td>man</td>\n",
       "    </tr>\n",
       "    <tr>\n",
       "      <th>112</th>\n",
       "      <td>0.152310</td>\n",
       "      <td>advice</td>\n",
       "    </tr>\n",
       "    <tr>\n",
       "      <th>2731</th>\n",
       "      <td>0.144382</td>\n",
       "      <td>guy</td>\n",
       "    </tr>\n",
       "    <tr>\n",
       "      <th>2844</th>\n",
       "      <td>0.076516</td>\n",
       "      <td>help</td>\n",
       "    </tr>\n",
       "    <tr>\n",
       "      <th>3520</th>\n",
       "      <td>0.049862</td>\n",
       "      <td>life</td>\n",
       "    </tr>\n",
       "    <tr>\n",
       "      <th>6667</th>\n",
       "      <td>0.038308</td>\n",
       "      <td>want</td>\n",
       "    </tr>\n",
       "    <tr>\n",
       "      <th>2315</th>\n",
       "      <td>0.031213</td>\n",
       "      <td>find</td>\n",
       "    </tr>\n",
       "    <tr>\n",
       "      <th>355</th>\n",
       "      <td>0.030405</td>\n",
       "      <td>ask</td>\n",
       "    </tr>\n",
       "    <tr>\n",
       "      <th>3553</th>\n",
       "      <td>0.029152</td>\n",
       "      <td>live</td>\n",
       "    </tr>\n",
       "    <tr>\n",
       "      <th>2804</th>\n",
       "      <td>0.026312</td>\n",
       "      <td>head</td>\n",
       "    </tr>\n",
       "  </tbody>\n",
       "</table>\n",
       "</div>"
      ],
      "text/plain": [
       "          coef feature\n",
       "3685  0.204369     man\n",
       "112   0.152310  advice\n",
       "2731  0.144382     guy\n",
       "2844  0.076516    help\n",
       "3520  0.049862    life\n",
       "6667  0.038308    want\n",
       "2315  0.031213    find\n",
       "355   0.030405     ask\n",
       "3553  0.029152    live\n",
       "2804  0.026312    head"
      ]
     },
     "execution_count": 940,
     "metadata": {},
     "output_type": "execute_result"
    }
   ],
   "source": [
    "d_tree_imp_feat=d_tree_features.sort_values(by='coef',ascending=False).iloc[:10]\n",
    "# d_tree_imp_feat=log_most_imp_feat.append(log_reg_features.sort_values(by='exp',ascending=False).iloc[-10:])\n",
    "d_tree_imp_feat"
   ]
  },
  {
   "cell_type": "markdown",
   "metadata": {},
   "source": [
    "Feature importance plot"
   ]
  },
  {
   "cell_type": "code",
   "execution_count": 948,
   "metadata": {},
   "outputs": [
    {
     "data": {
      "text/plain": [
       "<Figure size 432x288 with 0 Axes>"
      ]
     },
     "metadata": {},
     "output_type": "display_data"
    },
    {
     "data": {
      "image/png": "[encoded data removed]",
      "text/plain": [
       "<Figure size 864x720 with 1 Axes>"
      ]
     },
     "metadata": {
      "needs_background": "light"
     },
     "output_type": "display_data"
    }
   ],
   "source": [
    "plt.tight_layout()\n",
    "plt.figure(figsize=(12,10))\n",
    "sns.barplot(x=d_tree_imp_feat['feature'],y=d_tree_imp_feat['coef']).set(title=\"Most important features of Decision Tree\")\n",
    "plt.savefig('../resources/features_decision_tree.png')\n",
    "\n"
   ]
  },
  {
   "cell_type": "markdown",
   "metadata": {},
   "source": [
    "This coefficient tells us how was important feature according to the model and shows total reduction (normalized) of the Gini coef brought by that feature."
   ]
  },
  {
   "cell_type": "markdown",
   "metadata": {},
   "source": [
    "----\n",
    "### Random Forest"
   ]
  },
  {
   "cell_type": "markdown",
   "metadata": {},
   "source": [
    "Misclassified submissions."
   ]
  },
  {
   "cell_type": "code",
   "execution_count": 864,
   "metadata": {},
   "outputs": [
    {
     "data": {
      "text/html": [
       "<div>\n",
       "<style scoped>\n",
       "    .dataframe tbody tr th:only-of-type {\n",
       "        vertical-align: middle;\n",
       "    }\n",
       "\n",
       "    .dataframe tbody tr th {\n",
       "        vertical-align: top;\n",
       "    }\n",
       "\n",
       "    .dataframe thead th {\n",
       "        text-align: right;\n",
       "    }\n",
       "</style>\n",
       "<table border=\"1\" class=\"dataframe\">\n",
       "  <thead>\n",
       "    <tr style=\"text-align: right;\">\n",
       "      <th></th>\n",
       "      <th>index</th>\n",
       "      <th>comment</th>\n",
       "      <th>real</th>\n",
       "      <th>predicted</th>\n",
       "    </tr>\n",
       "  </thead>\n",
       "  <tbody>\n",
       "    <tr>\n",
       "      <th>4</th>\n",
       "      <td>2522</td>\n",
       "      <td>crazy sexual fantasy</td>\n",
       "      <td>0</td>\n",
       "      <td>1</td>\n",
       "    </tr>\n",
       "    <tr>\n",
       "      <th>10</th>\n",
       "      <td>1606</td>\n",
       "      <td>I lot post site nut immediately feel ashamed kind thing watch feel regret shame wrong</td>\n",
       "      <td>1</td>\n",
       "      <td>0</td>\n",
       "    </tr>\n",
       "    <tr>\n",
       "      <th>11</th>\n",
       "      <td>2975</td>\n",
       "      <td>awkward situation use live dude usually wear bras leave house find constrict uncomfortable wear bras usually soon home thing gay dude long term boyfriend chance perve I worried feel like rude uncomfortable dress properly proper polite worry feel weird bra relatively big boob definitely noticeable wear bra wear sport bras moment tight uncomfy support guy think wear bra wear</td>\n",
       "      <td>0</td>\n",
       "      <td>1</td>\n",
       "    </tr>\n",
       "    <tr>\n",
       "      <th>15</th>\n",
       "      <td>2745</td>\n",
       "      <td>favorite office place workplace lifehack help</td>\n",
       "      <td>0</td>\n",
       "      <td>1</td>\n",
       "    </tr>\n",
       "    <tr>\n",
       "      <th>16</th>\n",
       "      <td>3352</td>\n",
       "      <td>kind embarrassing young randomly decide shave small section belly button present self annoyance blonde fine hair noticeable hair grow dark little thick long pluck recently hair ingrown hair difficult little painful way deal ideally hair normal possible</td>\n",
       "      <td>0</td>\n",
       "      <td>1</td>\n",
       "    </tr>\n",
       "    <tr>\n",
       "      <th>17</th>\n",
       "      <td>1975</td>\n",
       "      <td>I know plan propose married know ring size partner fiancé wife</td>\n",
       "      <td>1</td>\n",
       "      <td>0</td>\n",
       "    </tr>\n",
       "    <tr>\n",
       "      <th>23</th>\n",
       "      <td>1752</td>\n",
       "      <td>month ago decide finally jungle pubic hair preferred method scissor cut lot month line hair near area look like mess grow way expect use scissor instead permanently trim forever</td>\n",
       "      <td>1</td>\n",
       "      <td>0</td>\n",
       "    </tr>\n",
       "    <tr>\n",
       "      <th>27</th>\n",
       "      <td>3575</td>\n",
       "      <td>I apply job assessment job local university score    applicant include professor engineer scientist think pretty good consider struggle math excite tell parent basically good like qualify job event planning position struggle believe finally able comfort zone apply job little challenging I know guess believe feel good</td>\n",
       "      <td>0</td>\n",
       "      <td>1</td>\n",
       "    </tr>\n",
       "    <tr>\n",
       "      <th>34</th>\n",
       "      <td>1742</td>\n",
       "      <td>I lot people social medium thing like flirt want disappear actually ask question</td>\n",
       "      <td>1</td>\n",
       "      <td>0</td>\n",
       "    </tr>\n",
       "    <tr>\n",
       "      <th>40</th>\n",
       "      <td>750</td>\n",
       "      <td>I girl    boss like    handsome married obviously leave job near</td>\n",
       "      <td>1</td>\n",
       "      <td>0</td>\n",
       "    </tr>\n",
       "  </tbody>\n",
       "</table>\n",
       "</div>"
      ],
      "text/plain": [
       "    index  \\\n",
       "4    2522   \n",
       "10   1606   \n",
       "11   2975   \n",
       "15   2745   \n",
       "16   3352   \n",
       "17   1975   \n",
       "23   1752   \n",
       "27   3575   \n",
       "34   1742   \n",
       "40    750   \n",
       "\n",
       "                                                                                                                                                                                                                                                                                                                                                                                    comment  \\\n",
       "4                                                                                                                                                                                                                                                                                                                                                                      crazy sexual fantasy   \n",
       "10                                                                                                                                                                                                                                                                                                    I lot post site nut immediately feel ashamed kind thing watch feel regret shame wrong   \n",
       "11  awkward situation use live dude usually wear bras leave house find constrict uncomfortable wear bras usually soon home thing gay dude long term boyfriend chance perve I worried feel like rude uncomfortable dress properly proper polite worry feel weird bra relatively big boob definitely noticeable wear bra wear sport bras moment tight uncomfy support guy think wear bra wear   \n",
       "15                                                                                                                                                                                                                                                                                                                                            favorite office place workplace lifehack help   \n",
       "16                                                                                                                             kind embarrassing young randomly decide shave small section belly button present self annoyance blonde fine hair noticeable hair grow dark little thick long pluck recently hair ingrown hair difficult little painful way deal ideally hair normal possible   \n",
       "17                                                                                                                                                                                                                                                                                                                           I know plan propose married know ring size partner fiancé wife   \n",
       "23                                                                                                                                                                                                        month ago decide finally jungle pubic hair preferred method scissor cut lot month line hair near area look like mess grow way expect use scissor instead permanently trim forever   \n",
       "27                                                           I apply job assessment job local university score    applicant include professor engineer scientist think pretty good consider struggle math excite tell parent basically good like qualify job event planning position struggle believe finally able comfort zone apply job little challenging I know guess believe feel good   \n",
       "34                                                                                                                                                                                                                                                                                                         I lot people social medium thing like flirt want disappear actually ask question   \n",
       "40                                                                                                                                                                                                                                                                                                                         I girl    boss like    handsome married obviously leave job near   \n",
       "\n",
       "    real  predicted  \n",
       "4      0          1  \n",
       "10     1          0  \n",
       "11     0          1  \n",
       "15     0          1  \n",
       "16     0          1  \n",
       "17     1          0  \n",
       "23     1          0  \n",
       "27     0          1  \n",
       "34     1          0  \n",
       "40     1          0  "
      ]
     },
     "execution_count": 864,
     "metadata": {},
     "output_type": "execute_result"
    }
   ],
   "source": [
    "predicted_rf=get_df_pred(rand_grid)\n",
    "predicted_rf_mismatch=predicted_rf[predicted_rf[\"real\"]!=predicted_rf[\"predicted\"]]\n",
    "predicted_rf_mismatch.head(10)\n"
   ]
  },
  {
   "cell_type": "markdown",
   "metadata": {},
   "source": [
    "Correctly predicted submissions."
   ]
  },
  {
   "cell_type": "code",
   "execution_count": 865,
   "metadata": {},
   "outputs": [
    {
     "data": {
      "text/html": [
       "<div>\n",
       "<style scoped>\n",
       "    .dataframe tbody tr th:only-of-type {\n",
       "        vertical-align: middle;\n",
       "    }\n",
       "\n",
       "    .dataframe tbody tr th {\n",
       "        vertical-align: top;\n",
       "    }\n",
       "\n",
       "    .dataframe thead th {\n",
       "        text-align: right;\n",
       "    }\n",
       "</style>\n",
       "<table border=\"1\" class=\"dataframe\">\n",
       "  <thead>\n",
       "    <tr style=\"text-align: right;\">\n",
       "      <th></th>\n",
       "      <th>index</th>\n",
       "      <th>comment</th>\n",
       "      <th>real</th>\n",
       "      <th>predicted</th>\n",
       "    </tr>\n",
       "  </thead>\n",
       "  <tbody>\n",
       "    <tr>\n",
       "      <th>0</th>\n",
       "      <td>3102</td>\n",
       "      <td>I random pink clot discharge come scared implantation bleed instance pregnancy    second stop bad idea come    minute later doubt pregnancy precum scared sure period come</td>\n",
       "      <td>0</td>\n",
       "      <td>0</td>\n",
       "    </tr>\n",
       "    <tr>\n",
       "      <th>1</th>\n",
       "      <td>1249</td>\n",
       "      <td>I woman post love picnic bookstore date man post want</td>\n",
       "      <td>1</td>\n",
       "      <td>1</td>\n",
       "    </tr>\n",
       "    <tr>\n",
       "      <th>2</th>\n",
       "      <td>3752</td>\n",
       "      <td>kind doubt hard time know anxiety anxiety bad</td>\n",
       "      <td>0</td>\n",
       "      <td>0</td>\n",
       "    </tr>\n",
       "    <tr>\n",
       "      <th>3</th>\n",
       "      <td>866</td>\n",
       "      <td>recently talk ex lightly mention probably clue girlfriend actually look like</td>\n",
       "      <td>1</td>\n",
       "      <td>1</td>\n",
       "    </tr>\n",
       "    <tr>\n",
       "      <th>5</th>\n",
       "      <td>3827</td>\n",
       "      <td>prefer bland food seasoned food</td>\n",
       "      <td>0</td>\n",
       "      <td>0</td>\n",
       "    </tr>\n",
       "    <tr>\n",
       "      <th>6</th>\n",
       "      <td>3212</td>\n",
       "      <td>I collect play doll know odd desire play doll</td>\n",
       "      <td>0</td>\n",
       "      <td>0</td>\n",
       "    </tr>\n",
       "    <tr>\n",
       "      <th>7</th>\n",
       "      <td>3573</td>\n",
       "      <td>answer</td>\n",
       "      <td>0</td>\n",
       "      <td>0</td>\n",
       "    </tr>\n",
       "    <tr>\n",
       "      <th>8</th>\n",
       "      <td>618</td>\n",
       "      <td>drink    month ago little drunk start stupid shit life mainly ignore work week begin join work conversation team day begin message slack leave town work week start monday morning office chat forth bit end exchange number share tea member team flirt non stop blatantly state appreciate intimidate I want plan hang week leave utterly confused    month feel like elaborate prank happen</td>\n",
       "      <td>1</td>\n",
       "      <td>1</td>\n",
       "    </tr>\n",
       "    <tr>\n",
       "      <th>9</th>\n",
       "      <td>1326</td>\n",
       "      <td>kind long bear perspective today start good boss bad mood start unload truck cheer man friday polite way start stupid know feel happy friday okay continue work later start fucking end different different like different different technically point aggravate stick rest day feel kind hurt mean tell different mean way fast forward end day lock store shut light ask lock door yes scream I long hey l...</td>\n",
       "      <td>1</td>\n",
       "      <td>1</td>\n",
       "    </tr>\n",
       "    <tr>\n",
       "      <th>12</th>\n",
       "      <td>1974</td>\n",
       "      <td>guy       date month distant texte hit want hang mantain friendship right agree thinking friend text day silly stuff like ask plan day series recommendation personally communicate friend day know appreciate want friendship receive text single day small silly thing force</td>\n",
       "      <td>1</td>\n",
       "      <td>1</td>\n",
       "    </tr>\n",
       "  </tbody>\n",
       "</table>\n",
       "</div>"
      ],
      "text/plain": [
       "    index  \\\n",
       "0    3102   \n",
       "1    1249   \n",
       "2    3752   \n",
       "3     866   \n",
       "5    3827   \n",
       "6    3212   \n",
       "7    3573   \n",
       "8     618   \n",
       "9    1326   \n",
       "12   1974   \n",
       "\n",
       "                                                                                                                                                                                                                                                                                                                                                                                                            comment  \\\n",
       "0                                                                                                                                                                                                                                        I random pink clot discharge come scared implantation bleed instance pregnancy    second stop bad idea come    minute later doubt pregnancy precum scared sure period come   \n",
       "1                                                                                                                                                                                                                                                                                                                                                             I woman post love picnic bookstore date man post want   \n",
       "2                                                                                                                                                                                                                                                                                                                                                                     kind doubt hard time know anxiety anxiety bad   \n",
       "3                                                                                                                                                                                                                                                                                                                                      recently talk ex lightly mention probably clue girlfriend actually look like   \n",
       "5                                                                                                                                                                                                                                                                                                                                                                                   prefer bland food seasoned food   \n",
       "6                                                                                                                                                                                                                                                                                                                                                                     I collect play doll know odd desire play doll   \n",
       "7                                                                                                                                                                                                                                                                                                                                                                                                            answer   \n",
       "8                    drink    month ago little drunk start stupid shit life mainly ignore work week begin join work conversation team day begin message slack leave town work week start monday morning office chat forth bit end exchange number share tea member team flirt non stop blatantly state appreciate intimidate I want plan hang week leave utterly confused    month feel like elaborate prank happen   \n",
       "9   kind long bear perspective today start good boss bad mood start unload truck cheer man friday polite way start stupid know feel happy friday okay continue work later start fucking end different different like different different technically point aggravate stick rest day feel kind hurt mean tell different mean way fast forward end day lock store shut light ask lock door yes scream I long hey l...   \n",
       "12                                                                                                                                   guy       date month distant texte hit want hang mantain friendship right agree thinking friend text day silly stuff like ask plan day series recommendation personally communicate friend day know appreciate want friendship receive text single day small silly thing force   \n",
       "\n",
       "    real  predicted  \n",
       "0      0          0  \n",
       "1      1          1  \n",
       "2      0          0  \n",
       "3      1          1  \n",
       "5      0          0  \n",
       "6      0          0  \n",
       "7      0          0  \n",
       "8      1          1  \n",
       "9      1          1  \n",
       "12     1          1  "
      ]
     },
     "execution_count": 865,
     "metadata": {},
     "output_type": "execute_result"
    }
   ],
   "source": [
    "predicted_rf_match=predicted_rf[predicted_rf[\"real\"]==predicted_rf[\"predicted\"]]\n",
    "predicted_rf_match.head(10)"
   ]
  },
  {
   "cell_type": "markdown",
   "metadata": {},
   "source": [
    "Feature importance"
   ]
  },
  {
   "cell_type": "code",
   "execution_count": 905,
   "metadata": {},
   "outputs": [
    {
     "data": {
      "text/html": [
       "<div>\n",
       "<style scoped>\n",
       "    .dataframe tbody tr th:only-of-type {\n",
       "        vertical-align: middle;\n",
       "    }\n",
       "\n",
       "    .dataframe tbody tr th {\n",
       "        vertical-align: top;\n",
       "    }\n",
       "\n",
       "    .dataframe thead th {\n",
       "        text-align: right;\n",
       "    }\n",
       "</style>\n",
       "<table border=\"1\" class=\"dataframe\">\n",
       "  <thead>\n",
       "    <tr style=\"text-align: right;\">\n",
       "      <th></th>\n",
       "      <th>coef</th>\n",
       "      <th>feature</th>\n",
       "    </tr>\n",
       "  </thead>\n",
       "  <tbody>\n",
       "    <tr>\n",
       "      <th>29</th>\n",
       "      <td>0.019896</td>\n",
       "      <td>advice</td>\n",
       "    </tr>\n",
       "    <tr>\n",
       "      <th>1085</th>\n",
       "      <td>0.019338</td>\n",
       "      <td>man</td>\n",
       "    </tr>\n",
       "    <tr>\n",
       "      <th>792</th>\n",
       "      <td>0.016931</td>\n",
       "      <td>help</td>\n",
       "    </tr>\n",
       "    <tr>\n",
       "      <th>742</th>\n",
       "      <td>0.012580</td>\n",
       "      <td>guy</td>\n",
       "    </tr>\n",
       "    <tr>\n",
       "      <th>981</th>\n",
       "      <td>0.012544</td>\n",
       "      <td>like</td>\n",
       "    </tr>\n",
       "    <tr>\n",
       "      <th>1876</th>\n",
       "      <td>0.011760</td>\n",
       "      <td>want</td>\n",
       "    </tr>\n",
       "    <tr>\n",
       "      <th>974</th>\n",
       "      <td>0.010581</td>\n",
       "      <td>life</td>\n",
       "    </tr>\n",
       "    <tr>\n",
       "      <th>1770</th>\n",
       "      <td>0.008497</td>\n",
       "      <td>time</td>\n",
       "    </tr>\n",
       "    <tr>\n",
       "      <th>1684</th>\n",
       "      <td>0.007435</td>\n",
       "      <td>talk</td>\n",
       "    </tr>\n",
       "    <tr>\n",
       "      <th>1034</th>\n",
       "      <td>0.006617</td>\n",
       "      <td>live</td>\n",
       "    </tr>\n",
       "    <tr>\n",
       "      <th>1746</th>\n",
       "      <td>0.006238</td>\n",
       "      <td>think</td>\n",
       "    </tr>\n",
       "    <tr>\n",
       "      <th>1985</th>\n",
       "      <td>0.006087</td>\n",
       "      <td>year</td>\n",
       "    </tr>\n",
       "    <tr>\n",
       "      <th>1946</th>\n",
       "      <td>0.005454</td>\n",
       "      <td>woman</td>\n",
       "    </tr>\n",
       "    <tr>\n",
       "      <th>1829</th>\n",
       "      <td>0.005326</td>\n",
       "      <td>try</td>\n",
       "    </tr>\n",
       "    <tr>\n",
       "      <th>919</th>\n",
       "      <td>0.005122</td>\n",
       "      <td>know</td>\n",
       "    </tr>\n",
       "    <tr>\n",
       "      <th>581</th>\n",
       "      <td>0.005111</td>\n",
       "      <td>feel</td>\n",
       "    </tr>\n",
       "    <tr>\n",
       "      <th>1734</th>\n",
       "      <td>0.004937</td>\n",
       "      <td>thing</td>\n",
       "    </tr>\n",
       "    <tr>\n",
       "      <th>256</th>\n",
       "      <td>0.004888</td>\n",
       "      <td>cheap</td>\n",
       "    </tr>\n",
       "    <tr>\n",
       "      <th>1963</th>\n",
       "      <td>0.004635</td>\n",
       "      <td>work</td>\n",
       "    </tr>\n",
       "    <tr>\n",
       "      <th>1707</th>\n",
       "      <td>0.004561</td>\n",
       "      <td>tell</td>\n",
       "    </tr>\n",
       "  </tbody>\n",
       "</table>\n",
       "</div>"
      ],
      "text/plain": [
       "          coef feature\n",
       "29    0.019896  advice\n",
       "1085  0.019338     man\n",
       "792   0.016931    help\n",
       "742   0.012580     guy\n",
       "981   0.012544    like\n",
       "1876  0.011760    want\n",
       "974   0.010581    life\n",
       "1770  0.008497    time\n",
       "1684  0.007435    talk\n",
       "1034  0.006617    live\n",
       "1746  0.006238   think\n",
       "1985  0.006087    year\n",
       "1946  0.005454   woman\n",
       "1829  0.005326     try\n",
       "919   0.005122    know\n",
       "581   0.005111    feel\n",
       "1734  0.004937   thing\n",
       "256   0.004888   cheap\n",
       "1963  0.004635    work\n",
       "1707  0.004561    tell"
      ]
     },
     "execution_count": 905,
     "metadata": {},
     "output_type": "execute_result"
    }
   ],
   "source": [
    "rand_features=pd.DataFrame(rand_grid.best_estimator_.named_steps.rand.feature_importances_)\n",
    "rand_features['feature']=rand_grid.best_estimator_.named_steps.cv.get_feature_names_out()\n",
    "rand_features.columns=['coef',\"feature\"]\n",
    "rand_features.sort_values(by='coef',ascending=False).head(20)"
   ]
  },
  {
   "cell_type": "code",
   "execution_count": 1074,
   "metadata": {},
   "outputs": [
    {
     "data": {
      "text/html": [
       "<div>\n",
       "<style scoped>\n",
       "    .dataframe tbody tr th:only-of-type {\n",
       "        vertical-align: middle;\n",
       "    }\n",
       "\n",
       "    .dataframe tbody tr th {\n",
       "        vertical-align: top;\n",
       "    }\n",
       "\n",
       "    .dataframe thead th {\n",
       "        text-align: right;\n",
       "    }\n",
       "</style>\n",
       "<table border=\"1\" class=\"dataframe\">\n",
       "  <thead>\n",
       "    <tr style=\"text-align: right;\">\n",
       "      <th></th>\n",
       "      <th>coef</th>\n",
       "      <th>feature</th>\n",
       "    </tr>\n",
       "  </thead>\n",
       "  <tbody>\n",
       "    <tr>\n",
       "      <th>741</th>\n",
       "      <td>0.042044</td>\n",
       "      <td>guy</td>\n",
       "    </tr>\n",
       "    <tr>\n",
       "      <th>30</th>\n",
       "      <td>0.028737</td>\n",
       "      <td>advice</td>\n",
       "    </tr>\n",
       "    <tr>\n",
       "      <th>971</th>\n",
       "      <td>0.028539</td>\n",
       "      <td>life</td>\n",
       "    </tr>\n",
       "    <tr>\n",
       "      <th>1985</th>\n",
       "      <td>0.023920</td>\n",
       "      <td>year</td>\n",
       "    </tr>\n",
       "    <tr>\n",
       "      <th>794</th>\n",
       "      <td>0.022958</td>\n",
       "      <td>help</td>\n",
       "    </tr>\n",
       "    <tr>\n",
       "      <th>1772</th>\n",
       "      <td>0.021476</td>\n",
       "      <td>time</td>\n",
       "    </tr>\n",
       "    <tr>\n",
       "      <th>721</th>\n",
       "      <td>0.020281</td>\n",
       "      <td>great</td>\n",
       "    </tr>\n",
       "    <tr>\n",
       "      <th>590</th>\n",
       "      <td>0.018198</td>\n",
       "      <td>feel like</td>\n",
       "    </tr>\n",
       "    <tr>\n",
       "      <th>1686</th>\n",
       "      <td>0.014929</td>\n",
       "      <td>talk</td>\n",
       "    </tr>\n",
       "    <tr>\n",
       "      <th>1114</th>\n",
       "      <td>0.011389</td>\n",
       "      <td>meet</td>\n",
       "    </tr>\n",
       "  </tbody>\n",
       "</table>\n",
       "</div>"
      ],
      "text/plain": [
       "          coef    feature\n",
       "741   0.042044        guy\n",
       "30    0.028737     advice\n",
       "971   0.028539       life\n",
       "1985  0.023920       year\n",
       "794   0.022958       help\n",
       "1772  0.021476       time\n",
       "721   0.020281      great\n",
       "590   0.018198  feel like\n",
       "1686  0.014929       talk\n",
       "1114  0.011389       meet"
      ]
     },
     "execution_count": 1074,
     "metadata": {},
     "output_type": "execute_result"
    }
   ],
   "source": [
    "ran_for_features=pd.DataFrame(rand_grid.best_estimator_.named_steps.rand.feature_importances_)\n",
    "ran_for_features['feature']=rand_grid.best_estimator_.named_steps.cv.get_feature_names_out()\n",
    "ran_for_features.columns=['coef',\"feature\"]\n",
    "\n",
    "ran_for_features=ran_for_features.sort_values(by=\"coef\",ascending=False).iloc[:10]\n",
    "ran_for_features"
   ]
  },
  {
   "cell_type": "markdown",
   "metadata": {},
   "source": [
    "Feature importance plot"
   ]
  },
  {
   "cell_type": "code",
   "execution_count": 959,
   "metadata": {},
   "outputs": [
    {
     "data": {
      "text/plain": [
       "<Figure size 432x288 with 0 Axes>"
      ]
     },
     "metadata": {},
     "output_type": "display_data"
    },
    {
     "data": {
      "image/png": "[encoded data removed]",
      "text/plain": [
       "<Figure size 864x720 with 1 Axes>"
      ]
     },
     "metadata": {
      "needs_background": "light"
     },
     "output_type": "display_data"
    }
   ],
   "source": [
    "plt.tight_layout()\n",
    "plt.figure(figsize=(12,10))\n",
    "sns.barplot(x=ran_for_features['feature'],y=ran_for_features['coef']).set(title=\"Most important features of Random Forest\")\n",
    "plt.savefig('../resources/features_Random_forest.png')\n",
    "\n"
   ]
  },
  {
   "cell_type": "markdown",
   "metadata": {},
   "source": [
    "----\n",
    "### AdaBoost"
   ]
  },
  {
   "cell_type": "markdown",
   "metadata": {},
   "source": [
    "Misclassified submissions."
   ]
  },
  {
   "cell_type": "code",
   "execution_count": 829,
   "metadata": {},
   "outputs": [
    {
     "data": {
      "text/html": [
       "<div>\n",
       "<style scoped>\n",
       "    .dataframe tbody tr th:only-of-type {\n",
       "        vertical-align: middle;\n",
       "    }\n",
       "\n",
       "    .dataframe tbody tr th {\n",
       "        vertical-align: top;\n",
       "    }\n",
       "\n",
       "    .dataframe thead th {\n",
       "        text-align: right;\n",
       "    }\n",
       "</style>\n",
       "<table border=\"1\" class=\"dataframe\">\n",
       "  <thead>\n",
       "    <tr style=\"text-align: right;\">\n",
       "      <th></th>\n",
       "      <th>index</th>\n",
       "      <th>comment</th>\n",
       "      <th>real</th>\n",
       "      <th>predicted</th>\n",
       "    </tr>\n",
       "  </thead>\n",
       "  <tbody>\n",
       "    <tr>\n",
       "      <th>2</th>\n",
       "      <td>3752</td>\n",
       "      <td>kind doubt hard time know anxiety anxiety bad</td>\n",
       "      <td>0</td>\n",
       "      <td>1</td>\n",
       "    </tr>\n",
       "    <tr>\n",
       "      <th>10</th>\n",
       "      <td>1606</td>\n",
       "      <td>I lot post site nut immediately feel ashamed kind thing watch feel regret shame wrong</td>\n",
       "      <td>1</td>\n",
       "      <td>0</td>\n",
       "    </tr>\n",
       "    <tr>\n",
       "      <th>15</th>\n",
       "      <td>2745</td>\n",
       "      <td>favorite office place workplace lifehack help</td>\n",
       "      <td>0</td>\n",
       "      <td>1</td>\n",
       "    </tr>\n",
       "    <tr>\n",
       "      <th>16</th>\n",
       "      <td>3352</td>\n",
       "      <td>kind embarrassing young randomly decide shave small section belly button present self annoyance blonde fine hair noticeable hair grow dark little thick long pluck recently hair ingrown hair difficult little painful way deal ideally hair normal possible</td>\n",
       "      <td>0</td>\n",
       "      <td>1</td>\n",
       "    </tr>\n",
       "    <tr>\n",
       "      <th>17</th>\n",
       "      <td>1975</td>\n",
       "      <td>I know plan propose married know ring size partner fiancé wife</td>\n",
       "      <td>1</td>\n",
       "      <td>0</td>\n",
       "    </tr>\n",
       "    <tr>\n",
       "      <th>21</th>\n",
       "      <td>1033</td>\n",
       "      <td>apparently common thought accord tiktok like ask boyfriend spend day teleportation portal</td>\n",
       "      <td>1</td>\n",
       "      <td>0</td>\n",
       "    </tr>\n",
       "    <tr>\n",
       "      <th>23</th>\n",
       "      <td>1752</td>\n",
       "      <td>month ago decide finally jungle pubic hair preferred method scissor cut lot month line hair near area look like mess grow way expect use scissor instead permanently trim forever</td>\n",
       "      <td>1</td>\n",
       "      <td>0</td>\n",
       "    </tr>\n",
       "    <tr>\n",
       "      <th>34</th>\n",
       "      <td>1742</td>\n",
       "      <td>I lot people social medium thing like flirt want disappear actually ask question</td>\n",
       "      <td>1</td>\n",
       "      <td>0</td>\n",
       "    </tr>\n",
       "    <tr>\n",
       "      <th>39</th>\n",
       "      <td>3261</td>\n",
       "      <td>great female character write great female character</td>\n",
       "      <td>0</td>\n",
       "      <td>1</td>\n",
       "    </tr>\n",
       "    <tr>\n",
       "      <th>40</th>\n",
       "      <td>750</td>\n",
       "      <td>I girl    boss like    handsome married obviously leave job near</td>\n",
       "      <td>1</td>\n",
       "      <td>0</td>\n",
       "    </tr>\n",
       "  </tbody>\n",
       "</table>\n",
       "</div>"
      ],
      "text/plain": [
       "    index  \\\n",
       "2    3752   \n",
       "10   1606   \n",
       "15   2745   \n",
       "16   3352   \n",
       "17   1975   \n",
       "21   1033   \n",
       "23   1752   \n",
       "34   1742   \n",
       "39   3261   \n",
       "40    750   \n",
       "\n",
       "                                                                                                                                                                                                                                                         comment  \\\n",
       "2                                                                                                                                                                                                                  kind doubt hard time know anxiety anxiety bad   \n",
       "10                                                                                                                                                                         I lot post site nut immediately feel ashamed kind thing watch feel regret shame wrong   \n",
       "15                                                                                                                                                                                                                 favorite office place workplace lifehack help   \n",
       "16  kind embarrassing young randomly decide shave small section belly button present self annoyance blonde fine hair noticeable hair grow dark little thick long pluck recently hair ingrown hair difficult little painful way deal ideally hair normal possible   \n",
       "17                                                                                                                                                                                                I know plan propose married know ring size partner fiancé wife   \n",
       "21                                                                                                                                                                     apparently common thought accord tiktok like ask boyfriend spend day teleportation portal   \n",
       "23                                                                             month ago decide finally jungle pubic hair preferred method scissor cut lot month line hair near area look like mess grow way expect use scissor instead permanently trim forever   \n",
       "34                                                                                                                                                                              I lot people social medium thing like flirt want disappear actually ask question   \n",
       "39                                                                                                                                                                                                           great female character write great female character   \n",
       "40                                                                                                                                                                                              I girl    boss like    handsome married obviously leave job near   \n",
       "\n",
       "    real  predicted  \n",
       "2      0          1  \n",
       "10     1          0  \n",
       "15     0          1  \n",
       "16     0          1  \n",
       "17     1          0  \n",
       "21     1          0  \n",
       "23     1          0  \n",
       "34     1          0  \n",
       "39     0          1  \n",
       "40     1          0  "
      ]
     },
     "execution_count": 829,
     "metadata": {},
     "output_type": "execute_result"
    }
   ],
   "source": [
    "\n",
    "predicted_ada=get_df_pred(ada_grid)\n",
    "predicted_ada_mismatch=predicted_ada[predicted_ada[\"real\"]!=predicted_ada[\"predicted\"]]\n",
    "predicted_ada_mismatch.head(10)\n"
   ]
  },
  {
   "cell_type": "markdown",
   "metadata": {},
   "source": [
    "Correctly predicted submissions."
   ]
  },
  {
   "cell_type": "code",
   "execution_count": 830,
   "metadata": {},
   "outputs": [
    {
     "data": {
      "text/html": [
       "<div>\n",
       "<style scoped>\n",
       "    .dataframe tbody tr th:only-of-type {\n",
       "        vertical-align: middle;\n",
       "    }\n",
       "\n",
       "    .dataframe tbody tr th {\n",
       "        vertical-align: top;\n",
       "    }\n",
       "\n",
       "    .dataframe thead th {\n",
       "        text-align: right;\n",
       "    }\n",
       "</style>\n",
       "<table border=\"1\" class=\"dataframe\">\n",
       "  <thead>\n",
       "    <tr style=\"text-align: right;\">\n",
       "      <th></th>\n",
       "      <th>index</th>\n",
       "      <th>comment</th>\n",
       "      <th>real</th>\n",
       "      <th>predicted</th>\n",
       "    </tr>\n",
       "  </thead>\n",
       "  <tbody>\n",
       "    <tr>\n",
       "      <th>0</th>\n",
       "      <td>3102</td>\n",
       "      <td>I random pink clot discharge come scared implantation bleed instance pregnancy    second stop bad idea come    minute later doubt pregnancy precum scared sure period come</td>\n",
       "      <td>0</td>\n",
       "      <td>0</td>\n",
       "    </tr>\n",
       "    <tr>\n",
       "      <th>1</th>\n",
       "      <td>1249</td>\n",
       "      <td>I woman post love picnic bookstore date man post want</td>\n",
       "      <td>1</td>\n",
       "      <td>1</td>\n",
       "    </tr>\n",
       "    <tr>\n",
       "      <th>3</th>\n",
       "      <td>866</td>\n",
       "      <td>recently talk ex lightly mention probably clue girlfriend actually look like</td>\n",
       "      <td>1</td>\n",
       "      <td>1</td>\n",
       "    </tr>\n",
       "    <tr>\n",
       "      <th>4</th>\n",
       "      <td>2522</td>\n",
       "      <td>crazy sexual fantasy</td>\n",
       "      <td>0</td>\n",
       "      <td>0</td>\n",
       "    </tr>\n",
       "    <tr>\n",
       "      <th>5</th>\n",
       "      <td>3827</td>\n",
       "      <td>prefer bland food seasoned food</td>\n",
       "      <td>0</td>\n",
       "      <td>0</td>\n",
       "    </tr>\n",
       "    <tr>\n",
       "      <th>6</th>\n",
       "      <td>3212</td>\n",
       "      <td>I collect play doll know odd desire play doll</td>\n",
       "      <td>0</td>\n",
       "      <td>0</td>\n",
       "    </tr>\n",
       "    <tr>\n",
       "      <th>7</th>\n",
       "      <td>3573</td>\n",
       "      <td>answer</td>\n",
       "      <td>0</td>\n",
       "      <td>0</td>\n",
       "    </tr>\n",
       "    <tr>\n",
       "      <th>8</th>\n",
       "      <td>618</td>\n",
       "      <td>drink    month ago little drunk start stupid shit life mainly ignore work week begin join work conversation team day begin message slack leave town work week start monday morning office chat forth bit end exchange number share tea member team flirt non stop blatantly state appreciate intimidate I want plan hang week leave utterly confused    month feel like elaborate prank happen</td>\n",
       "      <td>1</td>\n",
       "      <td>1</td>\n",
       "    </tr>\n",
       "    <tr>\n",
       "      <th>9</th>\n",
       "      <td>1326</td>\n",
       "      <td>kind long bear perspective today start good boss bad mood start unload truck cheer man friday polite way start stupid know feel happy friday okay continue work later start fucking end different different like different different technically point aggravate stick rest day feel kind hurt mean tell different mean way fast forward end day lock store shut light ask lock door yes scream I long hey l...</td>\n",
       "      <td>1</td>\n",
       "      <td>1</td>\n",
       "    </tr>\n",
       "    <tr>\n",
       "      <th>11</th>\n",
       "      <td>2975</td>\n",
       "      <td>awkward situation use live dude usually wear bras leave house find constrict uncomfortable wear bras usually soon home thing gay dude long term boyfriend chance perve I worried feel like rude uncomfortable dress properly proper polite worry feel weird bra relatively big boob definitely noticeable wear bra wear sport bras moment tight uncomfy support guy think wear bra wear</td>\n",
       "      <td>0</td>\n",
       "      <td>0</td>\n",
       "    </tr>\n",
       "  </tbody>\n",
       "</table>\n",
       "</div>"
      ],
      "text/plain": [
       "    index  \\\n",
       "0    3102   \n",
       "1    1249   \n",
       "3     866   \n",
       "4    2522   \n",
       "5    3827   \n",
       "6    3212   \n",
       "7    3573   \n",
       "8     618   \n",
       "9    1326   \n",
       "11   2975   \n",
       "\n",
       "                                                                                                                                                                                                                                                                                                                                                                                                            comment  \\\n",
       "0                                                                                                                                                                                                                                        I random pink clot discharge come scared implantation bleed instance pregnancy    second stop bad idea come    minute later doubt pregnancy precum scared sure period come   \n",
       "1                                                                                                                                                                                                                                                                                                                                                             I woman post love picnic bookstore date man post want   \n",
       "3                                                                                                                                                                                                                                                                                                                                      recently talk ex lightly mention probably clue girlfriend actually look like   \n",
       "4                                                                                                                                                                                                                                                                                                                                                                                              crazy sexual fantasy   \n",
       "5                                                                                                                                                                                                                                                                                                                                                                                   prefer bland food seasoned food   \n",
       "6                                                                                                                                                                                                                                                                                                                                                                     I collect play doll know odd desire play doll   \n",
       "7                                                                                                                                                                                                                                                                                                                                                                                                            answer   \n",
       "8                    drink    month ago little drunk start stupid shit life mainly ignore work week begin join work conversation team day begin message slack leave town work week start monday morning office chat forth bit end exchange number share tea member team flirt non stop blatantly state appreciate intimidate I want plan hang week leave utterly confused    month feel like elaborate prank happen   \n",
       "9   kind long bear perspective today start good boss bad mood start unload truck cheer man friday polite way start stupid know feel happy friday okay continue work later start fucking end different different like different different technically point aggravate stick rest day feel kind hurt mean tell different mean way fast forward end day lock store shut light ask lock door yes scream I long hey l...   \n",
       "11                          awkward situation use live dude usually wear bras leave house find constrict uncomfortable wear bras usually soon home thing gay dude long term boyfriend chance perve I worried feel like rude uncomfortable dress properly proper polite worry feel weird bra relatively big boob definitely noticeable wear bra wear sport bras moment tight uncomfy support guy think wear bra wear   \n",
       "\n",
       "    real  predicted  \n",
       "0      0          0  \n",
       "1      1          1  \n",
       "3      1          1  \n",
       "4      0          0  \n",
       "5      0          0  \n",
       "6      0          0  \n",
       "7      0          0  \n",
       "8      1          1  \n",
       "9      1          1  \n",
       "11     0          0  "
      ]
     },
     "execution_count": 830,
     "metadata": {},
     "output_type": "execute_result"
    }
   ],
   "source": [
    "predicted_ada_match=predicted_ada[predicted_ada[\"real\"]==predicted_ada[\"predicted\"]]\n",
    "predicted_ada_match.head(10)"
   ]
  },
  {
   "cell_type": "markdown",
   "metadata": {},
   "source": [
    "----"
   ]
  },
  {
   "cell_type": "markdown",
   "metadata": {},
   "source": [
    "Almost all models from which we are able to get features importance, used same or similar words to classify. Noticable, that almost all matched submissions contain specific and unusual words, slang etc. And mismatches are more likely to be written in formal and neutral tone. That could explain, why models could'n classify them correctly. This could correlate with emotional content of submission, let's check that."
   ]
  },
  {
   "cell_type": "markdown",
   "metadata": {},
   "source": [
    "##### Final Results Mismatch Sentiment Check"
   ]
  },
  {
   "cell_type": "code",
   "execution_count": 1116,
   "metadata": {},
   "outputs": [],
   "source": [
    "sent= SentimentIntensityAnalyzer()\n",
    "def check_sentiment(df_match):\n",
    "    result=[]\n",
    "    for mcomment in df_match[\"comment\"]:    \n",
    "        score=sent.polarity_scores(mcomment)        \n",
    "        result.append(score['compound'])\n",
    "    return np.mean(result)"
   ]
  },
  {
   "cell_type": "markdown",
   "metadata": {},
   "source": [
    "Let's check is there any difference of sentiment score in matches and mismatches"
   ]
  },
  {
   "cell_type": "code",
   "execution_count": 1123,
   "metadata": {},
   "outputs": [
    {
     "name": "stdout",
     "output_type": "stream",
     "text": [
      "Logistic Regression Mismatch Sentiment Score: 0.2715066666666667\n",
      "Logistic Regression Match Sentiment Score: 0.24303338557993734\n"
     ]
    }
   ],
   "source": [
    "\n",
    "print(f\"Logistic Regression Mismatch Sentiment Score: {check_sentiment(predicted_log_reg_mismatch)}\")\n",
    "print(f\"Logistic Regression Match Sentiment Score: {check_sentiment(predicted_log_reg_match)}\")\n"
   ]
  },
  {
   "cell_type": "code",
   "execution_count": 1124,
   "metadata": {},
   "outputs": [
    {
     "name": "stdout",
     "output_type": "stream",
     "text": [
      "Naive Bayes Mismatch Sentiment Score: 0.2511284974093264\n",
      "Naive Bayes Match Sentiment Score: 0.25507926634768746\n"
     ]
    }
   ],
   "source": [
    "print(f\"Naive Bayes Mismatch Sentiment Score: {check_sentiment(predicted_nb_mismatch)}\")\n",
    "print(f\"Naive Bayes Match Sentiment Score: {check_sentiment(predicted_nb_match)}\")"
   ]
  },
  {
   "cell_type": "code",
   "execution_count": 1125,
   "metadata": {},
   "outputs": [
    {
     "name": "stdout",
     "output_type": "stream",
     "text": [
      "Decision Tree Mismatch Sentiment Score: 0.22099362745098042\n",
      "Decision Tree Match Sentiment Score: 0.27554528925619837\n"
     ]
    }
   ],
   "source": [
    "print(f\"Decision Tree Mismatch Sentiment Score: {check_sentiment(predicted_dt_mismatch)}\")\n",
    "print(f\"Decision Tree Match Sentiment Score: {check_sentiment(predicted_dt_match)}\")"
   ]
  },
  {
   "cell_type": "code",
   "execution_count": 1128,
   "metadata": {},
   "outputs": [
    {
     "name": "stdout",
     "output_type": "stream",
     "text": [
      "Random Forest Mismatch Sentiment Score: 0.24288978494623661\n",
      "Random Forest Match Sentiment Score: 0.25977425897035883\n"
     ]
    }
   ],
   "source": [
    "print(f\"Random Forest Mismatch Sentiment Score: {check_sentiment(predicted_rf_mismatch)}\")\n",
    "print(f\"Random Forest Match Sentiment Score: {check_sentiment(predicted_rf_match)}\")"
   ]
  },
  {
   "cell_type": "code",
   "execution_count": 1122,
   "metadata": {},
   "outputs": [
    {
     "name": "stdout",
     "output_type": "stream",
     "text": [
      "AdaBoost Mismatch Sentiment Score: 0.2237896457765668\n",
      "AdaBoost Match Sentiment Score: 0.2704945820433437\n"
     ]
    }
   ],
   "source": [
    "print(f\"AdaBoost Mismatch Sentiment Score: {check_sentiment(predicted_ada_mismatch)}\")\n",
    "print(f\"AdaBoost Match Sentiment Score: {check_sentiment(predicted_ada_match)}\")\n"
   ]
  },
  {
   "cell_type": "code",
   "execution_count": 1254,
   "metadata": {},
   "outputs": [
    {
     "name": "stdout",
     "output_type": "stream",
     "text": [
      "StackedClassifier Mismatch Sentiment Score: 0.2552412568306011\n",
      "StackedClassifier Match Sentiment Score: 0.2526306027820711\n"
     ]
    }
   ],
   "source": [
    "print(f\"StackedClassifier Mismatch Sentiment Score: {check_sentiment(predicted_stack_mismatch)}\")\n",
    "print(f\"StackedClassifier Match Sentiment Score: {check_sentiment(predicted_stack_match)}\")\n"
   ]
  },
  {
   "cell_type": "markdown",
   "metadata": {},
   "source": [
    "Differences look random, so slang and unusual words should be the main reason."
   ]
  }
 ],
 "metadata": {
  "kernelspec": {
   "display_name": "Python 3.7.13 ('base')",
   "language": "python",
   "name": "python3"
  },
  "language_info": {
   "codemirror_mode": {
    "name": "ipython",
    "version": 3
   },
   "file_extension": ".py",
   "mimetype": "text/x-python",
   "name": "python",
   "nbconvert_exporter": "python",
   "pygments_lexer": "ipython3",
   "version": "3.7.13"
  },
  "orig_nbformat": 4,
  "vscode": {
   "interpreter": {
    "hash": "28603a003e0f3f16b61e11e8a1b17d48703271cacfa540e5bfac5b9de251aa54"
   }
  }
 },
 "nbformat": 4,
 "nbformat_minor": 2
}
