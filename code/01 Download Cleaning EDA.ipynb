{
 "cells": [
  {
   "cell_type": "code",
   "execution_count": 3,
   "metadata": {},
   "outputs": [],
   "source": [
    "#imports\n",
    "import pandas as pd\n",
    "import numpy as np\n",
    "import matplotlib.pyplot as plt\n",
    "import seaborn as sns\n",
    "\n",
    "from sklearn.feature_extraction.text import TfidfTransformer,CountVectorizer\n",
    "from nltk.corpus import stopwords\n",
    "import regex as re\n",
    "import requests\n",
    "from logging import raiseExceptions\n",
    "from nltk.sentiment.vader import SentimentIntensityAnalyzer\n",
    "import contractions\n",
    "import nltk\n",
    "from scipy import stats\n",
    "\n",
    "import time\n",
    "import spacy\n",
    "import spacy.cli\n",
    "\n",
    "pd.set_option('max_colwidth', 400)"
   ]
  },
  {
   "cell_type": "markdown",
   "metadata": {},
   "source": [
    "# Data Collection"
   ]
  },
  {
   "cell_type": "markdown",
   "metadata": {},
   "source": [
    "##### Get Submissions method"
   ]
  },
  {
   "cell_type": "code",
   "execution_count": 877,
   "metadata": {},
   "outputs": [],
   "source": [
    "def get_submission(theme, requests_amount):\n",
    "    list_submission=[]\n",
    "    counter=0\n",
    "    sum=0\n",
    "    for x in range(1,requests_amount+1):\n",
    "        url_topic_1=f\"https://api.pushshift.io/reddit/search/submission/?subreddit={theme}&fields=selftext,removed_by_category&size=100&before={counter}d\"\n",
    "        req_1=requests.get(url_topic_1)\n",
    "        #to avoid overrequesting API, code is waiting for a second after request\n",
    "        time.sleep(1)\n",
    "\n",
    "        if req_1.status_code==200:\n",
    "            counter+=1\n",
    "            sq=req_1.json()            \n",
    "            for x in sq[\"data\"]:\n",
    "                #I am checking \"removed by category\" field, to exclude spam and inappropriate posts, deleted by bot.\n",
    "                if \"removed_by_category\" not in x:\n",
    "                    list_submission.append(x[\"selftext\"])\n",
    "                    sum+=1                \n",
    "        else:\n",
    "            print(f\"There was a mistake {req_1.status_code}\")\n",
    "            return list_submission\n",
    "    print(f\"{sum} submissions downloaded\")       \n",
    "    return list_submission"
   ]
  },
  {
   "cell_type": "markdown",
   "metadata": {},
   "source": [
    "##### Get commentaries method"
   ]
  },
  {
   "cell_type": "code",
   "execution_count": 1086,
   "metadata": {},
   "outputs": [],
   "source": [
    "#processing url and getting list of comments\n",
    "\n",
    "def get_comment(theme,quant):\n",
    "    list_comments=[]\n",
    "    counter=0\n",
    "    for x in range(1,36,2):\n",
    "        url_topic_1=f\"https://api.pushshift.io/reddit/search/comment/?size={quant}&subreddit={theme}&before={x}d\"\n",
    "        req_1=requests.get(url_topic_1)\n",
    "        if counter%2==0:\n",
    "            #Waiting for a second each 2nd request\n",
    "            time.sleep(1)\n",
    "        if req_1.status_code==200:\n",
    "            counter+=1\n",
    "            sq=req_1.json()            \n",
    "            for x in sq[\"data\"]:\n",
    "                list_comments.append(x['body'])                \n",
    "        else:\n",
    "            return f\"Code was {req_1.status_code}\"\n",
    "    return list_comments"
   ]
  },
  {
   "cell_type": "markdown",
   "metadata": {},
   "source": [
    "##### Cleaning with RegExp"
   ]
  },
  {
   "cell_type": "code",
   "execution_count": 1869,
   "metadata": {},
   "outputs": [],
   "source": [
    "#using regexp to clean recieved comments\n",
    "def clean(sq):\n",
    "    sq=[x.lower() for x in sq if x.find(\"Your submission has been\")==-1] #drops posts of antispam bot\n",
    "    sq=[x.lower() for x in sq if x!=\"delete\"] # drops posts with \"delete\" in them\n",
    "    sq=[x.lower() for x in sq if x.find(\"title\")==-1] \n",
    "    sq=[re.sub(\"(https?:\\/\\/)?([\\da-z\\.-]+)\\.([a-z\\.]{2,6})([\\/\\w \\.-]*)\",\" \", x.lower()) for x in sq] #drops all links\n",
    "    sq=[re.sub(\"(.)\\1{2}\",\" \", x.lower()) for x in sq] # drops all words where 3 or more same letters are put together like \"aaaaand\", \"soooooo\"\n",
    "    sq=[re.sub(\"\\W+\",\" \", x.lower()) for x in sq] #drops all whitespace symbols like \\n \\t etc.\n",
    "    sq=[re.sub(\"\\w*\\d\\w*\",\" \", x.lower()) for x in sq] #drops all words with numbers in them \n",
    "    sq=[re.sub(\"\\s[a-z]{1,2}\\s\",\" \", x.lower()) for x in sq] #drops all two letter words, because almost all of them are Stop-words\n",
    "    sq=[re.sub(\"\\s[a-z]{1,1}\\s\",\" \", x.lower()) for x in sq] #drops all one letter words,for some reason previous regex left some of those\n",
    "    sq=[re.sub(\"^i+(?!$)\",\" \", x.lower()) for x in sq] #drops fist letter if it is i\n",
    "    sq=[x.lower().strip() for x in sq if x.find(\"removed\")==-1] #drops \"removed\" comments, sent by api \n",
    "    sq=[re.sub(\"^m+(?!$)\",\" \", x.lower()) for x in sq] #drops fist letter if it is m\n",
    "    sq=set(sq) #Leaving only unique values\n",
    "\n",
    "    \n",
    "    return sq\n"
   ]
  },
  {
   "cell_type": "markdown",
   "metadata": {},
   "source": [
    "#### Downloading and cleaning commentaries"
   ]
  },
  {
   "cell_type": "code",
   "execution_count": 1088,
   "metadata": {},
   "outputs": [
    {
     "data": {
      "text/plain": [
       "2183"
      ]
     },
     "execution_count": 1088,
     "metadata": {},
     "output_type": "execute_result"
    }
   ],
   "source": [
    "AskMan_comment=get_comment(\"AskMen\",130)\n",
    "len(set(AskMan_comment))"
   ]
  },
  {
   "cell_type": "code",
   "execution_count": 1089,
   "metadata": {},
   "outputs": [
    {
     "data": {
      "text/plain": [
       "2096"
      ]
     },
     "execution_count": 1089,
     "metadata": {},
     "output_type": "execute_result"
    }
   ],
   "source": [
    "AskWoman_comment=get_comment(\"AskWomen\",130)\n",
    "len(set(AskWoman_comment))"
   ]
  },
  {
   "cell_type": "markdown",
   "metadata": {},
   "source": [
    "##### Adding columns for classification and saving dataset"
   ]
  },
  {
   "cell_type": "code",
   "execution_count": 1104,
   "metadata": {},
   "outputs": [],
   "source": [
    "AskMan_comment=clean(set(AskMan_comment))\n",
    "AskMan_comment_df=pd.DataFrame(AskMan_comment)\n",
    "AskMan_comment_df['sex']=1\n",
    "AskMan_comment_df.columns=[\"comment\",'sex']\n",
    "\n",
    "AskWoman_comment=clean(set(AskWoman_comment))\n",
    "AskWoman_comment_df=pd.DataFrame(AskWoman_comment)\n",
    "AskWoman_comment_df['sex']=0\n",
    "AskWoman_comment_df.columns=[\"comment\",'sex']\n",
    "\n",
    "AskMan_comment_df.shape, AskWoman_comment_df.shape"
   ]
  },
  {
   "cell_type": "code",
   "execution_count": null,
   "metadata": {},
   "outputs": [],
   "source": [
    "final_comment_df=pd.concat([AskMan_comment_df,AskWoman_comment_df])\n",
    "final_comment_df.reset_index(inplace=True,drop=True)\n",
    "final_comment_df\n",
    "\n",
    "final_comment_df.to_csv('../data/df_comments.csv',index=False)"
   ]
  },
  {
   "cell_type": "markdown",
   "metadata": {},
   "source": [
    "----"
   ]
  },
  {
   "cell_type": "markdown",
   "metadata": {},
   "source": [
    "#### Downloading Submissions"
   ]
  },
  {
   "cell_type": "code",
   "execution_count": 839,
   "metadata": {},
   "outputs": [
    {
     "name": "stdout",
     "output_type": "stream",
     "text": [
      "5335 submissions downloaded\n"
     ]
    }
   ],
   "source": [
    "AskMan=get_submission(\"AskMen\",130)\n"
   ]
  },
  {
   "cell_type": "code",
   "execution_count": 840,
   "metadata": {},
   "outputs": [
    {
     "data": {
      "text/plain": [
       "2682"
      ]
     },
     "execution_count": 840,
     "metadata": {},
     "output_type": "execute_result"
    }
   ],
   "source": [
    "len(set(AskMan))"
   ]
  },
  {
   "cell_type": "code",
   "execution_count": 842,
   "metadata": {},
   "outputs": [
    {
     "name": "stdout",
     "output_type": "stream",
     "text": [
      "5665 submissions downloaded\n"
     ]
    },
    {
     "data": {
      "text/plain": [
       "2080"
      ]
     },
     "execution_count": 842,
     "metadata": {},
     "output_type": "execute_result"
    }
   ],
   "source": [
    "AskWoman=get_submission(\"AskWomen\",130)\n",
    "len(set(AskWoman))\n"
   ]
  },
  {
   "cell_type": "code",
   "execution_count": 1870,
   "metadata": {},
   "outputs": [
    {
     "name": "stdout",
     "output_type": "stream",
     "text": [
      "Unique AskMan comments:  2599\n",
      "Unique AskWoman comments: 2017\n"
     ]
    }
   ],
   "source": [
    "c_ask_man=clean(AskMan)\n",
    "c_ask_woman=clean(AskWoman)\n",
    "print(f\"Unique AskMan comments:  {len(c_ask_man)}\")\n",
    "print(f\"Unique AskWoman comments: {len(c_ask_woman)}\")"
   ]
  },
  {
   "cell_type": "markdown",
   "metadata": {},
   "source": [
    "##### Adding target column for future classification"
   ]
  },
  {
   "cell_type": "code",
   "execution_count": 1871,
   "metadata": {},
   "outputs": [
    {
     "data": {
      "text/html": [
       "<div>\n",
       "<style scoped>\n",
       "    .dataframe tbody tr th:only-of-type {\n",
       "        vertical-align: middle;\n",
       "    }\n",
       "\n",
       "    .dataframe tbody tr th {\n",
       "        vertical-align: top;\n",
       "    }\n",
       "\n",
       "    .dataframe thead th {\n",
       "        text-align: right;\n",
       "    }\n",
       "</style>\n",
       "<table border=\"1\" class=\"dataframe\">\n",
       "  <thead>\n",
       "    <tr style=\"text-align: right;\">\n",
       "      <th></th>\n",
       "      <th>comment</th>\n",
       "      <th>sex</th>\n",
       "    </tr>\n",
       "  </thead>\n",
       "  <tbody>\n",
       "    <tr>\n",
       "      <th>1</th>\n",
       "      <td>every time tried get into relationship become disinterested the last second</td>\n",
       "      <td>1</td>\n",
       "    </tr>\n",
       "    <tr>\n",
       "      <th>2</th>\n",
       "      <td>have big crush her and she has boyfriend have one hand holding so afraid she gonna see what</td>\n",
       "      <td>1</td>\n",
       "    </tr>\n",
       "    <tr>\n",
       "      <th>3</th>\n",
       "      <td>with men that manipulate and gaslight girl what are your core intentions you even like the girl going through all that why can you just leave her alone are you even aware doing thanks</td>\n",
       "      <td>1</td>\n",
       "    </tr>\n",
       "    <tr>\n",
       "      <th>4</th>\n",
       "      <td>real examples hey council pick is friday will you home help move the bed frame the sidewalk not ll have switch shift also dinner plans steak pasta at the shops now male housemate steak sounds good sends meme first hey ll there   when you clock off work also idk we should still invite   given what happened tuesday might awks have friend   amp   ironed things out male friend haha sends meme back...</td>\n",
       "      <td>1</td>\n",
       "    </tr>\n",
       "    <tr>\n",
       "      <th>5</th>\n",
       "      <td>ok this situation happens lot where you are sitting with your friend and his friend and then friend leaves and now you both are just sitting there and one talking and just very awkward</td>\n",
       "      <td>1</td>\n",
       "    </tr>\n",
       "    <tr>\n",
       "      <th>...</th>\n",
       "      <td>...</td>\n",
       "      <td>...</td>\n",
       "    </tr>\n",
       "    <tr>\n",
       "      <th>2594</th>\n",
       "      <td>so for context ve been an off and relationship for very long time during all off times both were single broke all off our relationship and friendship like about half year ago and took like solid     months get over her lately ve been feeling that miss her but pretty sure don really miss her more than that just miss the idea us and being relationship and love hope everything ve just said makes ...</td>\n",
       "      <td>1</td>\n",
       "    </tr>\n",
       "    <tr>\n",
       "      <th>2595</th>\n",
       "      <td>guy who had drinks some ocassion past relatives would ask to drink eventhough was just kid know that immoral anyways also that time used think cool after that used drink from dad bottle that used hide like once year   and didn taste good all used drink feel intoxicated fast forward present drink again from his bottle yesterday and found still don like taste all hence ve always wondered that pe...</td>\n",
       "      <td>1</td>\n",
       "    </tr>\n",
       "    <tr>\n",
       "      <th>2596</th>\n",
       "      <td>let say you physically remain the same you are now and won age you live the age   what would you within that time the average person lives the age   and seems never has time do all the things one wants do however you could live for the next   years what sort things would you</td>\n",
       "      <td>1</td>\n",
       "    </tr>\n",
       "    <tr>\n",
       "      <th>2597</th>\n",
       "      <td>probably bought over   through the years where the heck they all</td>\n",
       "      <td>1</td>\n",
       "    </tr>\n",
       "    <tr>\n",
       "      <th>2598</th>\n",
       "      <td>another take previous post about big peens currently about   inches when excited have experience but still have confidence issues what are the positives upsides having small peen</td>\n",
       "      <td>1</td>\n",
       "    </tr>\n",
       "  </tbody>\n",
       "</table>\n",
       "<p>2598 rows × 2 columns</p>\n",
       "</div>"
      ],
      "text/plain": [
       "                                                                                                                                                                                                                                                                                                                                                                                                              comment  \\\n",
       "1                                                                                                                                                                                                                                                                                                                                         every time tried get into relationship become disinterested the last second   \n",
       "2                                                                                                                                                                                                                                                                                                                         have big crush her and she has boyfriend have one hand holding so afraid she gonna see what   \n",
       "3                                                                                                                                                                                                                             with men that manipulate and gaslight girl what are your core intentions you even like the girl going through all that why can you just leave her alone are you even aware doing thanks   \n",
       "4     real examples hey council pick is friday will you home help move the bed frame the sidewalk not ll have switch shift also dinner plans steak pasta at the shops now male housemate steak sounds good sends meme first hey ll there   when you clock off work also idk we should still invite   given what happened tuesday might awks have friend   amp   ironed things out male friend haha sends meme back...   \n",
       "5                                                                                                                                                                                                                            ok this situation happens lot where you are sitting with your friend and his friend and then friend leaves and now you both are just sitting there and one talking and just very awkward   \n",
       "...                                                                                                                                                                                                                                                                                                                                                                                                               ...   \n",
       "2594  so for context ve been an off and relationship for very long time during all off times both were single broke all off our relationship and friendship like about half year ago and took like solid     months get over her lately ve been feeling that miss her but pretty sure don really miss her more than that just miss the idea us and being relationship and love hope everything ve just said makes ...   \n",
       "2595  guy who had drinks some ocassion past relatives would ask to drink eventhough was just kid know that immoral anyways also that time used think cool after that used drink from dad bottle that used hide like once year   and didn taste good all used drink feel intoxicated fast forward present drink again from his bottle yesterday and found still don like taste all hence ve always wondered that pe...   \n",
       "2596                                                                                                                              let say you physically remain the same you are now and won age you live the age   what would you within that time the average person lives the age   and seems never has time do all the things one wants do however you could live for the next   years what sort things would you   \n",
       "2597                                                                                                                                                                                                                                                                                                                                                 probably bought over   through the years where the heck they all   \n",
       "2598                                                                                                                                                                                                                               another take previous post about big peens currently about   inches when excited have experience but still have confidence issues what are the positives upsides having small peen   \n",
       "\n",
       "      sex  \n",
       "1       1  \n",
       "2       1  \n",
       "3       1  \n",
       "4       1  \n",
       "5       1  \n",
       "...   ...  \n",
       "2594    1  \n",
       "2595    1  \n",
       "2596    1  \n",
       "2597    1  \n",
       "2598    1  \n",
       "\n",
       "[2598 rows x 2 columns]"
      ]
     },
     "execution_count": 1871,
     "metadata": {},
     "output_type": "execute_result"
    }
   ],
   "source": [
    "df_cleaned_man=pd.DataFrame(data=c_ask_man)\n",
    "df_cleaned_man[\"sex\"]=1\n",
    "df_cleaned_man.columns = [\"comment\",\"sex\"]\n",
    "df_cleaned_man=df_cleaned_man[df_cleaned_man[\"comment\"]!=\"\"]\n",
    "df_cleaned_man\n"
   ]
  },
  {
   "cell_type": "code",
   "execution_count": 1872,
   "metadata": {},
   "outputs": [
    {
     "data": {
      "text/html": [
       "<div>\n",
       "<style scoped>\n",
       "    .dataframe tbody tr th:only-of-type {\n",
       "        vertical-align: middle;\n",
       "    }\n",
       "\n",
       "    .dataframe tbody tr th {\n",
       "        vertical-align: top;\n",
       "    }\n",
       "\n",
       "    .dataframe thead th {\n",
       "        text-align: right;\n",
       "    }\n",
       "</style>\n",
       "<table border=\"1\" class=\"dataframe\">\n",
       "  <thead>\n",
       "    <tr style=\"text-align: right;\">\n",
       "      <th></th>\n",
       "      <th>comment</th>\n",
       "      <th>sex</th>\n",
       "    </tr>\n",
       "  </thead>\n",
       "  <tbody>\n",
       "    <tr>\n",
       "      <th>1</th>\n",
       "      <td>watching the rise skywalker tv wife said star wars guy thing and   women don like said there are lot women that like</td>\n",
       "      <td>0</td>\n",
       "    </tr>\n",
       "    <tr>\n",
       "      <th>2</th>\n",
       "      <td>nterested send message looking for sine one quick</td>\n",
       "      <td>0</td>\n",
       "    </tr>\n",
       "    <tr>\n",
       "      <th>3</th>\n",
       "      <td>hello new here and would like make new friends and just have conversations ️ ️</td>\n",
       "      <td>0</td>\n",
       "    </tr>\n",
       "    <tr>\n",
       "      <th>4</th>\n",
       "      <td>something the heart your identity maybe quiet secret you wish someone else could recognize for what is show yourself some love and self appreciation today</td>\n",
       "      <td>0</td>\n",
       "    </tr>\n",
       "    <tr>\n",
       "      <th>5</th>\n",
       "      <td>ok my   daughter   having sleep over this weekend she asked to buy the facemasks facials that always get her she wants do them with the girls heres the problem they are the charcoal masks its say yes tomatoes charcoal mask she likes them because they peel off and its cool initially thought was problem but with how things are nowadays don know are very pale blondes and most the girls are white ...</td>\n",
       "      <td>0</td>\n",
       "    </tr>\n",
       "    <tr>\n",
       "      <th>...</th>\n",
       "      <td>...</td>\n",
       "      <td>...</td>\n",
       "    </tr>\n",
       "    <tr>\n",
       "      <th>2012</th>\n",
       "      <td>have you ever encountered any issues</td>\n",
       "      <td>0</td>\n",
       "    </tr>\n",
       "    <tr>\n",
       "      <th>2013</th>\n",
       "      <td>what you think about the thing where the person holds your face between their hands when they kiss you this supposed be super hot super romantic whatever just wondering what every one thinks</td>\n",
       "      <td>0</td>\n",
       "    </tr>\n",
       "    <tr>\n",
       "      <th>2014</th>\n",
       "      <td>usually just listen some music watch movie</td>\n",
       "      <td>0</td>\n",
       "    </tr>\n",
       "    <tr>\n",
       "      <th>2015</th>\n",
       "      <td>comment your to hookup outfits</td>\n",
       "      <td>0</td>\n",
       "    </tr>\n",
       "    <tr>\n",
       "      <th>2016</th>\n",
       "      <td>do contraceptives make women feel like trash something</td>\n",
       "      <td>0</td>\n",
       "    </tr>\n",
       "  </tbody>\n",
       "</table>\n",
       "<p>2016 rows × 2 columns</p>\n",
       "</div>"
      ],
      "text/plain": [
       "                                                                                                                                                                                                                                                                                                                                                                                                              comment  \\\n",
       "1                                                                                                                                                                                                                                                                                                watching the rise skywalker tv wife said star wars guy thing and   women don like said there are lot women that like   \n",
       "2                                                                                                                                                                                                                                                                                                                                                                   nterested send message looking for sine one quick   \n",
       "3                                                                                                                                                                                                                                                                                                                                      hello new here and would like make new friends and just have conversations ️ ️   \n",
       "4                                                                                                                                                                                                                                                          something the heart your identity maybe quiet secret you wish someone else could recognize for what is show yourself some love and self appreciation today   \n",
       "5     ok my   daughter   having sleep over this weekend she asked to buy the facemasks facials that always get her she wants do them with the girls heres the problem they are the charcoal masks its say yes tomatoes charcoal mask she likes them because they peel off and its cool initially thought was problem but with how things are nowadays don know are very pale blondes and most the girls are white ...   \n",
       "...                                                                                                                                                                                                                                                                                                                                                                                                               ...   \n",
       "2012                                                                                                                                                                                                                                                                                                                                                                             have you ever encountered any issues   \n",
       "2013                                                                                                                                                                                                                   what you think about the thing where the person holds your face between their hands when they kiss you this supposed be super hot super romantic whatever just wondering what every one thinks   \n",
       "2014                                                                                                                                                                                                                                                                                                                                                                       usually just listen some music watch movie   \n",
       "2015                                                                                                                                                                                                                                                                                                                                                                                   comment your to hookup outfits   \n",
       "2016                                                                                                                                                                                                                                                                                                                                                           do contraceptives make women feel like trash something   \n",
       "\n",
       "     sex  \n",
       "1      0  \n",
       "2      0  \n",
       "3      0  \n",
       "4      0  \n",
       "5      0  \n",
       "...   ..  \n",
       "2012   0  \n",
       "2013   0  \n",
       "2014   0  \n",
       "2015   0  \n",
       "2016   0  \n",
       "\n",
       "[2016 rows x 2 columns]"
      ]
     },
     "execution_count": 1872,
     "metadata": {},
     "output_type": "execute_result"
    }
   ],
   "source": [
    "df_cleaned_woman=pd.DataFrame(data=c_ask_woman)\n",
    "df_cleaned_woman[\"sex\"]=\"0\"\n",
    "df_cleaned_woman.columns = [\"comment\",\"sex\"]\n",
    "df_cleaned_woman=df_cleaned_woman[df_cleaned_woman[\"comment\"]!=\"\"]\n",
    "df_cleaned_woman"
   ]
  },
  {
   "cell_type": "markdown",
   "metadata": {},
   "source": [
    "##### Concatenating final united dataframe"
   ]
  },
  {
   "cell_type": "code",
   "execution_count": 1873,
   "metadata": {},
   "outputs": [],
   "source": [
    "final_df=pd.concat([df_cleaned_man[:2056],df_cleaned_woman[:]],ignore_index=True)"
   ]
  },
  {
   "cell_type": "code",
   "execution_count": 1874,
   "metadata": {},
   "outputs": [
    {
     "data": {
      "text/plain": [
       "(4072, 2)"
      ]
     },
     "execution_count": 1874,
     "metadata": {},
     "output_type": "execute_result"
    }
   ],
   "source": [
    "final_df.shape"
   ]
  },
  {
   "cell_type": "code",
   "execution_count": 1875,
   "metadata": {},
   "outputs": [
    {
     "data": {
      "text/html": [
       "<div>\n",
       "<style scoped>\n",
       "    .dataframe tbody tr th:only-of-type {\n",
       "        vertical-align: middle;\n",
       "    }\n",
       "\n",
       "    .dataframe tbody tr th {\n",
       "        vertical-align: top;\n",
       "    }\n",
       "\n",
       "    .dataframe thead th {\n",
       "        text-align: right;\n",
       "    }\n",
       "</style>\n",
       "<table border=\"1\" class=\"dataframe\">\n",
       "  <thead>\n",
       "    <tr style=\"text-align: right;\">\n",
       "      <th></th>\n",
       "      <th>comment</th>\n",
       "      <th>sex</th>\n",
       "    </tr>\n",
       "  </thead>\n",
       "  <tbody>\n",
       "    <tr>\n",
       "      <th>0</th>\n",
       "      <td>every time tried get into relationship become disinterested the last second</td>\n",
       "      <td>1</td>\n",
       "    </tr>\n",
       "    <tr>\n",
       "      <th>1</th>\n",
       "      <td>have big crush her and she has boyfriend have one hand holding so afraid she gonna see what</td>\n",
       "      <td>1</td>\n",
       "    </tr>\n",
       "    <tr>\n",
       "      <th>2</th>\n",
       "      <td>with men that manipulate and gaslight girl what are your core intentions you even like the girl going through all that why can you just leave her alone are you even aware doing thanks</td>\n",
       "      <td>1</td>\n",
       "    </tr>\n",
       "    <tr>\n",
       "      <th>3</th>\n",
       "      <td>real examples hey council pick is friday will you home help move the bed frame the sidewalk not ll have switch shift also dinner plans steak pasta at the shops now male housemate steak sounds good sends meme first hey ll there   when you clock off work also idk we should still invite   given what happened tuesday might awks have friend   amp   ironed things out male friend haha sends meme back...</td>\n",
       "      <td>1</td>\n",
       "    </tr>\n",
       "    <tr>\n",
       "      <th>4</th>\n",
       "      <td>ok this situation happens lot where you are sitting with your friend and his friend and then friend leaves and now you both are just sitting there and one talking and just very awkward</td>\n",
       "      <td>1</td>\n",
       "    </tr>\n",
       "  </tbody>\n",
       "</table>\n",
       "</div>"
      ],
      "text/plain": [
       "                                                                                                                                                                                                                                                                                                                                                                                                           comment  \\\n",
       "0                                                                                                                                                                                                                                                                                                                                      every time tried get into relationship become disinterested the last second   \n",
       "1                                                                                                                                                                                                                                                                                                                      have big crush her and she has boyfriend have one hand holding so afraid she gonna see what   \n",
       "2                                                                                                                                                                                                                          with men that manipulate and gaslight girl what are your core intentions you even like the girl going through all that why can you just leave her alone are you even aware doing thanks   \n",
       "3  real examples hey council pick is friday will you home help move the bed frame the sidewalk not ll have switch shift also dinner plans steak pasta at the shops now male housemate steak sounds good sends meme first hey ll there   when you clock off work also idk we should still invite   given what happened tuesday might awks have friend   amp   ironed things out male friend haha sends meme back...   \n",
       "4                                                                                                                                                                                                                         ok this situation happens lot where you are sitting with your friend and his friend and then friend leaves and now you both are just sitting there and one talking and just very awkward   \n",
       "\n",
       "  sex  \n",
       "0   1  \n",
       "1   1  \n",
       "2   1  \n",
       "3   1  \n",
       "4   1  "
      ]
     },
     "execution_count": 1875,
     "metadata": {},
     "output_type": "execute_result"
    }
   ],
   "source": [
    "final_df.head()"
   ]
  },
  {
   "cell_type": "markdown",
   "metadata": {},
   "source": [
    "##### Checking for nulls and column types"
   ]
  },
  {
   "cell_type": "code",
   "execution_count": 1876,
   "metadata": {},
   "outputs": [
    {
     "data": {
      "text/plain": [
       "comment    0\n",
       "sex        0\n",
       "dtype: int64"
      ]
     },
     "execution_count": 1876,
     "metadata": {},
     "output_type": "execute_result"
    }
   ],
   "source": [
    "final_df.isnull().sum()"
   ]
  },
  {
   "cell_type": "code",
   "execution_count": 1877,
   "metadata": {},
   "outputs": [
    {
     "data": {
      "text/plain": [
       "comment    object\n",
       "sex        object\n",
       "dtype: object"
      ]
     },
     "execution_count": 1877,
     "metadata": {},
     "output_type": "execute_result"
    }
   ],
   "source": [
    "final_df.dtypes"
   ]
  },
  {
   "cell_type": "markdown",
   "metadata": {},
   "source": [
    "\"Sex\" column is binary and should be int."
   ]
  },
  {
   "cell_type": "code",
   "execution_count": 1878,
   "metadata": {},
   "outputs": [
    {
     "data": {
      "text/plain": [
       "comment    object\n",
       "sex         int64\n",
       "dtype: object"
      ]
     },
     "execution_count": 1878,
     "metadata": {},
     "output_type": "execute_result"
    }
   ],
   "source": [
    "final_df[\"sex\"]=final_df[\"sex\"].astype(int)\n",
    "final_df.dtypes"
   ]
  },
  {
   "cell_type": "code",
   "execution_count": 1980,
   "metadata": {},
   "outputs": [],
   "source": [
    "#saving file\n",
    "final_df.to_csv(\"../data/df_submissions_basic_clean.csv\",index=False)"
   ]
  },
  {
   "cell_type": "markdown",
   "metadata": {},
   "source": [
    "Code to restore dataframe without redownloading."
   ]
  },
  {
   "cell_type": "code",
   "execution_count": 4,
   "metadata": {},
   "outputs": [],
   "source": [
    "# final_df=pd.read_csv('../data/df_submissions_basic_clean.csv')"
   ]
  },
  {
   "cell_type": "markdown",
   "metadata": {},
   "source": [
    "----"
   ]
  },
  {
   "cell_type": "markdown",
   "metadata": {},
   "source": [
    "# EDA and Cleaning"
   ]
  },
  {
   "cell_type": "markdown",
   "metadata": {},
   "source": [
    "##### Expanding Contractions"
   ]
  },
  {
   "cell_type": "code",
   "execution_count": 6,
   "metadata": {},
   "outputs": [],
   "source": [
    "def expand(document):\n",
    "    result=\"\"\n",
    "    for word in document.split(\" \"):        \n",
    "        result+=contractions.fix(word)\n",
    "        result+=\" \"\n",
    "    return result.strip()"
   ]
  },
  {
   "cell_type": "code",
   "execution_count": 7,
   "metadata": {},
   "outputs": [],
   "source": [
    "final_df['comment']=final_df['comment'].apply(lambda x: expand(x))"
   ]
  },
  {
   "cell_type": "markdown",
   "metadata": {},
   "source": [
    "#### Processing with SpaCy "
   ]
  },
  {
   "cell_type": "markdown",
   "metadata": {},
   "source": [
    "(I didn't use pipelines, because I've used stages for modeling)"
   ]
  },
  {
   "cell_type": "code",
   "execution_count": null,
   "metadata": {},
   "outputs": [],
   "source": [
    "spacy.cli.download('en_core_web_md')\n",
    "nlp = spacy.load('en_core_web_md')"
   ]
  },
  {
   "cell_type": "markdown",
   "metadata": {},
   "source": [
    "Lemmatizing each word and dropping auxilary words"
   ]
  },
  {
   "cell_type": "code",
   "execution_count": 9,
   "metadata": {},
   "outputs": [],
   "source": [
    "def drop_aux(docs):\n",
    "    cleaned=\"\"\n",
    "    nlp_doc=nlp(docs)\n",
    "    for word in nlp_doc:\n",
    "        if word.pos_!=\"AUX\":\n",
    "            cleaned+=str(word.lemma_)\n",
    "            cleaned+=\" \"\n",
    "    return cleaned.strip()\n"
   ]
  },
  {
   "cell_type": "code",
   "execution_count": 11,
   "metadata": {},
   "outputs": [],
   "source": [
    "final_df['comment']=final_df[\"comment\"].apply(lambda x: drop_aux(x))\n",
    "final_df['comment']=final_df[\"comment\"].apply(lambda x: drop_aux(x))\n",
    "#Dropping all possible empty rows, which contained only aux\n",
    "final_df=final_df[final_df[\"comment\"]!=\"\"]"
   ]
  },
  {
   "cell_type": "markdown",
   "metadata": {},
   "source": [
    "----"
   ]
  },
  {
   "cell_type": "markdown",
   "metadata": {},
   "source": [
    "##### Check for Sentiment Scores"
   ]
  },
  {
   "cell_type": "code",
   "execution_count": 12,
   "metadata": {},
   "outputs": [],
   "source": [
    "sent= SentimentIntensityAnalyzer()"
   ]
  },
  {
   "cell_type": "markdown",
   "metadata": {},
   "source": [
    "AskMan submissions"
   ]
  },
  {
   "cell_type": "code",
   "execution_count": 15,
   "metadata": {},
   "outputs": [
    {
     "data": {
      "text/html": [
       "<div>\n",
       "<style scoped>\n",
       "    .dataframe tbody tr th:only-of-type {\n",
       "        vertical-align: middle;\n",
       "    }\n",
       "\n",
       "    .dataframe tbody tr th {\n",
       "        vertical-align: top;\n",
       "    }\n",
       "\n",
       "    .dataframe thead th {\n",
       "        text-align: right;\n",
       "    }\n",
       "</style>\n",
       "<table border=\"1\" class=\"dataframe\">\n",
       "  <thead>\n",
       "    <tr style=\"text-align: right;\">\n",
       "      <th></th>\n",
       "      <th>comment</th>\n",
       "      <th>score</th>\n",
       "    </tr>\n",
       "  </thead>\n",
       "  <tbody>\n",
       "    <tr>\n",
       "      <th>85</th>\n",
       "      <td>worry that just deny because feel ashamed think lose this isn the case honest don have issue he want sleep with other girl understand some people just like that and want he happy use have issue with as lie I when find out hit this other woman while say want exclusive but don anymore however have issue with dishonesty also portray lot thing differently the begin our relationship like how strong...</td>\n",
       "      <td>0.9990</td>\n",
       "    </tr>\n",
       "    <tr>\n",
       "      <th>1597</th>\n",
       "      <td>a couple month ago one my friend call her tayla that in long term relationship mention one her guy friend call he she grow with single and she and her partner set up with he she show photo but say say sleep with another one our friend within the group call she jess back when they high school high school good        year ago for but still uninterested see another guy fast forward this past sund...</td>\n",
       "      <td>0.9986</td>\n",
       "    </tr>\n",
       "    <tr>\n",
       "      <th>1205</th>\n",
       "      <td>so        uni the group people talk about all live dorm campus re great group friend        close friend guy and girl who somewhat interested but the less funny less attractive less interesting person she not interested I back accept the fate friendship which isn too bad itself but the guy interest she for quite some time and actively persue something out it and definitely have well chance tha...</td>\n",
       "      <td>0.9978</td>\n",
       "    </tr>\n",
       "    <tr>\n",
       "      <th>1351</th>\n",
       "      <td>so let start with little background work for company that around for        year the guy that start the company start from the ground and build into company with over two hundred employee still the manager and there everyday for least ten hour the most inspiring passionate man ever know work there for        year and develop very close friendship with the guy close that his wife plan his last ...</td>\n",
       "      <td>0.9977</td>\n",
       "    </tr>\n",
       "    <tr>\n",
       "      <th>546</th>\n",
       "      <td>first all great advice here and thank all date this girl for few date and far not go far than make out the advice people give here increase sexual inuendo and sexual tension work great general for with woman the past but not effective with this woman for example have inside joke where make bet and the loser dance like music video routine for the other person really just joke and not actually g...</td>\n",
       "      <td>0.9976</td>\n",
       "    </tr>\n",
       "    <tr>\n",
       "      <th>...</th>\n",
       "      <td>...</td>\n",
       "      <td>...</td>\n",
       "    </tr>\n",
       "    <tr>\n",
       "      <th>818</th>\n",
       "      <td>hi man reddit over the last year make conscious effort become assertive after many year poor treatment from various people my life take boxing practice strong eye contact quick make complaint about bad service etc long way go but slowly feel myself become less pushover and think people general little nice I maybe carry myself differently not know but something work however recent time develop ...</td>\n",
       "      <td>-0.9848</td>\n",
       "    </tr>\n",
       "    <tr>\n",
       "      <th>125</th>\n",
       "      <td>scenario you just get home after work and around midnight you tired but suddenly you hear your daughter son scream for help louder than you ever think possible and you run their bedroom where they asleep but the time you get there they dead the murderer stand above they hold the murder weapon you happen hold gun how you react for extra context you know for fact that this your fault because the...</td>\n",
       "      <td>-0.9870</td>\n",
       "    </tr>\n",
       "    <tr>\n",
       "      <th>1096</th>\n",
       "      <td>have reason shit myself but sleep anymore just workout exhaustion but still every night when fall my bed fall this horrible fear afraid suffering violence some hipotical injustice some lovedone suffer mess for reason this happen frequently for almost        year but have memory teenager and just whacthe on because afraid talk my girlfriend but she understand what say dad say normal for some ti...</td>\n",
       "      <td>-0.9936</td>\n",
       "    </tr>\n",
       "    <tr>\n",
       "      <th>482</th>\n",
       "      <td>oh boy here go maybe some background about help raise my single mother alongside two eld sister didn have necessarily bad relationship with father grow we just weren close matter how much mother spend time together when get my late teen decide stop see he and put the effort because never reach out I and never seem care that much but like say the relationship wasn that bad just didn bond and do...</td>\n",
       "      <td>-0.9942</td>\n",
       "    </tr>\n",
       "    <tr>\n",
       "      <th>1536</th>\n",
       "      <td>realize not treat right my relationship and like you all opinion of these thing abusive wrong physical pain pull hair my leg head etc the main one happen almost every day slap the face not often but happen multiple time punch the back few day ago pinch she get into mood where for like hour she really mean I and point out all my flaw and everything wrong the house and its fault that she mean I ...</td>\n",
       "      <td>-0.9969</td>\n",
       "    </tr>\n",
       "  </tbody>\n",
       "</table>\n",
       "<p>2056 rows × 2 columns</p>\n",
       "</div>"
      ],
      "text/plain": [
       "                                                                                                                                                                                                                                                                                                                                                                                                              comment  \\\n",
       "85    worry that just deny because feel ashamed think lose this isn the case honest don have issue he want sleep with other girl understand some people just like that and want he happy use have issue with as lie I when find out hit this other woman while say want exclusive but don anymore however have issue with dishonesty also portray lot thing differently the begin our relationship like how strong...   \n",
       "1597  a couple month ago one my friend call her tayla that in long term relationship mention one her guy friend call he she grow with single and she and her partner set up with he she show photo but say say sleep with another one our friend within the group call she jess back when they high school high school good        year ago for but still uninterested see another guy fast forward this past sund...   \n",
       "1205  so        uni the group people talk about all live dorm campus re great group friend        close friend guy and girl who somewhat interested but the less funny less attractive less interesting person she not interested I back accept the fate friendship which isn too bad itself but the guy interest she for quite some time and actively persue something out it and definitely have well chance tha...   \n",
       "1351  so let start with little background work for company that around for        year the guy that start the company start from the ground and build into company with over two hundred employee still the manager and there everyday for least ten hour the most inspiring passionate man ever know work there for        year and develop very close friendship with the guy close that his wife plan his last ...   \n",
       "546   first all great advice here and thank all date this girl for few date and far not go far than make out the advice people give here increase sexual inuendo and sexual tension work great general for with woman the past but not effective with this woman for example have inside joke where make bet and the loser dance like music video routine for the other person really just joke and not actually g...   \n",
       "...                                                                                                                                                                                                                                                                                                                                                                                                               ...   \n",
       "818   hi man reddit over the last year make conscious effort become assertive after many year poor treatment from various people my life take boxing practice strong eye contact quick make complaint about bad service etc long way go but slowly feel myself become less pushover and think people general little nice I maybe carry myself differently not know but something work however recent time develop ...   \n",
       "125   scenario you just get home after work and around midnight you tired but suddenly you hear your daughter son scream for help louder than you ever think possible and you run their bedroom where they asleep but the time you get there they dead the murderer stand above they hold the murder weapon you happen hold gun how you react for extra context you know for fact that this your fault because the...   \n",
       "1096  have reason shit myself but sleep anymore just workout exhaustion but still every night when fall my bed fall this horrible fear afraid suffering violence some hipotical injustice some lovedone suffer mess for reason this happen frequently for almost        year but have memory teenager and just whacthe on because afraid talk my girlfriend but she understand what say dad say normal for some ti...   \n",
       "482   oh boy here go maybe some background about help raise my single mother alongside two eld sister didn have necessarily bad relationship with father grow we just weren close matter how much mother spend time together when get my late teen decide stop see he and put the effort because never reach out I and never seem care that much but like say the relationship wasn that bad just didn bond and do...   \n",
       "1536  realize not treat right my relationship and like you all opinion of these thing abusive wrong physical pain pull hair my leg head etc the main one happen almost every day slap the face not often but happen multiple time punch the back few day ago pinch she get into mood where for like hour she really mean I and point out all my flaw and everything wrong the house and its fault that she mean I ...   \n",
       "\n",
       "       score  \n",
       "85    0.9990  \n",
       "1597  0.9986  \n",
       "1205  0.9978  \n",
       "1351  0.9977  \n",
       "546   0.9976  \n",
       "...      ...  \n",
       "818  -0.9848  \n",
       "125  -0.9870  \n",
       "1096 -0.9936  \n",
       "482  -0.9942  \n",
       "1536 -0.9969  \n",
       "\n",
       "[2056 rows x 2 columns]"
      ]
     },
     "execution_count": 15,
     "metadata": {},
     "output_type": "execute_result"
    }
   ],
   "source": [
    "result=[]\n",
    "for mcomment in final_df[final_df[\"sex\"]==1][\"comment\"]:    \n",
    "    score=sent.polarity_scores(mcomment)\n",
    "    temp={\"comment\":mcomment,\"score\":score[\"compound\"]}\n",
    "    result.append(temp)\n",
    "    # df_man_sentiment.append(temp,ignore_index=True)\n",
    "df_man_sentiment=pd.DataFrame(data=result)\n",
    "\n",
    "df_man_sentiment.sort_values(by=[\"score\"],ascending=False)"
   ]
  },
  {
   "cell_type": "markdown",
   "metadata": {},
   "source": [
    "Plotting AskMan submission scores"
   ]
  },
  {
   "cell_type": "code",
   "execution_count": null,
   "metadata": {},
   "outputs": [
    {
     "data": {
      "text/plain": [
       "<Figure size 432x288 with 0 Axes>"
      ]
     },
     "metadata": {},
     "output_type": "display_data"
    },
    {
     "data": {
      "image/png": "[encoded data removed]",
      "text/plain": [
       "<Figure size 360x360 with 1 Axes>"
      ]
     },
     "metadata": {
      "needs_background": "light"
     },
     "output_type": "display_data"
    }
   ],
   "source": [
    "plt.tight_layout()\n",
    "sns.displot(df_man_sentiment.score, bins=20)\n",
    "plt.xlabel(\"Sentiment Score\", size=10)\n",
    "plt.ylabel(\"Count\", size=10)\n",
    "plt.axvline(x=df_man_sentiment.score.mean(),\n",
    "            color='red')\n",
    "plt.title(\"'AskMan' Sentiment Score Distribution\", size = 16)\n",
    "plt.savefig('../resources/AskManSantiment.png')\n"
   ]
  },
  {
   "cell_type": "markdown",
   "metadata": {},
   "source": [
    "AskWoman submissions"
   ]
  },
  {
   "cell_type": "code",
   "execution_count": 16,
   "metadata": {},
   "outputs": [
    {
     "data": {
      "text/html": [
       "<div>\n",
       "<style scoped>\n",
       "    .dataframe tbody tr th:only-of-type {\n",
       "        vertical-align: middle;\n",
       "    }\n",
       "\n",
       "    .dataframe tbody tr th {\n",
       "        vertical-align: top;\n",
       "    }\n",
       "\n",
       "    .dataframe thead th {\n",
       "        text-align: right;\n",
       "    }\n",
       "</style>\n",
       "<table border=\"1\" class=\"dataframe\">\n",
       "  <thead>\n",
       "    <tr style=\"text-align: right;\">\n",
       "      <th></th>\n",
       "      <th>comment</th>\n",
       "      <th>score</th>\n",
       "    </tr>\n",
       "  </thead>\n",
       "  <tbody>\n",
       "    <tr>\n",
       "      <th>1216</th>\n",
       "      <td>so this friend call her old friend and know each other since grade        even though didn really talk much until the start high school now re university different university by the way she and this other friend the two people mostly talk throughout high school meet another friend call she the new friend my last year high school and after few year know she she ask for number and that when real...</td>\n",
       "      <td>0.9993</td>\n",
       "    </tr>\n",
       "    <tr>\n",
       "      <th>1432</th>\n",
       "      <td>this get bit long but feel the detail important couple week ago this girl        match with        tinder she cute but not your stereotypical beauty someone that definitely my league she immediately comment how cute one my photo and after few text she ask to hang out later that night work early we end hang out but exchange handful more text that night and the next morning she ask hang out agai...</td>\n",
       "      <td>0.9988</td>\n",
       "    </tr>\n",
       "    <tr>\n",
       "      <th>45</th>\n",
       "      <td>this get bit long but feel the detail important couple week ago this girl        match with        tinder she cute but not your stereotypical beauty someone that definitely my league she immediately comment how cute one my photo and after few text she ask to hang out later that night work early we end hang out but exchange handful more text that night and the next morning she ask hang out agai...</td>\n",
       "      <td>0.9987</td>\n",
       "    </tr>\n",
       "    <tr>\n",
       "      <th>144</th>\n",
       "      <td>really random thought here but just wonder young woman myself        and just find that girl extremely rude and aggressive towards one another and not only that but also fake have few good friend that woman they cool and love they but sometimes their about        they attitude so nasty for reason ask one they simple question and she get irritated and nastywith that other friend decide step and...</td>\n",
       "      <td>0.9983</td>\n",
       "    </tr>\n",
       "    <tr>\n",
       "      <th>1935</th>\n",
       "      <td>for context friend and good friend since        grade now marry        husband        friend        visit from florida month after move california re still settle but think good idea come for his        which the time think too aslong have job well get that job and not the kind job just call off willy nilly just request off whenever express that since new job go to able take too much time off ...</td>\n",
       "      <td>0.9979</td>\n",
       "    </tr>\n",
       "    <tr>\n",
       "      <th>...</th>\n",
       "      <td>...</td>\n",
       "      <td>...</td>\n",
       "    </tr>\n",
       "    <tr>\n",
       "      <th>533</th>\n",
       "      <td>when have sex all she want for to fuck she and that it let finger she anything else literally just kiss and fuck honestly the bad sex ever        effort one side but because like she and ignore all not meet once through out the short relationship she odd thing like say fuck here outside and course that but then        second later bring something about she rape when ask she feel like she genui...</td>\n",
       "      <td>-0.9912</td>\n",
       "    </tr>\n",
       "    <tr>\n",
       "      <th>1307</th>\n",
       "      <td>to brother thank for home early and showering normally have very short        min time frame every weekday when home alone perfect time frame quickly shower put clean hygiene product and throw away the waste the garbage outside without someone hover over it plan plan all day didn want step outside room and mother I question every move and watch like hawk but you ruin think you have precious jo...</td>\n",
       "      <td>-0.9920</td>\n",
       "    </tr>\n",
       "    <tr>\n",
       "      <th>1927</th>\n",
       "      <td>don like passive aggressiveness none my friend passive aggressive the bad the friend that get her feeling little bit and have mood swing but mean husband friend marry passive aggressive mean girl she act like friend front other but she ignore roll her eye turn her back dish backhand comment husband friend enable the behavior and join with she she scheme new way bully so dread each time see she...</td>\n",
       "      <td>-0.9945</td>\n",
       "    </tr>\n",
       "    <tr>\n",
       "      <th>322</th>\n",
       "      <td>anyone else just get sick around your partner family feel terrible for say this but just want unbiased opinion his family big socializer his several auntie and mum drink regularly together and see each other every weekend don get wrong love close family bond but when they start drink they start talk shit about everyone and even between themselves almost contest between all they about their kid...</td>\n",
       "      <td>-0.9947</td>\n",
       "    </tr>\n",
       "    <tr>\n",
       "      <th>1810</th>\n",
       "      <td>talk this girl for little bit now she be friend now for long time very many year not like close like friendzone anything but recently kind start talk again recently out narcissistically abusive relationship end there decent chance this girl talk quite narcissist imagine the easy good way give you impression this new girl she kind like trailer park trashy loud fun around always talk about every...</td>\n",
       "      <td>-0.9951</td>\n",
       "    </tr>\n",
       "  </tbody>\n",
       "</table>\n",
       "<p>2016 rows × 2 columns</p>\n",
       "</div>"
      ],
      "text/plain": [
       "                                                                                                                                                                                                                                                                                                                                                                                                              comment  \\\n",
       "1216  so this friend call her old friend and know each other since grade        even though didn really talk much until the start high school now re university different university by the way she and this other friend the two people mostly talk throughout high school meet another friend call she the new friend my last year high school and after few year know she she ask for number and that when real...   \n",
       "1432  this get bit long but feel the detail important couple week ago this girl        match with        tinder she cute but not your stereotypical beauty someone that definitely my league she immediately comment how cute one my photo and after few text she ask to hang out later that night work early we end hang out but exchange handful more text that night and the next morning she ask hang out agai...   \n",
       "45    this get bit long but feel the detail important couple week ago this girl        match with        tinder she cute but not your stereotypical beauty someone that definitely my league she immediately comment how cute one my photo and after few text she ask to hang out later that night work early we end hang out but exchange handful more text that night and the next morning she ask hang out agai...   \n",
       "144   really random thought here but just wonder young woman myself        and just find that girl extremely rude and aggressive towards one another and not only that but also fake have few good friend that woman they cool and love they but sometimes their about        they attitude so nasty for reason ask one they simple question and she get irritated and nastywith that other friend decide step and...   \n",
       "1935  for context friend and good friend since        grade now marry        husband        friend        visit from florida month after move california re still settle but think good idea come for his        which the time think too aslong have job well get that job and not the kind job just call off willy nilly just request off whenever express that since new job go to able take too much time off ...   \n",
       "...                                                                                                                                                                                                                                                                                                                                                                                                               ...   \n",
       "533   when have sex all she want for to fuck she and that it let finger she anything else literally just kiss and fuck honestly the bad sex ever        effort one side but because like she and ignore all not meet once through out the short relationship she odd thing like say fuck here outside and course that but then        second later bring something about she rape when ask she feel like she genui...   \n",
       "1307  to brother thank for home early and showering normally have very short        min time frame every weekday when home alone perfect time frame quickly shower put clean hygiene product and throw away the waste the garbage outside without someone hover over it plan plan all day didn want step outside room and mother I question every move and watch like hawk but you ruin think you have precious jo...   \n",
       "1927  don like passive aggressiveness none my friend passive aggressive the bad the friend that get her feeling little bit and have mood swing but mean husband friend marry passive aggressive mean girl she act like friend front other but she ignore roll her eye turn her back dish backhand comment husband friend enable the behavior and join with she she scheme new way bully so dread each time see she...   \n",
       "322   anyone else just get sick around your partner family feel terrible for say this but just want unbiased opinion his family big socializer his several auntie and mum drink regularly together and see each other every weekend don get wrong love close family bond but when they start drink they start talk shit about everyone and even between themselves almost contest between all they about their kid...   \n",
       "1810  talk this girl for little bit now she be friend now for long time very many year not like close like friendzone anything but recently kind start talk again recently out narcissistically abusive relationship end there decent chance this girl talk quite narcissist imagine the easy good way give you impression this new girl she kind like trailer park trashy loud fun around always talk about every...   \n",
       "\n",
       "       score  \n",
       "1216  0.9993  \n",
       "1432  0.9988  \n",
       "45    0.9987  \n",
       "144   0.9983  \n",
       "1935  0.9979  \n",
       "...      ...  \n",
       "533  -0.9912  \n",
       "1307 -0.9920  \n",
       "1927 -0.9945  \n",
       "322  -0.9947  \n",
       "1810 -0.9951  \n",
       "\n",
       "[2016 rows x 2 columns]"
      ]
     },
     "execution_count": 16,
     "metadata": {},
     "output_type": "execute_result"
    }
   ],
   "source": [
    "result=[]\n",
    "\n",
    "for wcomment in final_df[final_df[\"sex\"]==0][\"comment\"]:    \n",
    "    score=sent.polarity_scores(wcomment)\n",
    "    temp={\"comment\":wcomment,\"score\":score[\"compound\"]}\n",
    "    result.append(temp)\n",
    "df_woman_sentiment=pd.DataFrame(result)\n",
    "df_woman_sentiment.sort_values(by=\"score\",ascending=False)"
   ]
  },
  {
   "cell_type": "markdown",
   "metadata": {},
   "source": [
    "Plotting AskWoman submission scores"
   ]
  },
  {
   "cell_type": "code",
   "execution_count": 17,
   "metadata": {},
   "outputs": [
    {
     "data": {
      "text/plain": [
       "<Figure size 432x288 with 0 Axes>"
      ]
     },
     "metadata": {},
     "output_type": "display_data"
    },
    {
     "data": {
      "image/png": "[encoded data removed]",
      "text/plain": [
       "<Figure size 360x360 with 1 Axes>"
      ]
     },
     "metadata": {
      "needs_background": "light"
     },
     "output_type": "display_data"
    }
   ],
   "source": [
    "plt.tight_layout()\n",
    "sns.displot(df_woman_sentiment.score, bins=20)\n",
    "plt.xlabel(\"Sentiment Score\", size=10)\n",
    "plt.ylabel(\"Count\", size=10)\n",
    "plt.axvline(x=df_woman_sentiment.score.mean(),\n",
    "            color='red')\n",
    "plt.title(\"'AskWoman' Sentiment Score Distribution\", size = 16)\n",
    "plt.savefig('../resources/AskWomanSantiment.png')\n"
   ]
  },
  {
   "cell_type": "markdown",
   "metadata": {},
   "source": [
    "----"
   ]
  },
  {
   "cell_type": "markdown",
   "metadata": {},
   "source": [
    "##### Check for outliers"
   ]
  },
  {
   "cell_type": "code",
   "execution_count": 18,
   "metadata": {},
   "outputs": [
    {
     "name": "stderr",
     "output_type": "stream",
     "text": [
      "/Users/glebradchenko/opt/anaconda3/lib/python3.7/site-packages/seaborn/_decorators.py:43: FutureWarning: Pass the following variable as a keyword arg: x. From version 0.12, the only valid positional argument will be `data`, and passing other arguments without an explicit keyword will result in an error or misinterpretation.\n",
      "  FutureWarning\n"
     ]
    },
    {
     "data": {
      "image/png": "[encoded data removed]",
      "text/plain": [
       "<Figure size 432x288 with 1 Axes>"
      ]
     },
     "metadata": {
      "needs_background": "light"
     },
     "output_type": "display_data"
    }
   ],
   "source": [
    "\n",
    "plt.tight_layout()\n",
    "sns.boxplot(final_df['comment'].str.split(\" \").str.len())\n",
    "plt.savefig('../resources/BoxPlot.png')"
   ]
  },
  {
   "cell_type": "markdown",
   "metadata": {},
   "source": [
    "There are 72 rows with text length more than 3 standart deviations. Concidering, that these values occured not because of the technical error I'll keep them."
   ]
  },
  {
   "cell_type": "code",
   "execution_count": 19,
   "metadata": {},
   "outputs": [
    {
     "data": {
      "text/html": [
       "<div>\n",
       "<style scoped>\n",
       "    .dataframe tbody tr th:only-of-type {\n",
       "        vertical-align: middle;\n",
       "    }\n",
       "\n",
       "    .dataframe tbody tr th {\n",
       "        vertical-align: top;\n",
       "    }\n",
       "\n",
       "    .dataframe thead th {\n",
       "        text-align: right;\n",
       "    }\n",
       "</style>\n",
       "<table border=\"1\" class=\"dataframe\">\n",
       "  <thead>\n",
       "    <tr style=\"text-align: right;\">\n",
       "      <th></th>\n",
       "      <th>comment</th>\n",
       "      <th>sex</th>\n",
       "    </tr>\n",
       "  </thead>\n",
       "  <tbody>\n",
       "    <tr>\n",
       "      <th>81</th>\n",
       "      <td>over here canada have some restriction currently place that shut down lot social place our restaurant take out only right now and bar completely close use occasionally to the club and social when have the opportunity but even then people restrict their table and really hinder the social part not currently school right now don have that social aspect my life meet people and interact understand ...</td>\n",
       "      <td>1</td>\n",
       "    </tr>\n",
       "    <tr>\n",
       "      <th>85</th>\n",
       "      <td>worry that just deny because feel ashamed think lose this isn the case honest don have issue he want sleep with other girl understand some people just like that and want he happy use have issue with as lie I when find out hit this other woman while say want exclusive but don anymore however have issue with dishonesty also portray lot thing differently the begin our relationship like how strong...</td>\n",
       "      <td>1</td>\n",
       "    </tr>\n",
       "    <tr>\n",
       "      <th>181</th>\n",
       "      <td>this difficult one date this girl for        and half month and        date with she our date generally really good and she act interest she the sweetest most lie back lady meet think myself this too good true she like kiss and have sex the date she take back her place hell yesterday morning she cook breakfast for from her own heart while sit and watch good point        her dad know about and ...</td>\n",
       "      <td>1</td>\n",
       "    </tr>\n",
       "    <tr>\n",
       "      <th>208</th>\n",
       "      <td>so just get out        year relationship not too long ago about over        month and the break come for awhile only couple day later the person have lot history he in ex coworker and use just have casual sex texte we then few night later have sex and pick up and        intention sleepover his apartment cuddle which never happen before and watch netflix the next morning and take home nothing m...</td>\n",
       "      <td>1</td>\n",
       "    </tr>\n",
       "    <tr>\n",
       "      <th>246</th>\n",
       "      <td>hey guy        year old man here my final year university date for the past        year and leave disillusioned and weary really lose interest it because haven make much headway after        year all friend this point seem atleast one two relationship under their belt just feel like miss out the most fun year my life term date and sex and hard not feel negative and angry about we in our prime ...</td>\n",
       "      <td>1</td>\n",
       "    </tr>\n",
       "    <tr>\n",
       "      <th>...</th>\n",
       "      <td>...</td>\n",
       "      <td>...</td>\n",
       "    </tr>\n",
       "    <tr>\n",
       "      <th>3816</th>\n",
       "      <td>tldr lot movie and show have unnecessary scene especially write man and just wonder how you guy feel about the story author when you see these thing especially when frequently in perverse way long version for abhor pe scene especially they unnecessary frequent and have purpose sometimes even loathe own gender when watch scene where the scene make out sexy with show try show the sex part it mor...</td>\n",
       "      <td>0</td>\n",
       "    </tr>\n",
       "    <tr>\n",
       "      <th>3843</th>\n",
       "      <td>english not first language ex and meet university re study together now re from latin america she an instagram model didn have social medium she make one from day one meet school click quickly agree not involve emotionally amp give year she don marry she shoot when not around she text to know where amp keep call texting until join she and her friend we use hang out every day week after kiss am...</td>\n",
       "      <td>0</td>\n",
       "    </tr>\n",
       "    <tr>\n",
       "      <th>3866</th>\n",
       "      <td>talk this girl for little bit now she be friend now for long time very many year not like close like friendzone anything but recently kind start talk again recently out narcissistically abusive relationship end there decent chance this girl talk quite narcissist imagine the easy good way give you impression this new girl she kind like trailer park trashy loud fun around always talk about every...</td>\n",
       "      <td>0</td>\n",
       "    </tr>\n",
       "    <tr>\n",
       "      <th>3935</th>\n",
       "      <td>not quite sure this the appropriate sub but here go and sorry kind of long don get wrong really like wear earring wear they pretty consistently until high school and almost always they stud as mom call they keep earring however have bad habit lose one the two stud render the remain one practically useless don wear earring very much now mainly because they hurt but also because don buy cute ear...</td>\n",
       "      <td>0</td>\n",
       "    </tr>\n",
       "    <tr>\n",
       "      <th>3991</th>\n",
       "      <td>for context friend and good friend since        grade now marry        husband        friend        visit from florida month after move california re still settle but think good idea come for his        which the time think too aslong have job well get that job and not the kind job just call off willy nilly just request off whenever express that since new job go to able take too much time off ...</td>\n",
       "      <td>0</td>\n",
       "    </tr>\n",
       "  </tbody>\n",
       "</table>\n",
       "<p>72 rows × 2 columns</p>\n",
       "</div>"
      ],
      "text/plain": [
       "                                                                                                                                                                                                                                                                                                                                                                                                              comment  \\\n",
       "81    over here canada have some restriction currently place that shut down lot social place our restaurant take out only right now and bar completely close use occasionally to the club and social when have the opportunity but even then people restrict their table and really hinder the social part not currently school right now don have that social aspect my life meet people and interact understand ...   \n",
       "85    worry that just deny because feel ashamed think lose this isn the case honest don have issue he want sleep with other girl understand some people just like that and want he happy use have issue with as lie I when find out hit this other woman while say want exclusive but don anymore however have issue with dishonesty also portray lot thing differently the begin our relationship like how strong...   \n",
       "181   this difficult one date this girl for        and half month and        date with she our date generally really good and she act interest she the sweetest most lie back lady meet think myself this too good true she like kiss and have sex the date she take back her place hell yesterday morning she cook breakfast for from her own heart while sit and watch good point        her dad know about and ...   \n",
       "208   so just get out        year relationship not too long ago about over        month and the break come for awhile only couple day later the person have lot history he in ex coworker and use just have casual sex texte we then few night later have sex and pick up and        intention sleepover his apartment cuddle which never happen before and watch netflix the next morning and take home nothing m...   \n",
       "246   hey guy        year old man here my final year university date for the past        year and leave disillusioned and weary really lose interest it because haven make much headway after        year all friend this point seem atleast one two relationship under their belt just feel like miss out the most fun year my life term date and sex and hard not feel negative and angry about we in our prime ...   \n",
       "...                                                                                                                                                                                                                                                                                                                                                                                                               ...   \n",
       "3816  tldr lot movie and show have unnecessary scene especially write man and just wonder how you guy feel about the story author when you see these thing especially when frequently in perverse way long version for abhor pe scene especially they unnecessary frequent and have purpose sometimes even loathe own gender when watch scene where the scene make out sexy with show try show the sex part it mor...   \n",
       "3843  english not first language ex and meet university re study together now re from latin america she an instagram model didn have social medium she make one from day one meet school click quickly agree not involve emotionally amp give year she don marry she shoot when not around she text to know where amp keep call texting until join she and her friend we use hang out every day week after kiss am...   \n",
       "3866  talk this girl for little bit now she be friend now for long time very many year not like close like friendzone anything but recently kind start talk again recently out narcissistically abusive relationship end there decent chance this girl talk quite narcissist imagine the easy good way give you impression this new girl she kind like trailer park trashy loud fun around always talk about every...   \n",
       "3935  not quite sure this the appropriate sub but here go and sorry kind of long don get wrong really like wear earring wear they pretty consistently until high school and almost always they stud as mom call they keep earring however have bad habit lose one the two stud render the remain one practically useless don wear earring very much now mainly because they hurt but also because don buy cute ear...   \n",
       "3991  for context friend and good friend since        grade now marry        husband        friend        visit from florida month after move california re still settle but think good idea come for his        which the time think too aslong have job well get that job and not the kind job just call off willy nilly just request off whenever express that since new job go to able take too much time off ...   \n",
       "\n",
       "      sex  \n",
       "81      1  \n",
       "85      1  \n",
       "181     1  \n",
       "208     1  \n",
       "246     1  \n",
       "...   ...  \n",
       "3816    0  \n",
       "3843    0  \n",
       "3866    0  \n",
       "3935    0  \n",
       "3991    0  \n",
       "\n",
       "[72 rows x 2 columns]"
      ]
     },
     "execution_count": 19,
     "metadata": {},
     "output_type": "execute_result"
    }
   ],
   "source": [
    "final_df[(np.abs(stats.zscore(final_df[\"comment\"].str.len())) > 3)]\n"
   ]
  },
  {
   "cell_type": "markdown",
   "metadata": {},
   "source": [
    "##### Dropping Stopwords"
   ]
  },
  {
   "cell_type": "code",
   "execution_count": 20,
   "metadata": {},
   "outputs": [],
   "source": [
    "# I am using both SpaCy and nltk colections, as they are slightly different\n",
    "def drop_stopwords(str):\n",
    "    result=\"\"\n",
    "    for word in str.split(' '):\n",
    "        if word not in nlp.Defaults.stop_words:\n",
    "            if word not in stopwords.words('english'):\n",
    "                result+=word\n",
    "                result+=\" \"\n",
    "\n",
    "    return result.strip()"
   ]
  },
  {
   "cell_type": "code",
   "execution_count": 21,
   "metadata": {},
   "outputs": [
    {
     "data": {
      "text/html": [
       "<div>\n",
       "<style scoped>\n",
       "    .dataframe tbody tr th:only-of-type {\n",
       "        vertical-align: middle;\n",
       "    }\n",
       "\n",
       "    .dataframe tbody tr th {\n",
       "        vertical-align: top;\n",
       "    }\n",
       "\n",
       "    .dataframe thead th {\n",
       "        text-align: right;\n",
       "    }\n",
       "</style>\n",
       "<table border=\"1\" class=\"dataframe\">\n",
       "  <thead>\n",
       "    <tr style=\"text-align: right;\">\n",
       "      <th></th>\n",
       "      <th>comment</th>\n",
       "      <th>sex</th>\n",
       "    </tr>\n",
       "  </thead>\n",
       "  <tbody>\n",
       "    <tr>\n",
       "      <th>0</th>\n",
       "      <td>time relationship disinterested second</td>\n",
       "      <td>1</td>\n",
       "    </tr>\n",
       "    <tr>\n",
       "      <th>1</th>\n",
       "      <td>big crush boyfriend hand holding afraid</td>\n",
       "      <td>1</td>\n",
       "    </tr>\n",
       "    <tr>\n",
       "      <th>2</th>\n",
       "      <td>man manipulate gaslight girl core intention like girl leave aware thank</td>\n",
       "      <td>1</td>\n",
       "    </tr>\n",
       "    <tr>\n",
       "      <th>3</th>\n",
       "      <td>real example hey council pick friday home help bed frame sidewalk switch shift dinner plan steak pasta shop male housemate steak sound good send meme hey        clock work I know invite        happen tuesday awk friend        amp        iron thing male friend send meme sound good hey boss end extended meeting need reschedule dinner mum come early meet person time nah way manage send question i...</td>\n",
       "      <td>1</td>\n",
       "    </tr>\n",
       "    <tr>\n",
       "      <th>4</th>\n",
       "      <td>ok situation happen lot sit friend friend friend leave sit talk awkward</td>\n",
       "      <td>1</td>\n",
       "    </tr>\n",
       "    <tr>\n",
       "      <th>...</th>\n",
       "      <td>...</td>\n",
       "      <td>...</td>\n",
       "    </tr>\n",
       "    <tr>\n",
       "      <th>4067</th>\n",
       "      <td>encounter issue</td>\n",
       "      <td>0</td>\n",
       "    </tr>\n",
       "    <tr>\n",
       "      <th>4068</th>\n",
       "      <td>think thing person hold face hand kiss suppose super hot super romantic wonder think</td>\n",
       "      <td>0</td>\n",
       "    </tr>\n",
       "    <tr>\n",
       "      <th>4069</th>\n",
       "      <td>usually listen music watch movie</td>\n",
       "      <td>0</td>\n",
       "    </tr>\n",
       "    <tr>\n",
       "      <th>4070</th>\n",
       "      <td>comment hookup outfit</td>\n",
       "      <td>0</td>\n",
       "    </tr>\n",
       "    <tr>\n",
       "      <th>4071</th>\n",
       "      <td>contraceptive woman feel like trash</td>\n",
       "      <td>0</td>\n",
       "    </tr>\n",
       "  </tbody>\n",
       "</table>\n",
       "<p>4049 rows × 2 columns</p>\n",
       "</div>"
      ],
      "text/plain": [
       "                                                                                                                                                                                                                                                                                                                                                                                                              comment  \\\n",
       "0                                                                                                                                                                                                                                                                                                                                                                              time relationship disinterested second   \n",
       "1                                                                                                                                                                                                                                                                                                                                                                             big crush boyfriend hand holding afraid   \n",
       "2                                                                                                                                                                                                                                                                                                                                             man manipulate gaslight girl core intention like girl leave aware thank   \n",
       "3     real example hey council pick friday home help bed frame sidewalk switch shift dinner plan steak pasta shop male housemate steak sound good send meme hey        clock work I know invite        happen tuesday awk friend        amp        iron thing male friend send meme sound good hey boss end extended meeting need reschedule dinner mum come early meet person time nah way manage send question i...   \n",
       "4                                                                                                                                                                                                                                                                                                                                             ok situation happen lot sit friend friend friend leave sit talk awkward   \n",
       "...                                                                                                                                                                                                                                                                                                                                                                                                               ...   \n",
       "4067                                                                                                                                                                                                                                                                                                                                                                                                  encounter issue   \n",
       "4068                                                                                                                                                                                                                                                                                                                             think thing person hold face hand kiss suppose super hot super romantic wonder think   \n",
       "4069                                                                                                                                                                                                                                                                                                                                                                                 usually listen music watch movie   \n",
       "4070                                                                                                                                                                                                                                                                                                                                                                                            comment hookup outfit   \n",
       "4071                                                                                                                                                                                                                                                                                                                                                                              contraceptive woman feel like trash   \n",
       "\n",
       "      sex  \n",
       "0       1  \n",
       "1       1  \n",
       "2       1  \n",
       "3       1  \n",
       "4       1  \n",
       "...   ...  \n",
       "4067    0  \n",
       "4068    0  \n",
       "4069    0  \n",
       "4070    0  \n",
       "4071    0  \n",
       "\n",
       "[4049 rows x 2 columns]"
      ]
     },
     "execution_count": 21,
     "metadata": {},
     "output_type": "execute_result"
    }
   ],
   "source": [
    "df=final_df.copy()\n",
    "df['comment']=df['comment'].apply(lambda x: drop_stopwords(x))\n",
    "df=df[df['comment']!=\"\"]\n",
    "\n",
    "df"
   ]
  },
  {
   "cell_type": "markdown",
   "metadata": {},
   "source": [
    "Saving point"
   ]
  },
  {
   "cell_type": "code",
   "execution_count": null,
   "metadata": {},
   "outputs": [],
   "source": [
    "#saving file\n",
    "df.to_csv(\"../data/df_submissions.csv\",index=False)"
   ]
  },
  {
   "cell_type": "code",
   "execution_count": 22,
   "metadata": {},
   "outputs": [],
   "source": [
    "df[\"sub_word_count\"]=df['comment'].str.split(\" \").str.len()\n",
    "df[\"sub_length\"]= df['comment'].str.len()"
   ]
  },
  {
   "cell_type": "code",
   "execution_count": 23,
   "metadata": {},
   "outputs": [
    {
     "data": {
      "text/html": [
       "<div>\n",
       "<style scoped>\n",
       "    .dataframe tbody tr th:only-of-type {\n",
       "        vertical-align: middle;\n",
       "    }\n",
       "\n",
       "    .dataframe tbody tr th {\n",
       "        vertical-align: top;\n",
       "    }\n",
       "\n",
       "    .dataframe thead th {\n",
       "        text-align: right;\n",
       "    }\n",
       "</style>\n",
       "<table border=\"1\" class=\"dataframe\">\n",
       "  <thead>\n",
       "    <tr style=\"text-align: right;\">\n",
       "      <th></th>\n",
       "      <th>comment</th>\n",
       "      <th>sex</th>\n",
       "      <th>sub_word_count</th>\n",
       "      <th>sub_length</th>\n",
       "    </tr>\n",
       "  </thead>\n",
       "  <tbody>\n",
       "    <tr>\n",
       "      <th>1559</th>\n",
       "      <td>reply</td>\n",
       "      <td>1</td>\n",
       "      <td>1</td>\n",
       "      <td>5</td>\n",
       "    </tr>\n",
       "    <tr>\n",
       "      <th>2494</th>\n",
       "      <td>hit</td>\n",
       "      <td>0</td>\n",
       "      <td>1</td>\n",
       "      <td>3</td>\n",
       "    </tr>\n",
       "    <tr>\n",
       "      <th>3743</th>\n",
       "      <td>end</td>\n",
       "      <td>0</td>\n",
       "      <td>1</td>\n",
       "      <td>3</td>\n",
       "    </tr>\n",
       "    <tr>\n",
       "      <th>3310</th>\n",
       "      <td>know</td>\n",
       "      <td>0</td>\n",
       "      <td>1</td>\n",
       "      <td>4</td>\n",
       "    </tr>\n",
       "    <tr>\n",
       "      <th>272</th>\n",
       "      <td>long</td>\n",
       "      <td>1</td>\n",
       "      <td>1</td>\n",
       "      <td>4</td>\n",
       "    </tr>\n",
       "    <tr>\n",
       "      <th>...</th>\n",
       "      <td>...</td>\n",
       "      <td>...</td>\n",
       "      <td>...</td>\n",
       "      <td>...</td>\n",
       "    </tr>\n",
       "    <tr>\n",
       "      <th>3488</th>\n",
       "      <td>bit long feel detail important couple week ago girl        match        tinder cute stereotypical beauty definitely league immediately comment cute photo text ask hang later night work early end hang exchange handful text night morning ask hang night busy forget reply persistent meet intrigue figure know want end night later decent time bar feel natural hit lot common friend pretty drunk touch...</td>\n",
       "      <td>0</td>\n",
       "      <td>429</td>\n",
       "      <td>2366</td>\n",
       "    </tr>\n",
       "    <tr>\n",
       "      <th>2101</th>\n",
       "      <td>bit long feel detail important couple week ago girl        match        tinder cute stereotypical beauty definitely league immediately comment cute photo text ask hang later night work early end hang exchange handful text night morning ask hang night busy forget reply persistent meet intrigue figure know want end night later decent time bar feel natural hit lot common friend pretty drunk touch...</td>\n",
       "      <td>0</td>\n",
       "      <td>451</td>\n",
       "      <td>2499</td>\n",
       "    </tr>\n",
       "    <tr>\n",
       "      <th>2739</th>\n",
       "      <td>sister turn          day ago mum british bear pakistani come like ton brick regard marriage sister        toxic childish manipulate argumentative immature think mum pick want rid regardless good day sister nice girl introverted speak guy life mind relationship awkward old fashioned regard sex dating etc speak marriage want marry mum desperate sister find lot poor experience        fail arrange...</td>\n",
       "      <td>0</td>\n",
       "      <td>452</td>\n",
       "      <td>2637</td>\n",
       "    </tr>\n",
       "    <tr>\n",
       "      <th>3734</th>\n",
       "      <td>hi hope write right place read red flag relationship early know relationship toxic ex        meet bf november          sweet approach different way boy catch speak spiritually manifestation love language interested lot heal journey lose dad lose father similar way connect long list red flag relationship thing possibly wrong        want right away insist know care know        ily early        b...</td>\n",
       "      <td>0</td>\n",
       "      <td>460</td>\n",
       "      <td>1887</td>\n",
       "    </tr>\n",
       "    <tr>\n",
       "      <th>3297</th>\n",
       "      <td>good evening like preface story turn bind need advise wife        marry        year             amazing kid                   year old prior relationship thing rocky long time hold past vengeance live extremely comfortable life great home lot yard kid dog play roam need financially meet wife dream        leave beaver image white picket fence mom stay home kid work          dinner table        ...</td>\n",
       "      <td>0</td>\n",
       "      <td>529</td>\n",
       "      <td>2702</td>\n",
       "    </tr>\n",
       "  </tbody>\n",
       "</table>\n",
       "<p>4049 rows × 4 columns</p>\n",
       "</div>"
      ],
      "text/plain": [
       "                                                                                                                                                                                                                                                                                                                                                                                                              comment  \\\n",
       "1559                                                                                                                                                                                                                                                                                                                                                                                                            reply   \n",
       "2494                                                                                                                                                                                                                                                                                                                                                                                                              hit   \n",
       "3743                                                                                                                                                                                                                                                                                                                                                                                                              end   \n",
       "3310                                                                                                                                                                                                                                                                                                                                                                                                             know   \n",
       "272                                                                                                                                                                                                                                                                                                                                                                                                              long   \n",
       "...                                                                                                                                                                                                                                                                                                                                                                                                               ...   \n",
       "3488  bit long feel detail important couple week ago girl        match        tinder cute stereotypical beauty definitely league immediately comment cute photo text ask hang later night work early end hang exchange handful text night morning ask hang night busy forget reply persistent meet intrigue figure know want end night later decent time bar feel natural hit lot common friend pretty drunk touch...   \n",
       "2101  bit long feel detail important couple week ago girl        match        tinder cute stereotypical beauty definitely league immediately comment cute photo text ask hang later night work early end hang exchange handful text night morning ask hang night busy forget reply persistent meet intrigue figure know want end night later decent time bar feel natural hit lot common friend pretty drunk touch...   \n",
       "2739  sister turn          day ago mum british bear pakistani come like ton brick regard marriage sister        toxic childish manipulate argumentative immature think mum pick want rid regardless good day sister nice girl introverted speak guy life mind relationship awkward old fashioned regard sex dating etc speak marriage want marry mum desperate sister find lot poor experience        fail arrange...   \n",
       "3734  hi hope write right place read red flag relationship early know relationship toxic ex        meet bf november          sweet approach different way boy catch speak spiritually manifestation love language interested lot heal journey lose dad lose father similar way connect long list red flag relationship thing possibly wrong        want right away insist know care know        ily early        b...   \n",
       "3297  good evening like preface story turn bind need advise wife        marry        year             amazing kid                   year old prior relationship thing rocky long time hold past vengeance live extremely comfortable life great home lot yard kid dog play roam need financially meet wife dream        leave beaver image white picket fence mom stay home kid work          dinner table        ...   \n",
       "\n",
       "      sex  sub_word_count  sub_length  \n",
       "1559    1               1           5  \n",
       "2494    0               1           3  \n",
       "3743    0               1           3  \n",
       "3310    0               1           4  \n",
       "272     1               1           4  \n",
       "...   ...             ...         ...  \n",
       "3488    0             429        2366  \n",
       "2101    0             451        2499  \n",
       "2739    0             452        2637  \n",
       "3734    0             460        1887  \n",
       "3297    0             529        2702  \n",
       "\n",
       "[4049 rows x 4 columns]"
      ]
     },
     "execution_count": 23,
     "metadata": {},
     "output_type": "execute_result"
    }
   ],
   "source": [
    "df.sort_values(by=\"sub_word_count\")"
   ]
  },
  {
   "cell_type": "markdown",
   "metadata": {},
   "source": [
    "##### EDA by subreddits"
   ]
  },
  {
   "cell_type": "code",
   "execution_count": 24,
   "metadata": {},
   "outputs": [
    {
     "data": {
      "text/html": [
       "<div>\n",
       "<style scoped>\n",
       "    .dataframe tbody tr th:only-of-type {\n",
       "        vertical-align: middle;\n",
       "    }\n",
       "\n",
       "    .dataframe tbody tr th {\n",
       "        vertical-align: top;\n",
       "    }\n",
       "\n",
       "    .dataframe thead tr th {\n",
       "        text-align: left;\n",
       "    }\n",
       "\n",
       "    .dataframe thead tr:last-of-type th {\n",
       "        text-align: right;\n",
       "    }\n",
       "</style>\n",
       "<table border=\"1\" class=\"dataframe\">\n",
       "  <thead>\n",
       "    <tr>\n",
       "      <th></th>\n",
       "      <th colspan=\"3\" halign=\"left\">sub_word_count</th>\n",
       "      <th colspan=\"3\" halign=\"left\">sub_length</th>\n",
       "    </tr>\n",
       "    <tr>\n",
       "      <th></th>\n",
       "      <th>mean</th>\n",
       "      <th>max</th>\n",
       "      <th>min</th>\n",
       "      <th>mean</th>\n",
       "      <th>max</th>\n",
       "      <th>min</th>\n",
       "    </tr>\n",
       "    <tr>\n",
       "      <th>sex</th>\n",
       "      <th></th>\n",
       "      <th></th>\n",
       "      <th></th>\n",
       "      <th></th>\n",
       "      <th></th>\n",
       "      <th></th>\n",
       "    </tr>\n",
       "  </thead>\n",
       "  <tbody>\n",
       "    <tr>\n",
       "      <th>0</th>\n",
       "      <td>21.473317</td>\n",
       "      <td>529</td>\n",
       "      <td>1</td>\n",
       "      <td>122.098254</td>\n",
       "      <td>2702</td>\n",
       "      <td>1</td>\n",
       "    </tr>\n",
       "    <tr>\n",
       "      <th>1</th>\n",
       "      <td>29.674168</td>\n",
       "      <td>369</td>\n",
       "      <td>1</td>\n",
       "      <td>167.227984</td>\n",
       "      <td>2062</td>\n",
       "      <td>2</td>\n",
       "    </tr>\n",
       "  </tbody>\n",
       "</table>\n",
       "</div>"
      ],
      "text/plain": [
       "    sub_word_count           sub_length          \n",
       "              mean  max min        mean   max min\n",
       "sex                                              \n",
       "0        21.473317  529   1  122.098254  2702   1\n",
       "1        29.674168  369   1  167.227984  2062   2"
      ]
     },
     "execution_count": 24,
     "metadata": {},
     "output_type": "execute_result"
    }
   ],
   "source": [
    "df.groupby('sex').agg(['mean',\"max\",\"min\"])"
   ]
  },
  {
   "cell_type": "markdown",
   "metadata": {},
   "source": [
    "Submissions at AskMan are 40 percents longer, than at AskWoman and have 25 percent more words. But the longest by length and by words amount submissions are in AskWoman section."
   ]
  },
  {
   "cell_type": "markdown",
   "metadata": {},
   "source": [
    "Plot of words and submission length distributions"
   ]
  },
  {
   "cell_type": "code",
   "execution_count": 25,
   "metadata": {},
   "outputs": [
    {
     "data": {
      "text/plain": [
       "<Figure size 432x288 with 0 Axes>"
      ]
     },
     "metadata": {},
     "output_type": "display_data"
    },
    {
     "data": {
      "image/png": "[encoded data removed]",
      "text/plain": [
       "<Figure size 1152x864 with 4 Axes>"
      ]
     },
     "metadata": {
      "needs_background": "light"
     },
     "output_type": "display_data"
    }
   ],
   "source": [
    "plt.tight_layout()\n",
    "\n",
    "plt.subplots_adjust(hspace=.2)\n",
    "plt.figure(figsize=(16,12))\n",
    "plt.subplot(2, 2, 1)\n",
    "#AskMan Word Count\n",
    "plt.title('AskMan Word Count')\n",
    "sns.histplot(df[df[\"sex\"]==1]['sub_word_count'],bins=50,)\n",
    "plt.ylim(0, 1300)\n",
    "plt.xlabel('Words count')\n",
    "plt.ylabel('Submissions')\n",
    "#AskMan Submission Length\n",
    "plt.subplot(2, 2, 2)\n",
    "plt.title('AskMan Submission Length')\n",
    "sns.histplot(df[df[\"sex\"]==1]['sub_length'],bins=50)\n",
    "plt.ylim(0, 1300)\n",
    "plt.xlabel('Length')\n",
    "plt.ylabel('Count')\n",
    "#AskWoman Word Count\n",
    "plt.subplot(2, 2, 3)\n",
    "plt.title('AskWoman Word Count')\n",
    "sns.histplot(df[df[\"sex\"]==0]['sub_word_count'],bins=50,)\n",
    "plt.ylim(0, 1300)\n",
    "plt.xlabel('Words count')\n",
    "plt.ylabel('Submissions')\n",
    "#AskWoman Submission Length\n",
    "plt.subplot(2, 2, 4)\n",
    "plt.title('AskWoman Submission Length')\n",
    "sns.histplot(df[df[\"sex\"]==0]['sub_length'],bins=50)\n",
    "plt.ylim(0, 1300)\n",
    "plt.xlabel('Length')\n",
    "plt.ylabel('Count')\n",
    "\n",
    "plt.savefig('../resources/Distribution_submissions.png')\n",
    "plt.show()"
   ]
  },
  {
   "cell_type": "markdown",
   "metadata": {},
   "source": [
    "##### Summary"
   ]
  },
  {
   "cell_type": "markdown",
   "metadata": {},
   "source": [
    "Word count statisticks"
   ]
  },
  {
   "cell_type": "code",
   "execution_count": 26,
   "metadata": {},
   "outputs": [
    {
     "name": "stdout",
     "output_type": "stream",
     "text": [
      "count    2044.000000\n",
      "mean       29.674168\n",
      "std        35.007859\n",
      "min         1.000000\n",
      "25%         8.000000\n",
      "50%        18.000000\n",
      "75%        39.000000\n",
      "max       369.000000\n",
      "Name: sub_word_count, dtype: float64\n"
     ]
    },
    {
     "data": {
      "text/plain": [
       "count    2005.000000\n",
       "mean       21.473317\n",
       "std        40.374296\n",
       "min         1.000000\n",
       "25%         5.000000\n",
       "50%         8.000000\n",
       "75%        20.000000\n",
       "max       529.000000\n",
       "Name: sub_word_count, dtype: float64"
      ]
     },
     "execution_count": 26,
     "metadata": {},
     "output_type": "execute_result"
    }
   ],
   "source": [
    "print(df[df[\"sex\"]==1]['sub_word_count'].describe())\n",
    "df[df[\"sex\"]==0]['sub_word_count'].describe()"
   ]
  },
  {
   "cell_type": "markdown",
   "metadata": {},
   "source": [
    "Submission length statisticks"
   ]
  },
  {
   "cell_type": "code",
   "execution_count": null,
   "metadata": {},
   "outputs": [
    {
     "data": {
      "text/plain": [
       "(count    2044.000000\n",
       " mean      165.909980\n",
       " std       193.793987\n",
       " min         2.000000\n",
       " 25%        48.000000\n",
       " 50%       103.500000\n",
       " 75%       213.000000\n",
       " max      2052.000000\n",
       " Name: sub_length, dtype: float64,\n",
       " count    2005.000000\n",
       " mean      121.145636\n",
       " std       217.865067\n",
       " min         1.000000\n",
       " 25%        30.000000\n",
       " 50%        52.000000\n",
       " 75%       117.000000\n",
       " max      2660.000000\n",
       " Name: sub_length, dtype: float64)"
      ]
     },
     "execution_count": 1900,
     "metadata": {},
     "output_type": "execute_result"
    }
   ],
   "source": [
    "df[df[\"sex\"]==1]['sub_length'].describe(),df[df[\"sex\"]==0]['sub_length'].describe()"
   ]
  },
  {
   "cell_type": "markdown",
   "metadata": {},
   "source": [
    "Heatmap"
   ]
  },
  {
   "cell_type": "code",
   "execution_count": 27,
   "metadata": {},
   "outputs": [
    {
     "data": {
      "text/plain": [
       "<AxesSubplot:>"
      ]
     },
     "execution_count": 27,
     "metadata": {},
     "output_type": "execute_result"
    },
    {
     "data": {
      "image/png": "[encoded data removed]",
      "text/plain": [
       "<Figure size 432x288 with 2 Axes>"
      ]
     },
     "metadata": {
      "needs_background": "light"
     },
     "output_type": "display_data"
    }
   ],
   "source": [
    "sns.heatmap(df.corr(),annot=True, vmin=-1,vmax=1,cmap=\"viridis\")"
   ]
  },
  {
   "cell_type": "markdown",
   "metadata": {},
   "source": [
    "Strong correaltion between word count, and submission lenght. But that is essential."
   ]
  },
  {
   "cell_type": "markdown",
   "metadata": {},
   "source": [
    "Pairplot"
   ]
  },
  {
   "cell_type": "code",
   "execution_count": 28,
   "metadata": {},
   "outputs": [
    {
     "data": {
      "text/plain": [
       "<seaborn.axisgrid.PairGrid at 0x7fd498dcdc50>"
      ]
     },
     "execution_count": 28,
     "metadata": {},
     "output_type": "execute_result"
    },
    {
     "data": {
      "image/png": "[encoded data removed]",
      "text/plain": [
       "<Figure size 540x540 with 9 Axes>"
      ]
     },
     "metadata": {
      "needs_background": "light"
     },
     "output_type": "display_data"
    }
   ],
   "source": [
    "sns.pairplot(df,corner=True)"
   ]
  },
  {
   "cell_type": "markdown",
   "metadata": {},
   "source": [
    "Strong correaltion between word count, and submission lenght. But that is essential."
   ]
  },
  {
   "cell_type": "markdown",
   "metadata": {},
   "source": [
    "_____\n",
    "##### Finding bigrams"
   ]
  },
  {
   "cell_type": "code",
   "execution_count": 29,
   "metadata": {},
   "outputs": [],
   "source": [
    "\n",
    "def bigrams_clean(list_f):\n",
    "    try:\n",
    "       for x in list_f:\n",
    "         if x==\"\":\n",
    "          return \"np.NAN\"\n",
    "         elif x==\" \":   \n",
    "            return \"np.NAN\"\n",
    "         else:\n",
    "\n",
    "            return list_f\n",
    "          \n",
    "    except:\n",
    "       p=1\n"
   ]
  },
  {
   "cell_type": "code",
   "execution_count": 30,
   "metadata": {},
   "outputs": [],
   "source": [
    "bigram_freq = lambda s: list(nltk.FreqDist(nltk.bigrams(s.strip().split(\" \"))).items())\n",
    "\n",
    "out = df['comment'].apply(bigram_freq).explode()\n",
    "\n",
    "\n",
    "out = pd.DataFrame(out.to_list(), index=out.index, columns=[\"submissions\", \"bigrams\"])\n",
    "#bigram made some mistakes, so I had to make cleaning\n",
    "for x,k in enumerate(out.iloc[:,0]):\n",
    "    try:\n",
    "        if k[0]==\"\":\n",
    "            out.iloc[x,0]=np.nan\n",
    "        if k[1]==\"\":\n",
    "            out.iloc[x,0]=np.nan\n",
    "    except:\n",
    "        p=1\n",
    "out=out.dropna()\n",
    "bigram_count=out[\"submissions\"].value_counts().head(20)"
   ]
  },
  {
   "cell_type": "markdown",
   "metadata": {},
   "source": [
    "Plotting a bar graph of the most frequnt bigrams\n"
   ]
  },
  {
   "cell_type": "code",
   "execution_count": 31,
   "metadata": {},
   "outputs": [
    {
     "name": "stderr",
     "output_type": "stream",
     "text": [
      "/Users/glebradchenko/opt/anaconda3/lib/python3.7/site-packages/seaborn/_decorators.py:43: FutureWarning: Pass the following variables as keyword args: x, y. From version 0.12, the only valid positional argument will be `data`, and passing other arguments without an explicit keyword will result in an error or misinterpretation.\n",
      "  FutureWarning\n"
     ]
    },
    {
     "data": {
      "text/plain": [
       "<Figure size 432x288 with 0 Axes>"
      ]
     },
     "metadata": {},
     "output_type": "display_data"
    },
    {
     "data": {
      "image/png": "[encoded data removed]",
      "text/plain": [
       "<Figure size 1080x360 with 1 Axes>"
      ]
     },
     "metadata": {
      "needs_background": "light"
     },
     "output_type": "display_data"
    }
   ],
   "source": [
    "# Plotting a bar graph of the most frequnt bigrams\n",
    "plt.tight_layout()\n",
    "bigram_count = bigram_count[:10,]\n",
    "plt.figure(figsize=(15,5))\n",
    "sns.barplot(bigram_count.index, bigram_count.values, alpha=0.8)\n",
    "plt.title('Most frequent bigrams in both datasets')\n",
    "plt.ylabel('Number of Occurrences', fontsize=12)\n",
    "plt.xlabel('bigram', fontsize=12)\n",
    "plt.savefig('../resources/bigrams.png')\n",
    "plt.show();"
   ]
  },
  {
   "cell_type": "markdown",
   "metadata": {},
   "source": [
    "Most of bigrams are basic expressions and common words pairs"
   ]
  },
  {
   "cell_type": "code",
   "execution_count": null,
   "metadata": {},
   "outputs": [],
   "source": [
    "bigram_freq = lambda s: list(nltk.FreqDist(nltk.trigrams(s.split(\" \"))).items())\n",
    "\n",
    "out = df['comment'].apply(bigram_freq).explode()\n",
    "out = pd.DataFrame(out.to_list(), index=out.index, columns=[\"submissions\", \"bigrams\"])\n",
    "for x,k in enumerate(out.iloc[:,0]):\n",
    "    try:\n",
    "        if k[0]==\"\":\n",
    "            out.iloc[x,0]=np.nan\n",
    "        if k[1]==\"\":\n",
    "            out.iloc[x,0]=np.nan\n",
    "        if k[2]==\"\":\n",
    "            out.iloc[x,0]=np.nan\n",
    "    except:\n",
    "        p=1\n",
    "out=out.dropna()\n",
    "trigram_count=out[\"submissions\"].value_counts().head(20)"
   ]
  },
  {
   "cell_type": "code",
   "execution_count": null,
   "metadata": {},
   "outputs": [
    {
     "name": "stderr",
     "output_type": "stream",
     "text": [
      "/Users/glebradchenko/opt/anaconda3/lib/python3.7/site-packages/seaborn/_decorators.py:43: FutureWarning: Pass the following variables as keyword args: x, y. From version 0.12, the only valid positional argument will be `data`, and passing other arguments without an explicit keyword will result in an error or misinterpretation.\n",
      "  FutureWarning\n"
     ]
    },
    {
     "data": {
      "text/plain": [
       "<Figure size 432x288 with 0 Axes>"
      ]
     },
     "metadata": {},
     "output_type": "display_data"
    },
    {
     "data": {
      "image/png": "[encoded data removed]",
      "text/plain": [
       "<Figure size 1728x720 with 1 Axes>"
      ]
     },
     "metadata": {
      "needs_background": "light"
     },
     "output_type": "display_data"
    }
   ],
   "source": [
    "# Plotting a bar graph of the most frequnt bigrams\n",
    "plt.tight_layout()\n",
    "trigram_count = trigram_count[:10,]\n",
    "plt.figure(figsize=(24,10))\n",
    "sns.barplot(trigram_count.index, trigram_count.values, alpha=0.8)\n",
    "plt.title('Most frequent trigrams in both datasets',fontsize=20)\n",
    "plt.ylabel('Number of Occurrences', fontsize=16)\n",
    "plt.xlabel('Trigram', fontsize=16)\n",
    "plt.xticks(fontsize=10)\n",
    "plt.savefig('../resources/trigrams.png')\n",
    "plt.show();"
   ]
  },
  {
   "cell_type": "markdown",
   "metadata": {},
   "source": [
    "All of those are basic expressions."
   ]
  },
  {
   "cell_type": "markdown",
   "metadata": {},
   "source": [
    "----\n",
    "Tokenization and most frequent words"
   ]
  },
  {
   "cell_type": "code",
   "execution_count": 33,
   "metadata": {},
   "outputs": [],
   "source": [
    "def get_tokens(docs):\n",
    "    df_tokens = []\n",
    "    for x in docs:\n",
    "        man=nlp(x)\n",
    "        for token in man:\n",
    "            t_dict = {\n",
    "            'text': token,\n",
    "            'POS': token.pos_,\n",
    "            'POS explained': spacy.explain(token.pos_),        \n",
    "            'lemma': token.lemma_\n",
    "            }\n",
    "            df_tokens.append(t_dict)\n",
    "        \n",
    "    return pd.DataFrame(df_tokens)"
   ]
  },
  {
   "cell_type": "code",
   "execution_count": 34,
   "metadata": {},
   "outputs": [],
   "source": [
    "docs_man = list(nlp.pipe(df[df['sex']==1][\"comment\"]))\n",
    "docs_woman = list(nlp.pipe(df[df['sex']==0][\"comment\"]))"
   ]
  },
  {
   "cell_type": "code",
   "execution_count": 35,
   "metadata": {},
   "outputs": [],
   "source": [
    "df_man_tokens=get_tokens(docs_man)\n",
    "df_woman_tokens=get_tokens(docs_woman)\n"
   ]
  },
  {
   "cell_type": "code",
   "execution_count": 39,
   "metadata": {},
   "outputs": [],
   "source": [
    "df_man_tokens=df_man_tokens[df_man_tokens[\"POS\"]!=\"AUX\"]\n",
    "df_man_tokens=df_man_tokens[df_man_tokens[\"POS\"]!=\"SPACE\"]\n",
    "df_woman_tokens=df_woman_tokens[df_woman_tokens[\"POS\"]!=\"SPACE\"]\n",
    "df_woman_tokens=df_woman_tokens[df_woman_tokens[\"POS\"]!=\"SPACE\"]\n"
   ]
  },
  {
   "cell_type": "code",
   "execution_count": 43,
   "metadata": {},
   "outputs": [
    {
     "data": {
      "text/plain": [
       "((52380, 4), 5964, (37435, 4), 5097)"
      ]
     },
     "execution_count": 43,
     "metadata": {},
     "output_type": "execute_result"
    }
   ],
   "source": [
    "df_man_tokens.shape,len(set(df_man_tokens.lemma)),df_woman_tokens.shape,len(set(df_woman_tokens.lemma))"
   ]
  },
  {
   "cell_type": "markdown",
   "metadata": {},
   "source": [
    "From 2050 submissions we got 5964 unique words for AskMan and 5097 unique words for AskWoman."
   ]
  },
  {
   "cell_type": "code",
   "execution_count": 38,
   "metadata": {},
   "outputs": [],
   "source": [
    "df_man_tokens.reset_index(inplace=True)\n",
    "df_man_tokens.drop(columns='index',inplace=True)"
   ]
  },
  {
   "cell_type": "code",
   "execution_count": null,
   "metadata": {},
   "outputs": [
    {
     "name": "stderr",
     "output_type": "stream",
     "text": [
      "/Users/glebradchenko/opt/anaconda3/lib/python3.7/site-packages/seaborn/_decorators.py:43: FutureWarning: Pass the following variables as keyword args: x, y. From version 0.12, the only valid positional argument will be `data`, and passing other arguments without an explicit keyword will result in an error or misinterpretation.\n",
      "  FutureWarning\n"
     ]
    },
    {
     "data": {
      "text/plain": [
       "<Figure size 1080x1080 with 0 Axes>"
      ]
     },
     "metadata": {},
     "output_type": "display_data"
    },
    {
     "data": {
      "image/png": "[encoded data removed]",
      "text/plain": [
       "<Figure size 1152x720 with 1 Axes>"
      ]
     },
     "metadata": {
      "needs_background": "light"
     },
     "output_type": "display_data"
    }
   ],
   "source": [
    "plt.figure(figsize=(15,15))\n",
    "man_count=df_man_tokens[\"lemma\"].value_counts().sort_values(ascending=False).head(10)\n",
    "\n",
    "\n",
    "# Plotting a bar graph of the most frequnt words\n",
    "plt.tight_layout()\n",
    "plt.figure(figsize=(16,10))\n",
    "sns.barplot(man_count.index, man_count.values, alpha=0.8,palette='husl')\n",
    "plt.title('Most frequent words in AskMan',fontsize=20)\n",
    "plt.ylabel('Number of Occurrences', fontsize=16)\n",
    "plt.xlabel('Word', fontsize=16)\n",
    "plt.xticks(fontsize=14)\n",
    "plt.savefig('../resources/AskManWords.png')\n",
    "plt.show()"
   ]
  },
  {
   "cell_type": "markdown",
   "metadata": {},
   "source": [
    "These words are so common and being used so often, that we can try to consider them as stopwords to see if that will affect modeling effectiveness.\n"
   ]
  },
  {
   "cell_type": "markdown",
   "metadata": {},
   "source": [
    "### Now let's look at the most popular words in the AskWoman section"
   ]
  },
  {
   "cell_type": "code",
   "execution_count": null,
   "metadata": {},
   "outputs": [
    {
     "name": "stderr",
     "output_type": "stream",
     "text": [
      "/Users/glebradchenko/opt/anaconda3/lib/python3.7/site-packages/seaborn/_decorators.py:43: FutureWarning: Pass the following variables as keyword args: x, y. From version 0.12, the only valid positional argument will be `data`, and passing other arguments without an explicit keyword will result in an error or misinterpretation.\n",
      "  FutureWarning\n"
     ]
    },
    {
     "data": {
      "image/png": "[encoded data removed]",
      "text/plain": [
       "<Figure size 1152x720 with 1 Axes>"
      ]
     },
     "metadata": {
      "needs_background": "light"
     },
     "output_type": "display_data"
    }
   ],
   "source": [
    "df_woman_tokens=df_woman_tokens[df_woman_tokens[\"POS\"]!=\"AUX\"]\n",
    "df_woman_tokens=df_woman_tokens[df_woman_tokens[\"POS\"]!=\"SPACE\"]\n",
    "# df_woman_tokens=df_woman_tokens[df_woman_tokens[\"POS\"]!=\"PROPN\"]\n",
    "df_woman_tokens.reset_index(inplace=True)\n",
    "df_woman_tokens.drop(columns='index',inplace=True)\n",
    "woman_count=df_woman_tokens[\"lemma\"].value_counts().sort_values(ascending=False).head(10)\n",
    "\n",
    "# Plotting a bar graph of the most frequnt words\n",
    "plt.tight_layout()\n",
    "plt.figure(figsize=(16,10))\n",
    "sns.barplot(woman_count.index, woman_count.values, alpha=0.8,palette='husl')\n",
    "plt.title('Most frequent words in AskWoman',fontsize=20)\n",
    "plt.ylabel('Number of Occurrences', fontsize=16)\n",
    "plt.xlabel('Word', fontsize=16)\n",
    "plt.xticks(fontsize=14)\n",
    "plt.savefig('../resources/AskWomanWords.png')\n",
    "plt.show()"
   ]
  },
  {
   "cell_type": "markdown",
   "metadata": {},
   "source": [
    "Same here,these words are so common and being used so often, that we can try to consider them as stopwords to see if that will affect modeling effectiveness.\n"
   ]
  },
  {
   "cell_type": "code",
   "execution_count": 32,
   "metadata": {},
   "outputs": [
    {
     "ename": "NameError",
     "evalue": "name 'df_man_tokens' is not defined",
     "output_type": "error",
     "traceback": [
      "\u001b[0;31m---------------------------------------------------------------------------\u001b[0m",
      "\u001b[0;31mNameError\u001b[0m                                 Traceback (most recent call last)",
      "\u001b[0;32m/var/folders/dr/684wtygx16jdkrv3syzbcvg40000gn/T/ipykernel_88014/2877371978.py\u001b[0m in \u001b[0;36m<module>\u001b[0;34m\u001b[0m\n\u001b[0;32m----> 1\u001b[0;31m \u001b[0mdf_man_tokens\u001b[0m\u001b[0;34m\u001b[0m\u001b[0;34m\u001b[0m\u001b[0m\n\u001b[0m",
      "\u001b[0;31mNameError\u001b[0m: name 'df_man_tokens' is not defined"
     ]
    }
   ],
   "source": [
    "df_man_tokens"
   ]
  },
  {
   "cell_type": "code",
   "execution_count": null,
   "metadata": {},
   "outputs": [],
   "source": []
  }
 ],
 "metadata": {
  "kernelspec": {
   "display_name": "Python 3.7.13 ('base')",
   "language": "python",
   "name": "python3"
  },
  "language_info": {
   "codemirror_mode": {
    "name": "ipython",
    "version": 3
   },
   "file_extension": ".py",
   "mimetype": "text/x-python",
   "name": "python",
   "nbconvert_exporter": "python",
   "pygments_lexer": "ipython3",
   "version": "3.7.13"
  },
  "orig_nbformat": 4,
  "vscode": {
   "interpreter": {
    "hash": "28603a003e0f3f16b61e11e8a1b17d48703271cacfa540e5bfac5b9de251aa54"
   }
  }
 },
 "nbformat": 4,
 "nbformat_minor": 2
}
